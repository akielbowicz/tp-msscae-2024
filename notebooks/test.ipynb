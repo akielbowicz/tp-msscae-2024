{
 "cells": [
  {
   "cell_type": "markdown",
   "id": "78274455-2a28-493b-a34c-7c80470cb379",
   "metadata": {
    "editable": true,
    "slideshow": {
     "slide_type": "slide"
    },
    "tags": []
   },
   "source": [
    "<!-- ## Estudio de la propagación y dinámica de precios a partir de la Matriz de Insumo-Producto (MIP) -->\n",
    "\n",
    "[**Modelado y Simulación de Sistemas Complejos con Aplicaciones en Economía**](https://campus.exactas.uba.ar/enrol/index.php?id=4178)\n",
    "\n",
    "**Departamento de Computación, FCyN, UBA**\n",
    "\n",
    "---\n",
    "\n",
    "**Grupo**: 6\n",
    "\n",
    "**Integrantes**: \n",
    "\n",
    "- Miguel De Lillo, miguelangeldelillo@gmail.com, 6622/23\n",
    "- Manuel Fernandez, manufernandezbur@gmail.com, LU:1700/21\n",
    "- Augusto Kielbowicz, augusto.kiel@gmail.com, LU:738/11\n",
    "- Mariano Oca, marianoagoca@gmail.com, LU:206/20"
   ]
  },
  {
   "cell_type": "markdown",
   "id": "a42f1526-60c0-4160-acc9-82883d4b5cae",
   "metadata": {
    "editable": true,
    "slideshow": {
     "slide_type": "fragment"
    },
    "tags": []
   },
   "source": [
    "[**Repositorio**](https://github.com/akielbowicz/tp-msscae-2024?tab=readme-ov-file#trabajo-pr%C3%A1ctico-de-msscae-2024)"
   ]
  },
  {
   "cell_type": "markdown",
   "id": "f67f5bd5-3df6-418a-95d3-f224a5c1522a",
   "metadata": {
    "collapsed": false,
    "editable": true,
    "jupyter": {
     "outputs_hidden": false
    },
    "slideshow": {
     "slide_type": "subslide"
    },
    "tags": []
   },
   "source": [
    "# Motivación\n",
    "La idea de este modelo es estudiar, ante un shock de precios en un sector dado, cómo afectan las dinámicas propuestas entre los sectores productivos de la Argentina en la inflación global calculada a partir de las variaciones en los precios de los mismos. (Utilizando las relaciones dadas por la matriz de Insumo-Producto). "
   ]
  },
  {
   "cell_type": "markdown",
   "id": "6239da94-53b3-4288-8e65-a485641ccc1f",
   "metadata": {
    "editable": true,
    "slideshow": {
     "slide_type": "slide"
    },
    "tags": []
   },
   "source": [
    "# Introducción"
   ]
  },
  {
   "cell_type": "markdown",
   "id": "60df66eb-4f2e-462f-997a-94bc908a9e84",
   "metadata": {
    "editable": true,
    "slideshow": {
     "slide_type": "fragment"
    },
    "tags": []
   },
   "source": [
    "> **Inflación estructural**: La inflación estructural se refiere a un tipo de inflación causada por desajustes sectoriales que afectan a productos específicos, lo que resulta en aumentos de precios individuales que luego se generalizan. Estos desajustes pueden ser el resultado de la rigidez de la estructura productiva y la imperfección de los mercados, y son ajenos a las decisiones de las autoridades monetarias. La inflación estructural se origina en desequilibrios sectoriales que afectan a productos específicos y no en un desajuste global entre la oferta y la demanda monetaria.\n",
    " \n",
    "*Olivera, Julio H. G. (1965), \"Inflación estructural y política financiera”.*"
   ]
  },
  {
   "cell_type": "markdown",
   "id": "434bc347-afc0-4ddf-ad5c-c734bca8936a",
   "metadata": {
    "collapsed": false,
    "editable": true,
    "jupyter": {
     "outputs_hidden": false
    },
    "slideshow": {
     "slide_type": "subslide"
    },
    "tags": []
   },
   "source": [
    "## Preguntas a Responder"
   ]
  },
  {
   "cell_type": "markdown",
   "id": "9e543a10-38fa-4dbd-a35a-a089b3fc3462",
   "metadata": {
    "collapsed": false,
    "editable": true,
    "jupyter": {
     "outputs_hidden": false
    },
    "slideshow": {
     "slide_type": "fragment"
    },
    "tags": []
   },
   "source": [
    "- ¿Cómo se propaga el aumento de precios a través de la red definida por la MIP?"
   ]
  },
  {
   "cell_type": "markdown",
   "id": "9f533966-2a35-4cef-9959-151707c124fe",
   "metadata": {
    "collapsed": false,
    "editable": true,
    "jupyter": {
     "outputs_hidden": false
    },
    "slideshow": {
     "slide_type": "fragment"
    },
    "tags": []
   },
   "source": [
    "- ¿Cómo impacta el aumento de precio en un producto/sector sobre otros productos/sectores? ¿Se mantiene en la misma cadena productiva?"
   ]
  },
  {
   "cell_type": "markdown",
   "id": "717907c9-559d-4919-9252-a9d0bdd74a1f",
   "metadata": {
    "collapsed": false,
    "editable": true,
    "jupyter": {
     "outputs_hidden": false
    },
    "slideshow": {
     "slide_type": "fragment"
    },
    "tags": []
   },
   "source": [
    "- ¿Cómo influyen la dinámica de comportamiento de los agentes en la variación de la inflación global?"
   ]
  },
  {
   "cell_type": "markdown",
   "id": "adaa1fc2-8a7f-45df-9965-a7fb880de78c",
   "metadata": {
    "collapsed": false,
    "editable": true,
    "jupyter": {
     "outputs_hidden": false
    },
    "slideshow": {
     "slide_type": "fragment"
    },
    "tags": []
   },
   "source": [
    "- ¿Cuál es la sensibilidad del sistema respecto a variaciones de precio en nodos específicos? ¿Cuáles son los nodos que propagan de mayor forma la variación de precios?"
   ]
  },
  {
   "cell_type": "markdown",
   "id": "7e8c27d3-6953-4fa8-9e10-daea0f27529c",
   "metadata": {
    "editable": true,
    "slideshow": {
     "slide_type": "subslide"
    },
    "tags": []
   },
   "source": [
    "## Descripción del Modelo"
   ]
  },
  {
   "cell_type": "markdown",
   "id": "0d04821c-154b-4bb4-944c-dbff36e69719",
   "metadata": {
    "editable": true,
    "slideshow": {
     "slide_type": "fragment"
    },
    "tags": []
   },
   "source": [
    "- Cada sector productivo de la Argentina es representado por un nodo del digrafo. El mismo representaría a todos los productos (y productores) del sector."
   ]
  },
  {
   "cell_type": "markdown",
   "id": "5c0ef0b6",
   "metadata": {
    "editable": true,
    "slideshow": {
     "slide_type": "fragment"
    },
    "tags": []
   },
   "source": [
    "- Cada arista del digrafo representa la relación \"le vende a\" donde el peso de la arista es el porcentaje de la producción total que es comparada."
   ]
  },
  {
   "cell_type": "markdown",
   "id": "4e304f70",
   "metadata": {
    "editable": true,
    "slideshow": {
     "slide_type": "fragment"
    },
    "tags": []
   },
   "source": [
    "- Tanto los sectores productivos como los pesos que le corresponden a cada arista son extraídos de la Matriz Inzumo Producto del 1997 publicada por el INDEC. Los valores de dicha matriz son normalizados para que representen porcentajes, afines a la experimentación que se quiere realizar sobre el modelo."
   ]
  },
  {
   "cell_type": "markdown",
   "id": "f8d61026-3c78-4226-8682-4ed808487cad",
   "metadata": {
    "collapsed": false,
    "editable": true,
    "jupyter": {
     "outputs_hidden": false
    },
    "slideshow": {
     "slide_type": "subslide"
    },
    "tags": []
   },
   "source": [
    "## Suposiciones (y limitaciones) del Modelo"
   ]
  },
  {
   "cell_type": "markdown",
   "id": "0f3521fa-18ea-45c6-a65d-0512aac3e0a9",
   "metadata": {
    "collapsed": false,
    "editable": true,
    "jupyter": {
     "outputs_hidden": false
    },
    "slideshow": {
     "slide_type": "fragment"
    },
    "tags": []
   },
   "source": [
    "- Un cambio de precios >0 en los insumos provoca un cambio de precios saliente del agente (producción). Sólo vamos a estudiar variaciones positivas en los precios para atenernos a las preguntas a investigar con el modelo."
   ]
  },
  {
   "cell_type": "markdown",
   "id": "ab3e8d0e-b2c2-4d2f-a3ff-d4a454423acf",
   "metadata": {
    "collapsed": false,
    "editable": true,
    "jupyter": {
     "outputs_hidden": false
    },
    "slideshow": {
     "slide_type": "fragment"
    },
    "tags": []
   },
   "source": [
    "- La economía es cerrada. Esto es, no se traen productos de otros países (importaciones) ni se vende nada a ellos (exportaciones) durante la evolución del sistema."
   ]
  },
  {
   "cell_type": "markdown",
   "id": "a6512c0a-ec7c-473f-84f6-efb3ab77c76a",
   "metadata": {
    "collapsed": false,
    "editable": true,
    "jupyter": {
     "outputs_hidden": false
    },
    "slideshow": {
     "slide_type": "fragment"
    },
    "tags": []
   },
   "source": [
    "- Rige la Ley de Say: la oferta es igual a la demanda."
   ]
  },
  {
   "cell_type": "markdown",
   "id": "5dfab94560e8b149",
   "metadata": {
    "collapsed": false,
    "editable": true,
    "jupyter": {
     "outputs_hidden": false
    },
    "slideshow": {
     "slide_type": "slide"
    },
    "tags": []
   },
   "source": [
    "# Matriz Insumo Producto\n",
    "\n",
    "Cargamos la matriz insumo producto normalizada por demanda saliente."
   ]
  },
  {
   "cell_type": "code",
   "execution_count": 3,
   "id": "c0b91fb3-ba35-456b-af54-421ebe26db2f",
   "metadata": {
    "ExecuteTime": {
     "end_time": "2024-07-01T04:09:19.784971100Z",
     "start_time": "2024-07-01T04:09:19.669020400Z"
    },
    "collapsed": false,
    "editable": true,
    "jupyter": {
     "outputs_hidden": false
    },
    "slideshow": {
     "slide_type": "fragment"
    },
    "tags": []
   },
   "outputs": [
    {
     "data": {
      "text/plain": [
       "(123, 123)"
      ]
     },
     "execution_count": 3,
     "metadata": {},
     "output_type": "execute_result"
    }
   ],
   "source": [
    "mip = pd.read_csv('../resources/MIP_normalizada.csv', index_col=0)\n",
    "mip.shape"
   ]
  },
  {
   "cell_type": "code",
   "execution_count": 4,
   "id": "08accc66-586a-46a7-ad29-f81792641e31",
   "metadata": {
    "ExecuteTime": {
     "end_time": "2024-07-01T04:09:19.784971100Z",
     "start_time": "2024-07-01T04:09:19.669020400Z"
    },
    "collapsed": false,
    "editable": true,
    "jupyter": {
     "outputs_hidden": false
    },
    "slideshow": {
     "slide_type": "subslide"
    },
    "tags": []
   },
   "outputs": [
    {
     "data": {
      "text/html": [
       "<div>\n",
       "<style scoped>\n",
       "    .dataframe tbody tr th:only-of-type {\n",
       "        vertical-align: middle;\n",
       "    }\n",
       "\n",
       "    .dataframe tbody tr th {\n",
       "        vertical-align: top;\n",
       "    }\n",
       "\n",
       "    .dataframe thead th {\n",
       "        text-align: right;\n",
       "    }\n",
       "</style>\n",
       "<table border=\"1\" class=\"dataframe\">\n",
       "  <thead>\n",
       "    <tr style=\"text-align: right;\">\n",
       "      <th></th>\n",
       "      <th>Cultivo de cereales, oleaginosas y forrajeras</th>\n",
       "      <th>Cultivo de hortalizas, legumbres, flores y plantas ornamentales</th>\n",
       "      <th>Cultivo de frutas y nueces</th>\n",
       "      <th>Cultivos industriales</th>\n",
       "      <th>Producción de semillas</th>\n",
       "      <th>Cría de ganado y producción de leche, lana y pelos</th>\n",
       "      <th>Producción de granja</th>\n",
       "      <th>Servicios agropecuarios</th>\n",
       "      <th>Caza</th>\n",
       "      <th>Silvicultura y extracción de madera</th>\n",
       "      <th>...</th>\n",
       "      <th>Enseñanza pública</th>\n",
       "      <th>Enseñanza privada</th>\n",
       "      <th>Salud humana pública</th>\n",
       "      <th>Salud humana privada</th>\n",
       "      <th>Servicios veterinarios</th>\n",
       "      <th>Servicios sociales</th>\n",
       "      <th>Servicios de saneamiento</th>\n",
       "      <th>Actividad de asociaciones</th>\n",
       "      <th>Servicios de cine, radio y televisión</th>\n",
       "      <th>Servicios personales, de reparación, actividades deportivas y de esparcimiento</th>\n",
       "    </tr>\n",
       "  </thead>\n",
       "  <tbody>\n",
       "    <tr>\n",
       "      <th>Cultivo de cereales, oleaginosas y forrajeras</th>\n",
       "      <td>0.010319</td>\n",
       "      <td>0.000000</td>\n",
       "      <td>0.001542</td>\n",
       "      <td>0.001601</td>\n",
       "      <td>0.00000</td>\n",
       "      <td>0.181660</td>\n",
       "      <td>0.012263</td>\n",
       "      <td>0.0</td>\n",
       "      <td>0.0</td>\n",
       "      <td>0.0</td>\n",
       "      <td>...</td>\n",
       "      <td>0.000038</td>\n",
       "      <td>0.000080</td>\n",
       "      <td>0.000007</td>\n",
       "      <td>0.000042</td>\n",
       "      <td>0.000012</td>\n",
       "      <td>0.000000</td>\n",
       "      <td>0.0</td>\n",
       "      <td>0.000000</td>\n",
       "      <td>1.735054e-09</td>\n",
       "      <td>0.003256</td>\n",
       "    </tr>\n",
       "    <tr>\n",
       "      <th>Cultivo de hortalizas, legumbres, flores y plantas ornamentales</th>\n",
       "      <td>0.000000</td>\n",
       "      <td>0.167226</td>\n",
       "      <td>0.009565</td>\n",
       "      <td>0.000000</td>\n",
       "      <td>0.00000</td>\n",
       "      <td>0.000000</td>\n",
       "      <td>0.000000</td>\n",
       "      <td>0.0</td>\n",
       "      <td>0.0</td>\n",
       "      <td>0.0</td>\n",
       "      <td>...</td>\n",
       "      <td>0.005679</td>\n",
       "      <td>0.012030</td>\n",
       "      <td>0.002192</td>\n",
       "      <td>0.008913</td>\n",
       "      <td>0.000000</td>\n",
       "      <td>0.001238</td>\n",
       "      <td>0.0</td>\n",
       "      <td>0.007999</td>\n",
       "      <td>1.237709e-06</td>\n",
       "      <td>0.079292</td>\n",
       "    </tr>\n",
       "    <tr>\n",
       "      <th>Cultivo de frutas y nueces</th>\n",
       "      <td>0.000000</td>\n",
       "      <td>0.000000</td>\n",
       "      <td>0.000000</td>\n",
       "      <td>0.000000</td>\n",
       "      <td>0.00000</td>\n",
       "      <td>0.000000</td>\n",
       "      <td>0.000000</td>\n",
       "      <td>0.0</td>\n",
       "      <td>0.0</td>\n",
       "      <td>0.0</td>\n",
       "      <td>...</td>\n",
       "      <td>0.003827</td>\n",
       "      <td>0.008099</td>\n",
       "      <td>0.011067</td>\n",
       "      <td>0.005904</td>\n",
       "      <td>0.000000</td>\n",
       "      <td>0.001638</td>\n",
       "      <td>0.0</td>\n",
       "      <td>0.000000</td>\n",
       "      <td>1.472092e-07</td>\n",
       "      <td>0.000006</td>\n",
       "    </tr>\n",
       "    <tr>\n",
       "      <th>Cultivos industriales</th>\n",
       "      <td>0.000000</td>\n",
       "      <td>0.000000</td>\n",
       "      <td>0.000000</td>\n",
       "      <td>0.020212</td>\n",
       "      <td>0.00000</td>\n",
       "      <td>0.000000</td>\n",
       "      <td>0.000000</td>\n",
       "      <td>0.0</td>\n",
       "      <td>0.0</td>\n",
       "      <td>0.0</td>\n",
       "      <td>...</td>\n",
       "      <td>0.000000</td>\n",
       "      <td>0.000000</td>\n",
       "      <td>0.000000</td>\n",
       "      <td>0.000000</td>\n",
       "      <td>0.000000</td>\n",
       "      <td>0.000000</td>\n",
       "      <td>0.0</td>\n",
       "      <td>0.000000</td>\n",
       "      <td>0.000000e+00</td>\n",
       "      <td>0.000000</td>\n",
       "    </tr>\n",
       "    <tr>\n",
       "      <th>Producción de semillas</th>\n",
       "      <td>0.783146</td>\n",
       "      <td>0.016374</td>\n",
       "      <td>0.029820</td>\n",
       "      <td>0.017254</td>\n",
       "      <td>0.02174</td>\n",
       "      <td>0.127875</td>\n",
       "      <td>0.002291</td>\n",
       "      <td>0.0</td>\n",
       "      <td>0.0</td>\n",
       "      <td>0.0</td>\n",
       "      <td>...</td>\n",
       "      <td>0.000000</td>\n",
       "      <td>0.000000</td>\n",
       "      <td>0.000000</td>\n",
       "      <td>0.000000</td>\n",
       "      <td>0.000000</td>\n",
       "      <td>0.000000</td>\n",
       "      <td>0.0</td>\n",
       "      <td>0.000000</td>\n",
       "      <td>0.000000e+00</td>\n",
       "      <td>0.000000</td>\n",
       "    </tr>\n",
       "  </tbody>\n",
       "</table>\n",
       "<p>5 rows × 123 columns</p>\n",
       "</div>"
      ],
      "text/plain": [
       "                                                    Cultivo de cereales, oleaginosas y forrajeras  \\\n",
       "Cultivo de cereales, oleaginosas y forrajeras                                            0.010319   \n",
       "Cultivo de hortalizas, legumbres, flores y plan...                                       0.000000   \n",
       "Cultivo de frutas y nueces                                                               0.000000   \n",
       "Cultivos industriales                                                                    0.000000   \n",
       "Producción de semillas                                                                   0.783146   \n",
       "\n",
       "                                                    Cultivo de hortalizas, legumbres, flores y plantas ornamentales  \\\n",
       "Cultivo de cereales, oleaginosas y forrajeras                                                0.000000                 \n",
       "Cultivo de hortalizas, legumbres, flores y plan...                                           0.167226                 \n",
       "Cultivo de frutas y nueces                                                                   0.000000                 \n",
       "Cultivos industriales                                                                        0.000000                 \n",
       "Producción de semillas                                                                       0.016374                 \n",
       "\n",
       "                                                    Cultivo de frutas y nueces  \\\n",
       "Cultivo de cereales, oleaginosas y forrajeras                         0.001542   \n",
       "Cultivo de hortalizas, legumbres, flores y plan...                    0.009565   \n",
       "Cultivo de frutas y nueces                                            0.000000   \n",
       "Cultivos industriales                                                 0.000000   \n",
       "Producción de semillas                                                0.029820   \n",
       "\n",
       "                                                    Cultivos industriales  \\\n",
       "Cultivo de cereales, oleaginosas y forrajeras                    0.001601   \n",
       "Cultivo de hortalizas, legumbres, flores y plan...               0.000000   \n",
       "Cultivo de frutas y nueces                                       0.000000   \n",
       "Cultivos industriales                                            0.020212   \n",
       "Producción de semillas                                           0.017254   \n",
       "\n",
       "                                                    Producción de semillas  \\\n",
       "Cultivo de cereales, oleaginosas y forrajeras                      0.00000   \n",
       "Cultivo de hortalizas, legumbres, flores y plan...                 0.00000   \n",
       "Cultivo de frutas y nueces                                         0.00000   \n",
       "Cultivos industriales                                              0.00000   \n",
       "Producción de semillas                                             0.02174   \n",
       "\n",
       "                                                    Cría de ganado y producción de leche, lana y pelos  \\\n",
       "Cultivo de cereales, oleaginosas y forrajeras                                                0.181660    \n",
       "Cultivo de hortalizas, legumbres, flores y plan...                                           0.000000    \n",
       "Cultivo de frutas y nueces                                                                   0.000000    \n",
       "Cultivos industriales                                                                        0.000000    \n",
       "Producción de semillas                                                                       0.127875    \n",
       "\n",
       "                                                    Producción de granja  \\\n",
       "Cultivo de cereales, oleaginosas y forrajeras                   0.012263   \n",
       "Cultivo de hortalizas, legumbres, flores y plan...              0.000000   \n",
       "Cultivo de frutas y nueces                                      0.000000   \n",
       "Cultivos industriales                                           0.000000   \n",
       "Producción de semillas                                          0.002291   \n",
       "\n",
       "                                                    Servicios agropecuarios  \\\n",
       "Cultivo de cereales, oleaginosas y forrajeras                           0.0   \n",
       "Cultivo de hortalizas, legumbres, flores y plan...                      0.0   \n",
       "Cultivo de frutas y nueces                                              0.0   \n",
       "Cultivos industriales                                                   0.0   \n",
       "Producción de semillas                                                  0.0   \n",
       "\n",
       "                                                    Caza  \\\n",
       "Cultivo de cereales, oleaginosas y forrajeras        0.0   \n",
       "Cultivo de hortalizas, legumbres, flores y plan...   0.0   \n",
       "Cultivo de frutas y nueces                           0.0   \n",
       "Cultivos industriales                                0.0   \n",
       "Producción de semillas                               0.0   \n",
       "\n",
       "                                                    Silvicultura y extracción de madera  \\\n",
       "Cultivo de cereales, oleaginosas y forrajeras                                       0.0   \n",
       "Cultivo de hortalizas, legumbres, flores y plan...                                  0.0   \n",
       "Cultivo de frutas y nueces                                                          0.0   \n",
       "Cultivos industriales                                                               0.0   \n",
       "Producción de semillas                                                              0.0   \n",
       "\n",
       "                                                    ...  Enseñanza pública  \\\n",
       "Cultivo de cereales, oleaginosas y forrajeras       ...           0.000038   \n",
       "Cultivo de hortalizas, legumbres, flores y plan...  ...           0.005679   \n",
       "Cultivo de frutas y nueces                          ...           0.003827   \n",
       "Cultivos industriales                               ...           0.000000   \n",
       "Producción de semillas                              ...           0.000000   \n",
       "\n",
       "                                                    Enseñanza privada  \\\n",
       "Cultivo de cereales, oleaginosas y forrajeras                0.000080   \n",
       "Cultivo de hortalizas, legumbres, flores y plan...           0.012030   \n",
       "Cultivo de frutas y nueces                                   0.008099   \n",
       "Cultivos industriales                                        0.000000   \n",
       "Producción de semillas                                       0.000000   \n",
       "\n",
       "                                                    Salud humana pública  \\\n",
       "Cultivo de cereales, oleaginosas y forrajeras                   0.000007   \n",
       "Cultivo de hortalizas, legumbres, flores y plan...              0.002192   \n",
       "Cultivo de frutas y nueces                                      0.011067   \n",
       "Cultivos industriales                                           0.000000   \n",
       "Producción de semillas                                          0.000000   \n",
       "\n",
       "                                                    Salud humana privada  \\\n",
       "Cultivo de cereales, oleaginosas y forrajeras                   0.000042   \n",
       "Cultivo de hortalizas, legumbres, flores y plan...              0.008913   \n",
       "Cultivo de frutas y nueces                                      0.005904   \n",
       "Cultivos industriales                                           0.000000   \n",
       "Producción de semillas                                          0.000000   \n",
       "\n",
       "                                                    Servicios veterinarios  \\\n",
       "Cultivo de cereales, oleaginosas y forrajeras                     0.000012   \n",
       "Cultivo de hortalizas, legumbres, flores y plan...                0.000000   \n",
       "Cultivo de frutas y nueces                                        0.000000   \n",
       "Cultivos industriales                                             0.000000   \n",
       "Producción de semillas                                            0.000000   \n",
       "\n",
       "                                                    Servicios sociales  \\\n",
       "Cultivo de cereales, oleaginosas y forrajeras                 0.000000   \n",
       "Cultivo de hortalizas, legumbres, flores y plan...            0.001238   \n",
       "Cultivo de frutas y nueces                                    0.001638   \n",
       "Cultivos industriales                                         0.000000   \n",
       "Producción de semillas                                        0.000000   \n",
       "\n",
       "                                                    Servicios de saneamiento  \\\n",
       "Cultivo de cereales, oleaginosas y forrajeras                            0.0   \n",
       "Cultivo de hortalizas, legumbres, flores y plan...                       0.0   \n",
       "Cultivo de frutas y nueces                                               0.0   \n",
       "Cultivos industriales                                                    0.0   \n",
       "Producción de semillas                                                   0.0   \n",
       "\n",
       "                                                    Actividad de asociaciones  \\\n",
       "Cultivo de cereales, oleaginosas y forrajeras                        0.000000   \n",
       "Cultivo de hortalizas, legumbres, flores y plan...                   0.007999   \n",
       "Cultivo de frutas y nueces                                           0.000000   \n",
       "Cultivos industriales                                                0.000000   \n",
       "Producción de semillas                                               0.000000   \n",
       "\n",
       "                                                    Servicios de cine, radio y televisión  \\\n",
       "Cultivo de cereales, oleaginosas y forrajeras                                1.735054e-09   \n",
       "Cultivo de hortalizas, legumbres, flores y plan...                           1.237709e-06   \n",
       "Cultivo de frutas y nueces                                                   1.472092e-07   \n",
       "Cultivos industriales                                                        0.000000e+00   \n",
       "Producción de semillas                                                       0.000000e+00   \n",
       "\n",
       "                                                    Servicios personales, de reparación, actividades deportivas y de esparcimiento  \n",
       "Cultivo de cereales, oleaginosas y forrajeras                                                0.003256                               \n",
       "Cultivo de hortalizas, legumbres, flores y plan...                                           0.079292                               \n",
       "Cultivo de frutas y nueces                                                                   0.000006                               \n",
       "Cultivos industriales                                                                        0.000000                               \n",
       "Producción de semillas                                                                       0.000000                               \n",
       "\n",
       "[5 rows x 123 columns]"
      ]
     },
     "execution_count": 4,
     "metadata": {},
     "output_type": "execute_result"
    }
   ],
   "source": [
    "mip.head()"
   ]
  },
  {
   "cell_type": "markdown",
   "id": "2947c1f1-83b2-4762-aa9e-d937d17466f2",
   "metadata": {
    "editable": true,
    "slideshow": {
     "slide_type": "slide"
    },
    "tags": []
   },
   "source": [
    "# Análisis de la MIP"
   ]
  },
  {
   "cell_type": "markdown",
   "id": "06a73f02",
   "metadata": {
    "editable": true,
    "slideshow": {
     "slide_type": "fragment"
    },
    "tags": []
   },
   "source": [
    "Si el alpha es 0 el shock a un sector sólo genera cambios de precios en las aristas alcanzables por ese nodo. Además, como todos los pesos en las aristas son menores a 1, existe un decaimiento en los aumentos que se van pasando de sector a sector. \n",
    "Por otro lado, cuando el alpha aumenta y los agentes se ven cada vez más influenciados por la inflación global a la hora de aumentar sus precios, la respuesta ya no es tan clara. Para que un agente tome la decisión de aumentar su precio, le tiene que llegar un aumento, es decir, no tienen la capacidad de actualizarse si no les \"avisan\". Por eso, es técnicamente cierto que el aumento se propaga sólo en la cadena productiva del sector que es shockeado. Lo interesante del modelo es que, al no ser nosotros los que definimos esa cadena sino que generamos la topografía de la red a partir del MIP, estas cadenas productivas son muy complejas y logran capturar todas las dependendias que existen entre sectores. A partir de eso, cuando el alpha aumenta, sectores a los que le hubiese llegado un aumento casi residual en un primer momento, toman la decisión de aumentar sus precios viendo la variable macro y así comienzan a generar aumentos generalizados en toda la red, es decir, inflación.  "
   ]
  },
  {
   "cell_type": "markdown",
   "id": "784eb554-45a2-4035-8ed9-271f0dce86a5",
   "metadata": {
    "editable": true,
    "slideshow": {
     "slide_type": "subslide"
    },
    "tags": []
   },
   "source": [
    "### Preguntas a responder"
   ]
  },
  {
   "cell_type": "markdown",
   "id": "5bc516e6-7841-4d90-82f9-363c6eedb5eb",
   "metadata": {
    "collapsed": false,
    "editable": true,
    "jupyter": {
     "outputs_hidden": false
    },
    "slideshow": {
     "slide_type": "fragment"
    },
    "tags": []
   },
   "source": [
    "- ¿Cuál es la sensibilidad del sistema respecto a variaciones de precio en nodos específicos? ¿Cuáles son los nodos que propagan de mayor forma la variación de precios?"
   ]
  },
  {
   "cell_type": "markdown",
   "id": "eefee5d5-7a6c-47b5-8f1d-ae1533b3a0d0",
   "metadata": {
    "collapsed": false,
    "editable": true,
    "jupyter": {
     "outputs_hidden": false
    },
    "slideshow": {
     "slide_type": "slide"
    },
    "tags": []
   },
   "source": [
    "## Próximos pasos\n",
    "\n",
    " "
   ]
  },
  {
   "cell_type": "markdown",
   "id": "6db80b94-e444-4065-8181-b40080cd3d70",
   "metadata": {
    "editable": true,
    "slideshow": {
     "slide_type": "subslide"
    },
    "tags": []
   },
   "source": [
    "* El modelo en su estado actual calcula la inflación a partir de un IPC basado en una canasta básica sin ponderar. Como primer paso sería interesante agregar ponderaciones a los sectores para lograr un mejor modelo."
   ]
  },
  {
   "cell_type": "markdown",
   "id": "f279078d-cd61-44e5-bbdb-178acf20093a",
   "metadata": {
    "editable": true,
    "slideshow": {
     "slide_type": "subslide"
    },
    "tags": []
   },
   "source": [
    "* La MIP también tiene la información de cuánto de lo producido por un sector se vende al consumidor final. Con eso se puede generar un nuevo agente que represente ese sector, el del consumo final, y que tenga ciertos sectores más prioritarios que otros a la hora de consumirlo. Con eso, se podría eliminar el supuesto de la Ley de Say, agregando el consumo a las dinámicas. Eso podría dar lugar a deflación."
   ]
  },
  {
   "cell_type": "markdown",
   "id": "7f50b123-2792-42d8-a4b7-362539e25644",
   "metadata": {
    "editable": true,
    "slideshow": {
     "slide_type": "subslide"
    },
    "tags": []
   },
   "source": [
    "* Clusterizar ciertos nodos del grado en rubros, y estudiar los shocks dentro de esos micro-sectores."
   ]
  },
  {
   "cell_type": "markdown",
   "id": "ab921125-e3b6-48cc-87aa-e38bddbe39b8",
   "metadata": {
    "editable": true,
    "slideshow": {
     "slide_type": "subslide"
    },
    "tags": []
   },
   "source": [
    "* A partir de identificar los nodos en los cuales el grafo es mas vunlerable a un shock (Un shock en ellos generan significativamente más inflación que en el resto), plantear una reestructuración del grafo para hacerlo mas estable y seguro, teniendo en cuenta las restricciones pertinentes para que el grafo resultante siga siendo un esquema productivo. "
   ]
  },
  {
   "cell_type": "markdown",
   "id": "a844af8c-263b-4eb5-95c9-0686954fa7e8",
   "metadata": {
    "editable": true,
    "slideshow": {
     "slide_type": "subslide"
    },
    "tags": []
   },
   "source": [
    "* Si se logra eliminar la Ley de Say, sería interesante reemplazar los sectores por agentes individuales de aquel sector, para poder modelar dinámicas de competencia en los precios."
   ]
  },
  {
   "cell_type": "markdown",
   "id": "0462e7e3-01fb-48d8-b230-4c5652d0580a",
   "metadata": {
    "editable": true,
    "slideshow": {
     "slide_type": "slide"
    },
    "tags": []
   },
   "source": [
    "# Gracias!"
   ]
  },
  {
   "cell_type": "markdown",
   "id": "fc67aca9-b390-4cdd-912c-528679b42a34",
   "metadata": {
    "editable": true,
    "slideshow": {
     "slide_type": "fragment"
    },
    "tags": []
   },
   "source": [
    "### ¿Preguntas?"
   ]
  },
  {
   "cell_type": "markdown",
   "id": "a97428ae-3d22-433c-921c-36be3480fe4c",
   "metadata": {
    "editable": true,
    "slideshow": {
     "slide_type": "slide"
    },
    "tags": []
   },
   "source": [
    "# Apéndices"
   ]
  },
  {
   "cell_type": "markdown",
   "id": "b75b23c8-d728-4790-add9-69f01faaa688",
   "metadata": {
    "editable": true,
    "slideshow": {
     "slide_type": "subslide"
    },
    "tags": []
   },
   "source": [
    "## Código\n",
    "\n",
    "- [Experimento](#Experimento)\n",
    "- [Dinámicas](#Dinámicas)"
   ]
  },
  {
   "cell_type": "markdown",
   "id": "4cad528d-db97-456c-888f-0fcebdeb3589",
   "metadata": {
    "editable": true,
    "slideshow": {
     "slide_type": "subslide"
    },
    "tags": []
   },
   "source": [
    "### Experimento"
   ]
  },
  {
   "cell_type": "code",
   "execution_count": 35,
   "id": "284badf4-8e66-4de5-aca7-7bf086b83ab1",
   "metadata": {
    "editable": true,
    "slideshow": {
     "slide_type": "fragment"
    },
    "tags": []
   },
   "outputs": [
    {
     "data": {
      "text/plain": [
       "\u001b[1;31mInit signature:\u001b[0m\n",
       "\u001b[0mexp\u001b[0m\u001b[1;33m.\u001b[0m\u001b[0mExperimento\u001b[0m\u001b[1;33m(\u001b[0m\u001b[1;33m\n",
       "\u001b[0m    \u001b[0mgrafo\u001b[0m\u001b[1;33m,\u001b[0m\u001b[1;33m\n",
       "\u001b[0m    \u001b[0mdinamica\u001b[0m\u001b[1;33m,\u001b[0m\u001b[1;33m\n",
       "\u001b[0m    \u001b[0mduracion_periodo\u001b[0m\u001b[1;33m=\u001b[0m\u001b[1;36m10\u001b[0m\u001b[1;33m,\u001b[0m\u001b[1;33m\n",
       "\u001b[0m    \u001b[0mmetricas\u001b[0m\u001b[1;33m=\u001b[0m\u001b[1;32mNone\u001b[0m\u001b[1;33m,\u001b[0m\u001b[1;33m\n",
       "\u001b[0m    \u001b[0mcalcular_inflacion\u001b[0m\u001b[1;33m=\u001b[0m\u001b[1;32mNone\u001b[0m\u001b[1;33m,\u001b[0m\u001b[1;33m\n",
       "\u001b[0m    \u001b[0malpha\u001b[0m\u001b[1;33m=\u001b[0m\u001b[1;36m0.5\u001b[0m\u001b[1;33m,\u001b[0m\u001b[1;33m\n",
       "\u001b[0m\u001b[1;33m)\u001b[0m\u001b[1;33m\u001b[0m\u001b[1;33m\u001b[0m\u001b[0m\n",
       "\u001b[1;31mDocstring:\u001b[0m      <no docstring>\n",
       "\u001b[1;31mSource:\u001b[0m        \n",
       "\u001b[1;32mclass\u001b[0m \u001b[0mExperimento\u001b[0m\u001b[1;33m:\u001b[0m\u001b[1;33m\n",
       "\u001b[0m  \u001b[1;32mdef\u001b[0m \u001b[0m__init__\u001b[0m\u001b[1;33m(\u001b[0m\u001b[0mself\u001b[0m\u001b[1;33m,\u001b[0m \u001b[0mgrafo\u001b[0m\u001b[1;33m,\u001b[0m \u001b[0mdinamica\u001b[0m\u001b[1;33m,\u001b[0m \u001b[0mduracion_periodo\u001b[0m \u001b[1;33m=\u001b[0m \u001b[1;36m10\u001b[0m\u001b[1;33m,\u001b[0m \u001b[0mmetricas\u001b[0m\u001b[1;33m=\u001b[0m\u001b[1;32mNone\u001b[0m\u001b[1;33m,\u001b[0m \u001b[0mcalcular_inflacion\u001b[0m\u001b[1;33m=\u001b[0m\u001b[1;32mNone\u001b[0m\u001b[1;33m,\u001b[0m \u001b[0malpha\u001b[0m \u001b[1;33m=\u001b[0m \u001b[1;36m0.5\u001b[0m\u001b[1;33m)\u001b[0m\u001b[1;33m:\u001b[0m \u001b[1;33m\n",
       "\u001b[0m    \u001b[1;34m\"\"\"\n",
       "    Inicializa una instancia de la clase Experimento.\n",
       "\n",
       "    Parámetros\n",
       "    ----------\n",
       "    grafo : DiGraph\n",
       "      Grafo que representa el MIP\n",
       "    dinamica : Callable \n",
       "      Función con la siguiente signatura : (aumento, peso_arista, inflacion, alpha)\n",
       "    duracion_periodo : int, opcional\n",
       "        La duración de cada período en pasos para actualizar la inflacion, por defecto 10 pasos.\n",
       "    metricas : Dict(string,Callable), opcional\n",
       "        Diccionario de con metricas a computar sobre el grafo, ej, {\"cantidad_nodos\", lambda grafo: len(grafo)}\n",
       "    calcular_inflacion : Callable, opcional\n",
       "        Función para calcular la inflación en un período, recibe dos arrays de precios. ej, calc(precios_actual, precios_pasado)\n",
       "    alpha : float, opcional\n",
       "        Parametro de ponderacion\n",
       "        El alpha es CUANTO ve la inflación. \n",
       "        Alpha == 1 es lo mismo que la dinamica 2. \n",
       "        Alpha == 0 es lo mismo que la dinamica 1.\n",
       "    \"\"\"\u001b[0m\u001b[1;33m\n",
       "\u001b[0m    \u001b[0mself\u001b[0m\u001b[1;33m.\u001b[0m\u001b[0mgrafo\u001b[0m \u001b[1;33m=\u001b[0m \u001b[0mgrafo\u001b[0m\u001b[1;33m.\u001b[0m\u001b[0mcopy\u001b[0m\u001b[1;33m(\u001b[0m\u001b[1;33m)\u001b[0m\u001b[1;33m\n",
       "\u001b[0m    \u001b[0mself\u001b[0m\u001b[1;33m.\u001b[0m\u001b[0mdinamica\u001b[0m \u001b[1;33m=\u001b[0m \u001b[0mdinamica\u001b[0m\u001b[1;33m\n",
       "\u001b[0m    \u001b[0mself\u001b[0m\u001b[1;33m.\u001b[0m\u001b[0mmetricas\u001b[0m \u001b[1;33m=\u001b[0m \u001b[0mmetricas\u001b[0m \u001b[1;32mor\u001b[0m \u001b[1;33m{\u001b[0m\u001b[1;33m}\u001b[0m\u001b[1;33m\n",
       "\u001b[0m    \u001b[0mself\u001b[0m\u001b[1;33m.\u001b[0m\u001b[0m_curr_step\u001b[0m \u001b[1;33m=\u001b[0m \u001b[1;36m0\u001b[0m\u001b[1;33m\n",
       "\u001b[0m    \u001b[0mself\u001b[0m\u001b[1;33m.\u001b[0m\u001b[0mmetricas_evaluadas\u001b[0m \u001b[1;33m=\u001b[0m \u001b[1;33m{\u001b[0m\u001b[0mnombre\u001b[0m\u001b[1;33m:\u001b[0m\u001b[1;33m[\u001b[0m\u001b[1;33m]\u001b[0m \u001b[1;32mfor\u001b[0m \u001b[0mnombre\u001b[0m \u001b[1;32min\u001b[0m \u001b[0mself\u001b[0m\u001b[1;33m.\u001b[0m\u001b[0mmetricas\u001b[0m\u001b[1;33m}\u001b[0m\u001b[1;33m\n",
       "\u001b[0m    \u001b[0mself\u001b[0m\u001b[1;33m.\u001b[0m\u001b[0mmetricas_evaluadas\u001b[0m\u001b[1;33m[\u001b[0m\u001b[1;34m'inflacion'\u001b[0m\u001b[1;33m]\u001b[0m \u001b[1;33m=\u001b[0m \u001b[1;33m[\u001b[0m\u001b[1;33m]\u001b[0m\u001b[1;33m\n",
       "\u001b[0m    \u001b[0mself\u001b[0m\u001b[1;33m.\u001b[0m\u001b[0mqueue\u001b[0m \u001b[1;33m=\u001b[0m \u001b[0mqueue\u001b[0m\u001b[1;33m.\u001b[0m\u001b[0mQueue\u001b[0m\u001b[1;33m(\u001b[0m\u001b[1;33m)\u001b[0m \u001b[1;31m#Fila de tuplas (Nodo, aumento)\u001b[0m\u001b[1;33m\n",
       "\u001b[0m    \u001b[0mself\u001b[0m\u001b[1;33m.\u001b[0m\u001b[0mduracion_periodo\u001b[0m \u001b[1;33m=\u001b[0m \u001b[0mduracion_periodo\u001b[0m\u001b[1;33m\n",
       "\u001b[0m    \u001b[0mself\u001b[0m\u001b[1;33m.\u001b[0m\u001b[0mprecios_periodo_pasado\u001b[0m \u001b[1;33m=\u001b[0m \u001b[1;33m{\u001b[0m\u001b[1;33m}\u001b[0m\u001b[1;33m\n",
       "\u001b[0m    \u001b[1;32mfor\u001b[0m \u001b[0mnodo\u001b[0m \u001b[1;32min\u001b[0m \u001b[0mself\u001b[0m\u001b[1;33m.\u001b[0m\u001b[0mgrafo\u001b[0m\u001b[1;33m.\u001b[0m\u001b[0mnodes\u001b[0m\u001b[1;33m:\u001b[0m\u001b[1;33m\n",
       "\u001b[0m      \u001b[0mself\u001b[0m\u001b[1;33m.\u001b[0m\u001b[0mprecios_periodo_pasado\u001b[0m\u001b[1;33m[\u001b[0m\u001b[0mnodo\u001b[0m\u001b[1;33m]\u001b[0m \u001b[1;33m=\u001b[0m \u001b[0mself\u001b[0m\u001b[1;33m.\u001b[0m\u001b[0mgrafo\u001b[0m\u001b[1;33m.\u001b[0m\u001b[0mnodes\u001b[0m\u001b[1;33m[\u001b[0m\u001b[0mnodo\u001b[0m\u001b[1;33m]\u001b[0m\u001b[1;33m[\u001b[0m\u001b[1;34m'precio'\u001b[0m\u001b[1;33m]\u001b[0m\u001b[1;33m\n",
       "\u001b[0m\u001b[1;33m\n",
       "\u001b[0m    \u001b[0mself\u001b[0m\u001b[1;33m.\u001b[0m\u001b[0m_calc_inflacion\u001b[0m \u001b[1;33m=\u001b[0m \u001b[0mcalcular_inflacion\u001b[0m \u001b[1;32mor\u001b[0m \u001b[1;33m(\u001b[0m\u001b[1;32mlambda\u001b[0m \u001b[0mactual\u001b[0m\u001b[1;33m,\u001b[0m \u001b[0mpasado\u001b[0m\u001b[1;33m:\u001b[0m \u001b[1;36m0.0\u001b[0m\u001b[1;33m)\u001b[0m\u001b[1;33m\n",
       "\u001b[0m    \u001b[0mself\u001b[0m\u001b[1;33m.\u001b[0m\u001b[0minflacion\u001b[0m \u001b[1;33m=\u001b[0m \u001b[1;36m0\u001b[0m \u001b[1;31m# Expresada en %. (50 para 50%, 12 para 12%)\u001b[0m\u001b[1;33m\n",
       "\u001b[0m    \u001b[1;32massert\u001b[0m \u001b[1;36m0.0\u001b[0m \u001b[1;33m<=\u001b[0m \u001b[0malpha\u001b[0m \u001b[1;33m<=\u001b[0m \u001b[1;36m1.0\u001b[0m\u001b[1;33m\n",
       "\u001b[0m    \u001b[0mself\u001b[0m\u001b[1;33m.\u001b[0m\u001b[0malpha\u001b[0m \u001b[1;33m=\u001b[0m \u001b[0malpha\u001b[0m\u001b[1;33m\n",
       "\u001b[0m\u001b[1;33m\n",
       "\u001b[0m  \u001b[1;32mdef\u001b[0m \u001b[0mshock\u001b[0m\u001b[1;33m(\u001b[0m\u001b[0mself\u001b[0m\u001b[1;33m,\u001b[0m \u001b[0mnodo\u001b[0m\u001b[1;33m,\u001b[0m \u001b[0maumento\u001b[0m\u001b[1;33m)\u001b[0m\u001b[1;33m:\u001b[0m\u001b[1;33m\n",
       "\u001b[0m    \u001b[0mprecio_actual\u001b[0m \u001b[1;33m=\u001b[0m \u001b[0mself\u001b[0m\u001b[1;33m.\u001b[0m\u001b[0mgrafo\u001b[0m\u001b[1;33m.\u001b[0m\u001b[0mnodes\u001b[0m\u001b[1;33m[\u001b[0m\u001b[0mnodo\u001b[0m\u001b[1;33m]\u001b[0m\u001b[1;33m[\u001b[0m\u001b[1;34m'precio'\u001b[0m\u001b[1;33m]\u001b[0m\u001b[1;33m\n",
       "\u001b[0m    \u001b[0mnuevo_precio\u001b[0m \u001b[1;33m=\u001b[0m \u001b[1;33m{\u001b[0m \u001b[0mnodo\u001b[0m \u001b[1;33m:\u001b[0m \u001b[1;33m{\u001b[0m \u001b[1;34m'precio'\u001b[0m\u001b[1;33m:\u001b[0m \u001b[1;33m(\u001b[0m\u001b[0mprecio_actual\u001b[0m \u001b[1;33m*\u001b[0m \u001b[1;33m(\u001b[0m\u001b[1;36m1\u001b[0m \u001b[1;33m+\u001b[0m \u001b[1;33m(\u001b[0m\u001b[0maumento\u001b[0m\u001b[1;33m/\u001b[0m\u001b[1;36m100\u001b[0m\u001b[1;33m)\u001b[0m\u001b[1;33m)\u001b[0m\u001b[1;33m)\u001b[0m\u001b[1;33m}\u001b[0m\u001b[1;33m}\u001b[0m\u001b[1;33m\n",
       "\u001b[0m    \u001b[0mnx\u001b[0m\u001b[1;33m.\u001b[0m\u001b[0mset_node_attributes\u001b[0m\u001b[1;33m(\u001b[0m\u001b[0mself\u001b[0m\u001b[1;33m.\u001b[0m\u001b[0mgrafo\u001b[0m\u001b[1;33m,\u001b[0m \u001b[0mnuevo_precio\u001b[0m\u001b[1;33m)\u001b[0m\u001b[1;33m\n",
       "\u001b[0m    \u001b[0mvecinos\u001b[0m \u001b[1;33m=\u001b[0m \u001b[0mself\u001b[0m\u001b[1;33m.\u001b[0m\u001b[0mgrafo\u001b[0m\u001b[1;33m[\u001b[0m\u001b[0mnodo\u001b[0m\u001b[1;33m]\u001b[0m\u001b[1;33m.\u001b[0m\u001b[0mitems\u001b[0m\u001b[1;33m(\u001b[0m\u001b[1;33m)\u001b[0m\u001b[1;33m\n",
       "\u001b[0m    \u001b[0maumentos_a_pasar\u001b[0m \u001b[1;33m=\u001b[0m \u001b[1;33m[\u001b[0m\u001b[1;33m]\u001b[0m\u001b[1;33m\n",
       "\u001b[0m    \u001b[1;32mfor\u001b[0m \u001b[0mvecino\u001b[0m \u001b[1;32min\u001b[0m \u001b[0mvecinos\u001b[0m\u001b[1;33m:\u001b[0m\u001b[1;33m\n",
       "\u001b[0m      \u001b[0maumento_vecino\u001b[0m \u001b[1;33m=\u001b[0m \u001b[0mself\u001b[0m\u001b[1;33m.\u001b[0m\u001b[0mactualizar\u001b[0m\u001b[1;33m(\u001b[0m\u001b[0mvecino\u001b[0m\u001b[1;33m,\u001b[0m\u001b[0maumento\u001b[0m\u001b[1;33m)\u001b[0m\u001b[1;33m\n",
       "\u001b[0m      \u001b[0maumentos_a_pasar\u001b[0m\u001b[1;33m.\u001b[0m\u001b[0mappend\u001b[0m\u001b[1;33m(\u001b[0m\u001b[0maumento_vecino\u001b[0m\u001b[1;33m)\u001b[0m\u001b[1;33m\n",
       "\u001b[0m    \u001b[1;32mfor\u001b[0m \u001b[0mi\u001b[0m\u001b[1;33m,\u001b[0m \u001b[0mvecino\u001b[0m \u001b[1;32min\u001b[0m \u001b[0menumerate\u001b[0m\u001b[1;33m(\u001b[0m\u001b[0mvecinos\u001b[0m\u001b[1;33m)\u001b[0m\u001b[1;33m:\u001b[0m\u001b[1;33m\n",
       "\u001b[0m      \u001b[0mself\u001b[0m\u001b[1;33m.\u001b[0m\u001b[0mqueue\u001b[0m\u001b[1;33m.\u001b[0m\u001b[0mput\u001b[0m\u001b[1;33m(\u001b[0m\u001b[1;33m(\u001b[0m\u001b[0mvecino\u001b[0m\u001b[1;33m[\u001b[0m\u001b[1;36m0\u001b[0m\u001b[1;33m]\u001b[0m\u001b[1;33m,\u001b[0m \u001b[0maumentos_a_pasar\u001b[0m\u001b[1;33m[\u001b[0m\u001b[0mi\u001b[0m\u001b[1;33m]\u001b[0m\u001b[1;33m)\u001b[0m\u001b[1;33m)\u001b[0m\u001b[1;33m\n",
       "\u001b[0m\u001b[1;33m\n",
       "\u001b[0m  \u001b[1;32mdef\u001b[0m \u001b[0mstep\u001b[0m\u001b[1;33m(\u001b[0m\u001b[0mself\u001b[0m\u001b[1;33m,\u001b[0m \u001b[0mn\u001b[0m\u001b[1;33m=\u001b[0m\u001b[1;36m1\u001b[0m\u001b[1;33m)\u001b[0m\u001b[1;33m:\u001b[0m \u001b[1;31m# aumento pasado en %.\u001b[0m\u001b[1;33m\n",
       "\u001b[0m    \u001b[1;32mfor\u001b[0m \u001b[0m_\u001b[0m \u001b[1;32min\u001b[0m \u001b[0mrange\u001b[0m\u001b[1;33m(\u001b[0m\u001b[0mn\u001b[0m\u001b[1;33m)\u001b[0m\u001b[1;33m:\u001b[0m\u001b[1;33m\n",
       "\u001b[0m        \u001b[0mself\u001b[0m\u001b[1;33m.\u001b[0m\u001b[0m_single_step\u001b[0m\u001b[1;33m(\u001b[0m\u001b[1;33m)\u001b[0m\u001b[1;33m\n",
       "\u001b[0m        \u001b[0mself\u001b[0m\u001b[1;33m.\u001b[0m\u001b[0m_calcular_metricas\u001b[0m\u001b[1;33m(\u001b[0m\u001b[1;33m)\u001b[0m\u001b[1;33m\n",
       "\u001b[0m        \u001b[0mself\u001b[0m\u001b[1;33m.\u001b[0m\u001b[0m_curr_step\u001b[0m \u001b[1;33m+=\u001b[0m \u001b[1;36m1\u001b[0m\u001b[1;33m\n",
       "\u001b[0m\u001b[1;33m\n",
       "\u001b[0m  \u001b[1;32mdef\u001b[0m \u001b[0mactualizar\u001b[0m\u001b[1;33m(\u001b[0m\u001b[0mself\u001b[0m\u001b[1;33m,\u001b[0m \u001b[0mvecino\u001b[0m\u001b[1;33m,\u001b[0m \u001b[0maumento\u001b[0m\u001b[1;33m)\u001b[0m\u001b[1;33m:\u001b[0m   \u001b[1;33m\n",
       "\u001b[0m    \u001b[0mnodo_vecino\u001b[0m \u001b[1;33m=\u001b[0m \u001b[0mvecino\u001b[0m\u001b[1;33m[\u001b[0m\u001b[1;36m0\u001b[0m\u001b[1;33m]\u001b[0m\u001b[1;33m\n",
       "\u001b[0m    \u001b[0mprecio_actual\u001b[0m \u001b[1;33m=\u001b[0m \u001b[0mself\u001b[0m\u001b[1;33m.\u001b[0m\u001b[0mgrafo\u001b[0m\u001b[1;33m.\u001b[0m\u001b[0mnodes\u001b[0m\u001b[1;33m[\u001b[0m\u001b[0mnodo_vecino\u001b[0m\u001b[1;33m]\u001b[0m\u001b[1;33m[\u001b[0m\u001b[1;34m'precio'\u001b[0m\u001b[1;33m]\u001b[0m\u001b[1;33m\n",
       "\u001b[0m    \u001b[0mpeso_arista\u001b[0m \u001b[1;33m=\u001b[0m \u001b[0mvecino\u001b[0m\u001b[1;33m[\u001b[0m\u001b[1;36m1\u001b[0m\u001b[1;33m]\u001b[0m\u001b[1;33m[\u001b[0m\u001b[1;34m'w'\u001b[0m\u001b[1;33m]\u001b[0m\u001b[1;33m\n",
       "\u001b[0m    \u001b[0maumento_vecino\u001b[0m \u001b[1;33m=\u001b[0m \u001b[0mself\u001b[0m\u001b[1;33m.\u001b[0m\u001b[0mdinamica\u001b[0m\u001b[1;33m(\u001b[0m\u001b[0maumento\u001b[0m\u001b[1;33m,\u001b[0m \u001b[0mpeso_arista\u001b[0m\u001b[1;33m,\u001b[0m \u001b[0mself\u001b[0m\u001b[1;33m.\u001b[0m\u001b[0minflacion\u001b[0m\u001b[1;33m,\u001b[0m \u001b[0mself\u001b[0m\u001b[1;33m.\u001b[0m\u001b[0malpha\u001b[0m\u001b[1;33m)\u001b[0m\u001b[1;33m\n",
       "\u001b[0m    \u001b[0mnuevo_precio\u001b[0m \u001b[1;33m=\u001b[0m \u001b[1;33m{\u001b[0m\u001b[0mnodo_vecino\u001b[0m \u001b[1;33m:\u001b[0m \u001b[1;33m{\u001b[0m\u001b[1;34m'precio'\u001b[0m\u001b[1;33m:\u001b[0m  \u001b[1;33m(\u001b[0m\u001b[0mprecio_actual\u001b[0m \u001b[1;33m*\u001b[0m \u001b[1;33m(\u001b[0m\u001b[1;36m1\u001b[0m \u001b[1;33m+\u001b[0m \u001b[1;33m(\u001b[0m\u001b[0maumento_vecino\u001b[0m \u001b[1;33m/\u001b[0m \u001b[1;36m100\u001b[0m\u001b[1;33m)\u001b[0m\u001b[1;33m)\u001b[0m\u001b[1;33m)\u001b[0m\u001b[1;33m}\u001b[0m\u001b[1;33m}\u001b[0m\u001b[1;33m\n",
       "\u001b[0m    \u001b[0mnx\u001b[0m\u001b[1;33m.\u001b[0m\u001b[0mset_node_attributes\u001b[0m\u001b[1;33m(\u001b[0m\u001b[0mself\u001b[0m\u001b[1;33m.\u001b[0m\u001b[0mgrafo\u001b[0m\u001b[1;33m,\u001b[0m \u001b[0mnuevo_precio\u001b[0m\u001b[1;33m)\u001b[0m\u001b[1;33m\n",
       "\u001b[0m    \u001b[1;32mreturn\u001b[0m \u001b[0maumento_vecino\u001b[0m\u001b[1;33m\n",
       "\u001b[0m\u001b[1;33m\n",
       "\u001b[0m  \u001b[1;32mdef\u001b[0m \u001b[0m_single_step\u001b[0m\u001b[1;33m(\u001b[0m\u001b[0mself\u001b[0m\u001b[1;33m)\u001b[0m\u001b[1;33m:\u001b[0m\u001b[1;33m\n",
       "\u001b[0m    \u001b[1;32mif\u001b[0m \u001b[0mself\u001b[0m\u001b[1;33m.\u001b[0m\u001b[0m_curr_step\u001b[0m \u001b[1;33m%\u001b[0m \u001b[0mself\u001b[0m\u001b[1;33m.\u001b[0m\u001b[0mduracion_periodo\u001b[0m \u001b[1;33m==\u001b[0m \u001b[1;36m0\u001b[0m\u001b[1;33m:\u001b[0m\u001b[1;33m\n",
       "\u001b[0m      \u001b[0mself\u001b[0m\u001b[1;33m.\u001b[0m\u001b[0mactualizar_inflacion\u001b[0m\u001b[1;33m(\u001b[0m\u001b[1;33m)\u001b[0m\u001b[1;33m\n",
       "\u001b[0m\u001b[1;33m\n",
       "\u001b[0m    \u001b[1;32mif\u001b[0m \u001b[1;32mnot\u001b[0m \u001b[0mself\u001b[0m\u001b[1;33m.\u001b[0m\u001b[0mqueue\u001b[0m\u001b[1;33m.\u001b[0m\u001b[0mempty\u001b[0m\u001b[1;33m(\u001b[0m\u001b[1;33m)\u001b[0m\u001b[1;33m:\u001b[0m\u001b[1;33m\n",
       "\u001b[0m      \u001b[0mnodo_actual\u001b[0m\u001b[1;33m,\u001b[0m \u001b[0maumento\u001b[0m \u001b[1;33m=\u001b[0m \u001b[0mself\u001b[0m\u001b[1;33m.\u001b[0m\u001b[0mqueue\u001b[0m\u001b[1;33m.\u001b[0m\u001b[0mget\u001b[0m\u001b[1;33m(\u001b[0m\u001b[1;33m)\u001b[0m\u001b[1;33m\n",
       "\u001b[0m      \u001b[0mvecinos\u001b[0m \u001b[1;33m=\u001b[0m \u001b[0mself\u001b[0m\u001b[1;33m.\u001b[0m\u001b[0mgrafo\u001b[0m\u001b[1;33m[\u001b[0m\u001b[0mnodo_actual\u001b[0m\u001b[1;33m]\u001b[0m\u001b[1;33m.\u001b[0m\u001b[0mitems\u001b[0m\u001b[1;33m(\u001b[0m\u001b[1;33m)\u001b[0m\u001b[1;33m\n",
       "\u001b[0m      \u001b[0maumentos_a_pasar\u001b[0m \u001b[1;33m=\u001b[0m \u001b[1;33m[\u001b[0m\u001b[1;33m]\u001b[0m\u001b[1;33m\n",
       "\u001b[0m      \u001b[1;32mfor\u001b[0m \u001b[0mvecino\u001b[0m \u001b[1;32min\u001b[0m \u001b[0mvecinos\u001b[0m\u001b[1;33m:\u001b[0m\u001b[1;33m\n",
       "\u001b[0m        \u001b[0maumento_vecino\u001b[0m \u001b[1;33m=\u001b[0m \u001b[0mself\u001b[0m\u001b[1;33m.\u001b[0m\u001b[0mactualizar\u001b[0m\u001b[1;33m(\u001b[0m\u001b[0mvecino\u001b[0m\u001b[1;33m,\u001b[0m\u001b[0maumento\u001b[0m\u001b[1;33m)\u001b[0m \u001b[1;31m#Side effect actualiza ese vecino.\u001b[0m\u001b[1;33m\n",
       "\u001b[0m        \u001b[0maumentos_a_pasar\u001b[0m\u001b[1;33m.\u001b[0m\u001b[0mappend\u001b[0m\u001b[1;33m(\u001b[0m\u001b[0maumento_vecino\u001b[0m\u001b[1;33m)\u001b[0m\u001b[1;33m\n",
       "\u001b[0m      \u001b[1;32mfor\u001b[0m \u001b[0mi\u001b[0m\u001b[1;33m,\u001b[0m \u001b[0mvecino\u001b[0m \u001b[1;32min\u001b[0m \u001b[0menumerate\u001b[0m\u001b[1;33m(\u001b[0m\u001b[0mvecinos\u001b[0m\u001b[1;33m)\u001b[0m\u001b[1;33m:\u001b[0m\u001b[1;33m\n",
       "\u001b[0m        \u001b[0mself\u001b[0m\u001b[1;33m.\u001b[0m\u001b[0mqueue\u001b[0m\u001b[1;33m.\u001b[0m\u001b[0mput\u001b[0m\u001b[1;33m(\u001b[0m\u001b[1;33m(\u001b[0m\u001b[0mvecino\u001b[0m\u001b[1;33m[\u001b[0m\u001b[1;36m0\u001b[0m\u001b[1;33m]\u001b[0m\u001b[1;33m,\u001b[0m \u001b[0maumentos_a_pasar\u001b[0m\u001b[1;33m[\u001b[0m\u001b[0mi\u001b[0m\u001b[1;33m]\u001b[0m\u001b[1;33m)\u001b[0m\u001b[1;33m)\u001b[0m\u001b[1;33m\n",
       "\u001b[0m\u001b[1;33m\n",
       "\u001b[0m  \u001b[1;32mdef\u001b[0m \u001b[0mactualizar_inflacion\u001b[0m\u001b[1;33m(\u001b[0m\u001b[0mself\u001b[0m\u001b[1;33m)\u001b[0m\u001b[1;33m:\u001b[0m \u001b[1;33m\n",
       "\u001b[0m      \u001b[0mprecios_periodo_actual\u001b[0m \u001b[1;33m=\u001b[0m \u001b[1;33m{\u001b[0m\u001b[1;33m}\u001b[0m\u001b[1;33m\n",
       "\u001b[0m      \u001b[1;32mfor\u001b[0m \u001b[0mnodo\u001b[0m \u001b[1;32min\u001b[0m \u001b[0mself\u001b[0m\u001b[1;33m.\u001b[0m\u001b[0mgrafo\u001b[0m\u001b[1;33m.\u001b[0m\u001b[0mnodes\u001b[0m\u001b[1;33m:\u001b[0m\u001b[1;33m\n",
       "\u001b[0m        \u001b[0mprecios_periodo_actual\u001b[0m\u001b[1;33m[\u001b[0m\u001b[0mnodo\u001b[0m\u001b[1;33m]\u001b[0m \u001b[1;33m=\u001b[0m \u001b[0mself\u001b[0m\u001b[1;33m.\u001b[0m\u001b[0mgrafo\u001b[0m\u001b[1;33m.\u001b[0m\u001b[0mnodes\u001b[0m\u001b[1;33m[\u001b[0m\u001b[0mnodo\u001b[0m\u001b[1;33m]\u001b[0m\u001b[1;33m[\u001b[0m\u001b[1;34m'precio'\u001b[0m\u001b[1;33m]\u001b[0m      \u001b[1;33m\n",
       "\u001b[0m      \u001b[0mself\u001b[0m\u001b[1;33m.\u001b[0m\u001b[0minflacion\u001b[0m \u001b[1;33m=\u001b[0m \u001b[0mself\u001b[0m\u001b[1;33m.\u001b[0m\u001b[0m_calc_inflacion\u001b[0m\u001b[1;33m(\u001b[0m\u001b[0mprecios_periodo_actual\u001b[0m\u001b[1;33m.\u001b[0m\u001b[0mvalues\u001b[0m\u001b[1;33m(\u001b[0m\u001b[1;33m)\u001b[0m\u001b[1;33m,\u001b[0m \u001b[0mself\u001b[0m\u001b[1;33m.\u001b[0m\u001b[0mprecios_periodo_pasado\u001b[0m\u001b[1;33m.\u001b[0m\u001b[0mvalues\u001b[0m\u001b[1;33m(\u001b[0m\u001b[1;33m)\u001b[0m\u001b[1;33m)\u001b[0m\u001b[1;33m\n",
       "\u001b[0m      \u001b[0mself\u001b[0m\u001b[1;33m.\u001b[0m\u001b[0mprecios_periodo_pasado\u001b[0m \u001b[1;33m=\u001b[0m \u001b[0mprecios_periodo_actual\u001b[0m\u001b[1;33m.\u001b[0m\u001b[0mcopy\u001b[0m\u001b[1;33m(\u001b[0m\u001b[1;33m)\u001b[0m\u001b[1;33m\n",
       "\u001b[0m  \u001b[1;32mdef\u001b[0m \u001b[0m_calcular_metricas\u001b[0m\u001b[1;33m(\u001b[0m\u001b[0mself\u001b[0m\u001b[1;33m)\u001b[0m\u001b[1;33m:\u001b[0m\u001b[1;33m\n",
       "\u001b[0m    \u001b[0mself\u001b[0m\u001b[1;33m.\u001b[0m\u001b[0mmetricas_evaluadas\u001b[0m\u001b[1;33m[\u001b[0m\u001b[1;34m'inflacion'\u001b[0m\u001b[1;33m]\u001b[0m\u001b[1;33m.\u001b[0m\u001b[0mappend\u001b[0m\u001b[1;33m(\u001b[0m\u001b[0mself\u001b[0m\u001b[1;33m.\u001b[0m\u001b[0minflacion\u001b[0m\u001b[1;33m)\u001b[0m\u001b[1;33m\n",
       "\u001b[0m    \u001b[1;32mfor\u001b[0m \u001b[0mnombre\u001b[0m\u001b[1;33m,\u001b[0m \u001b[0mmetrica\u001b[0m \u001b[1;32min\u001b[0m \u001b[0mself\u001b[0m\u001b[1;33m.\u001b[0m\u001b[0mmetricas\u001b[0m\u001b[1;33m.\u001b[0m\u001b[0mitems\u001b[0m\u001b[1;33m(\u001b[0m\u001b[1;33m)\u001b[0m\u001b[1;33m:\u001b[0m\u001b[1;33m\n",
       "\u001b[0m          \u001b[0mself\u001b[0m\u001b[1;33m.\u001b[0m\u001b[0mmetricas_evaluadas\u001b[0m\u001b[1;33m[\u001b[0m\u001b[0mnombre\u001b[0m\u001b[1;33m]\u001b[0m\u001b[1;33m.\u001b[0m\u001b[0mappend\u001b[0m\u001b[1;33m(\u001b[0m\u001b[0mmetrica\u001b[0m\u001b[1;33m(\u001b[0m\u001b[0mself\u001b[0m\u001b[1;33m.\u001b[0m\u001b[0mgrafo\u001b[0m\u001b[1;33m)\u001b[0m\u001b[1;33m)\u001b[0m\u001b[1;33m\n",
       "\u001b[0m\u001b[1;33m\n",
       "\u001b[0m  \u001b[1;32mdef\u001b[0m \u001b[0m__str__\u001b[0m\u001b[1;33m(\u001b[0m\u001b[0mself\u001b[0m\u001b[1;33m)\u001b[0m\u001b[1;33m:\u001b[0m\u001b[1;33m\n",
       "\u001b[0m      \u001b[1;32mreturn\u001b[0m \u001b[0mstr\u001b[0m\u001b[1;33m(\u001b[0m\u001b[0mself\u001b[0m\u001b[1;33m.\u001b[0m\u001b[0mto_dict\u001b[0m\u001b[1;33m(\u001b[0m\u001b[1;33m)\u001b[0m\u001b[1;33m)\u001b[0m\u001b[1;33m\n",
       "\u001b[0m\u001b[1;33m\n",
       "\u001b[0m  \u001b[1;32mdef\u001b[0m \u001b[0m__repr__\u001b[0m\u001b[1;33m(\u001b[0m\u001b[0mself\u001b[0m\u001b[1;33m)\u001b[0m\u001b[1;33m:\u001b[0m\u001b[1;33m\n",
       "\u001b[0m      \u001b[1;32mreturn\u001b[0m \u001b[0mstr\u001b[0m\u001b[1;33m(\u001b[0m\u001b[0mself\u001b[0m\u001b[1;33m)\u001b[0m\u001b[1;33m\n",
       "\u001b[0m\u001b[1;33m\n",
       "\u001b[0m  \u001b[1;32mdef\u001b[0m \u001b[0mto_dict\u001b[0m\u001b[1;33m(\u001b[0m\u001b[0mself\u001b[0m\u001b[1;33m)\u001b[0m\u001b[1;33m:\u001b[0m\u001b[1;33m\n",
       "\u001b[0m      \u001b[1;32mreturn\u001b[0m \u001b[1;33m{\u001b[0m\u001b[1;34m\"id_grafo\"\u001b[0m\u001b[1;33m:\u001b[0m \u001b[0mhash\u001b[0m\u001b[1;33m(\u001b[0m\u001b[0mself\u001b[0m\u001b[1;33m.\u001b[0m\u001b[0mgrafo\u001b[0m\u001b[1;33m)\u001b[0m\u001b[1;33m,\u001b[0m \u001b[1;34m\"step\"\u001b[0m\u001b[1;33m:\u001b[0m \u001b[0mself\u001b[0m\u001b[1;33m.\u001b[0m\u001b[0m_curr_step\u001b[0m\u001b[1;33m,\u001b[0m \u001b[1;34m\"metricas\"\u001b[0m\u001b[1;33m:\u001b[0m \u001b[0mself\u001b[0m\u001b[1;33m.\u001b[0m\u001b[0m_metricas_evaluadas\u001b[0m\u001b[1;33m}\u001b[0m\u001b[1;33m\u001b[0m\u001b[1;33m\u001b[0m\u001b[0m\n",
       "\u001b[1;31mFile:\u001b[0m           c:\\users\\augus\\dev\\gh\\akielbowicz\\tp-msscae-2024\\src\\experimento.py\n",
       "\u001b[1;31mType:\u001b[0m           type\n",
       "\u001b[1;31mSubclasses:\u001b[0m     "
      ]
     },
     "metadata": {},
     "output_type": "display_data"
    }
   ],
   "source": [
    "exp.Experimento??"
   ]
  },
  {
   "cell_type": "markdown",
   "id": "53b4b70b-9a74-4a70-8593-a0904de5e97d",
   "metadata": {
    "editable": true,
    "slideshow": {
     "slide_type": "subslide"
    },
    "tags": []
   },
   "source": [
    "### Dinámicas"
   ]
  },
  {
   "cell_type": "code",
   "execution_count": 36,
   "id": "4da00657-80fd-4e24-bf9b-77a58ffdaa80",
   "metadata": {
    "editable": true,
    "slideshow": {
     "slide_type": "subslide"
    },
    "tags": []
   },
   "outputs": [
    {
     "data": {
      "text/plain": [
       "\u001b[1;31mSignature:\u001b[0m \u001b[0mmodelo\u001b[0m\u001b[1;33m.\u001b[0m\u001b[0mdinamica_local\u001b[0m\u001b[1;33m(\u001b[0m\u001b[0maumento\u001b[0m\u001b[1;33m,\u001b[0m \u001b[0mpeso_arista\u001b[0m\u001b[1;33m,\u001b[0m \u001b[0minflacion\u001b[0m\u001b[1;33m=\u001b[0m\u001b[1;36m0.0\u001b[0m\u001b[1;33m,\u001b[0m \u001b[0malpha\u001b[0m\u001b[1;33m=\u001b[0m\u001b[1;36m1.0\u001b[0m\u001b[1;33m)\u001b[0m\u001b[1;33m\u001b[0m\u001b[1;33m\u001b[0m\u001b[0m\n",
       "\u001b[1;31mDocstring:\u001b[0m <no docstring>\n",
       "\u001b[1;31mSource:\u001b[0m   \n",
       "\u001b[1;32mdef\u001b[0m \u001b[0mdinamica_1\u001b[0m\u001b[1;33m(\u001b[0m\u001b[0maumento\u001b[0m\u001b[1;33m,\u001b[0m \u001b[0mpeso_arista\u001b[0m\u001b[1;33m,\u001b[0m \u001b[0minflacion\u001b[0m\u001b[1;33m=\u001b[0m\u001b[1;36m0.0\u001b[0m\u001b[1;33m,\u001b[0m \u001b[0malpha\u001b[0m\u001b[1;33m=\u001b[0m\u001b[1;36m1.0\u001b[0m\u001b[1;33m)\u001b[0m\u001b[1;33m:\u001b[0m\u001b[1;33m\n",
       "\u001b[0m    \u001b[0maumento_vecino\u001b[0m \u001b[1;33m=\u001b[0m \u001b[0maumento\u001b[0m \u001b[1;33m*\u001b[0m \u001b[0mpeso_arista\u001b[0m\u001b[1;33m\n",
       "\u001b[0m    \u001b[1;32mreturn\u001b[0m \u001b[0maumento_vecino\u001b[0m\u001b[1;33m\u001b[0m\u001b[1;33m\u001b[0m\u001b[0m\n",
       "\u001b[1;31mFile:\u001b[0m      c:\\users\\augus\\dev\\gh\\akielbowicz\\tp-msscae-2024\\src\\modelo.py\n",
       "\u001b[1;31mType:\u001b[0m      function"
      ]
     },
     "metadata": {},
     "output_type": "display_data"
    }
   ],
   "source": [
    "modelo.dinamica_local??"
   ]
  },
  {
   "cell_type": "code",
   "execution_count": 37,
   "id": "f2d09224-fe84-4d98-b753-37546af59001",
   "metadata": {
    "editable": true,
    "slideshow": {
     "slide_type": "subslide"
    },
    "tags": []
   },
   "outputs": [
    {
     "data": {
      "text/plain": [
       "\u001b[1;31mSignature:\u001b[0m \u001b[0mmodelo\u001b[0m\u001b[1;33m.\u001b[0m\u001b[0mdinamica_global\u001b[0m\u001b[1;33m(\u001b[0m\u001b[0maumento\u001b[0m\u001b[1;33m,\u001b[0m \u001b[0mpeso_arista\u001b[0m\u001b[1;33m,\u001b[0m \u001b[0minflacion\u001b[0m\u001b[1;33m,\u001b[0m \u001b[0malpha\u001b[0m\u001b[1;33m=\u001b[0m\u001b[1;36m1.0\u001b[0m\u001b[1;33m)\u001b[0m\u001b[1;33m\u001b[0m\u001b[1;33m\u001b[0m\u001b[0m\n",
       "\u001b[1;31mDocstring:\u001b[0m <no docstring>\n",
       "\u001b[1;31mSource:\u001b[0m   \n",
       "\u001b[1;32mdef\u001b[0m \u001b[0mdinamica_2\u001b[0m\u001b[1;33m(\u001b[0m\u001b[0maumento\u001b[0m\u001b[1;33m,\u001b[0m \u001b[0mpeso_arista\u001b[0m\u001b[1;33m,\u001b[0m \u001b[0minflacion\u001b[0m\u001b[1;33m,\u001b[0m \u001b[0malpha\u001b[0m\u001b[1;33m=\u001b[0m\u001b[1;36m1.0\u001b[0m\u001b[1;33m)\u001b[0m\u001b[1;33m:\u001b[0m\u001b[1;33m\n",
       "\u001b[0m    \u001b[0maumento_vecino\u001b[0m \u001b[1;33m=\u001b[0m \u001b[0minflacion\u001b[0m\u001b[1;33m\n",
       "\u001b[0m    \u001b[1;32mreturn\u001b[0m \u001b[0maumento_vecino\u001b[0m\u001b[1;33m\u001b[0m\u001b[1;33m\u001b[0m\u001b[0m\n",
       "\u001b[1;31mFile:\u001b[0m      c:\\users\\augus\\dev\\gh\\akielbowicz\\tp-msscae-2024\\src\\modelo.py\n",
       "\u001b[1;31mType:\u001b[0m      function"
      ]
     },
     "metadata": {},
     "output_type": "display_data"
    }
   ],
   "source": [
    "modelo.dinamica_global??"
   ]
  },
  {
   "cell_type": "code",
   "execution_count": 38,
   "id": "e2a91ea3-7957-4429-88e6-388cd7de6c23",
   "metadata": {
    "editable": true,
    "slideshow": {
     "slide_type": "subslide"
    },
    "tags": []
   },
   "outputs": [
    {
     "data": {
      "text/plain": [
       "\u001b[1;31mSignature:\u001b[0m \u001b[0mmodelo\u001b[0m\u001b[1;33m.\u001b[0m\u001b[0mdinamica_mixta\u001b[0m\u001b[1;33m(\u001b[0m\u001b[0maumento\u001b[0m\u001b[1;33m,\u001b[0m \u001b[0mpeso_arista\u001b[0m\u001b[1;33m,\u001b[0m \u001b[0minflacion\u001b[0m\u001b[1;33m,\u001b[0m \u001b[0malpha\u001b[0m\u001b[1;33m)\u001b[0m\u001b[1;33m\u001b[0m\u001b[1;33m\u001b[0m\u001b[0m\n",
       "\u001b[1;31mDocstring:\u001b[0m <no docstring>\n",
       "\u001b[1;31mSource:\u001b[0m   \n",
       "\u001b[1;32mdef\u001b[0m \u001b[0mdinamica_3\u001b[0m\u001b[1;33m(\u001b[0m\u001b[0maumento\u001b[0m\u001b[1;33m,\u001b[0m \u001b[0mpeso_arista\u001b[0m\u001b[1;33m,\u001b[0m \u001b[0minflacion\u001b[0m\u001b[1;33m,\u001b[0m \u001b[0malpha\u001b[0m\u001b[1;33m)\u001b[0m\u001b[1;33m:\u001b[0m\u001b[1;33m\n",
       "\u001b[0m    \u001b[0maumento_vecino\u001b[0m \u001b[1;33m=\u001b[0m \u001b[1;33m(\u001b[0m\u001b[0malpha\u001b[0m \u001b[1;33m*\u001b[0m \u001b[0minflacion\u001b[0m\u001b[1;33m)\u001b[0m \u001b[1;33m+\u001b[0m \u001b[1;33m(\u001b[0m\u001b[1;33m(\u001b[0m\u001b[1;36m1\u001b[0m \u001b[1;33m-\u001b[0m \u001b[0malpha\u001b[0m\u001b[1;33m)\u001b[0m \u001b[1;33m*\u001b[0m \u001b[1;33m(\u001b[0m\u001b[1;33m(\u001b[0m\u001b[0maumento\u001b[0m\u001b[1;33m)\u001b[0m \u001b[1;33m*\u001b[0m \u001b[0mpeso_arista\u001b[0m\u001b[1;33m)\u001b[0m\u001b[1;33m)\u001b[0m\u001b[1;33m\n",
       "\u001b[0m    \u001b[1;32mreturn\u001b[0m \u001b[0maumento_vecino\u001b[0m\u001b[1;33m\u001b[0m\u001b[1;33m\u001b[0m\u001b[0m\n",
       "\u001b[1;31mFile:\u001b[0m      c:\\users\\augus\\dev\\gh\\akielbowicz\\tp-msscae-2024\\src\\modelo.py\n",
       "\u001b[1;31mType:\u001b[0m      function"
      ]
     },
     "metadata": {},
     "output_type": "display_data"
    }
   ],
   "source": [
    "modelo.dinamica_mixta??"
   ]
  },
  {
   "cell_type": "markdown",
   "id": "971d1301aa4d092b",
   "metadata": {
    "collapsed": false,
    "editable": true,
    "jupyter": {
     "outputs_hidden": false
    },
    "slideshow": {
     "slide_type": "skip"
    },
    "tags": []
   },
   "source": [
    "## Cargamos los imports."
   ]
  },
  {
   "cell_type": "code",
   "execution_count": 1,
   "id": "c6a53a7d",
   "metadata": {
    "ExecuteTime": {
     "end_time": "2024-07-01T04:17:08.145673600Z",
     "start_time": "2024-07-01T04:17:08.076695700Z"
    },
    "editable": true,
    "slideshow": {
     "slide_type": "skip"
    },
    "tags": []
   },
   "outputs": [],
   "source": [
    "import init\n",
    "import warnings\n",
    "warnings.filterwarnings('ignore')"
   ]
  },
  {
   "cell_type": "code",
   "execution_count": 2,
   "id": "initial_id",
   "metadata": {
    "ExecuteTime": {
     "end_time": "2024-07-01T04:17:09.546654400Z",
     "start_time": "2024-07-01T04:17:09.478013500Z"
    },
    "editable": true,
    "slideshow": {
     "slide_type": "skip"
    },
    "tags": []
   },
   "outputs": [],
   "source": [
    "import grafo \n",
    "import experimento as exp\n",
    "from experimento import plot_inflaciones, verEvolucion\n",
    "import modelo \n",
    "import matplotlib.pyplot as plt\n",
    "import numpy as np\n",
    "import networkx as nx\n",
    "import pandas as pd\n",
    "import quantecon_book_networks\n",
    "import quantecon_book_networks.input_output as qbn_io\n",
    "import quantecon_book_networks.plotting as qbn_plt\n",
    "import quantecon_book_networks.data as qbn_data"
   ]
  }
 ],
 "metadata": {
  "authors": [
   {
    "name": "Jane Doe"
   },
   {
    "name": "John Doe"
   }
  ],
  "kernelspec": {
   "display_name": "Python 3 (ipykernel)",
   "language": "python",
   "name": "python3"
  },
  "language_info": {
   "codemirror_mode": {
    "name": "ipython",
    "version": 3
   },
   "file_extension": ".py",
   "mimetype": "text/x-python",
   "name": "python",
   "nbconvert_exporter": "python",
   "pygments_lexer": "ipython3",
   "version": "3.10.11"
  },
  "title": "BLA"
 },
 "nbformat": 4,
 "nbformat_minor": 5
}
