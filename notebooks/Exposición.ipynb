{
 "cells": [
  {
   "cell_type": "markdown",
   "source": [
    "## Cargamos los imports."
   ],
   "metadata": {
    "collapsed": false
   },
   "id": "971d1301aa4d092b"
  },
  {
   "cell_type": "code",
   "outputs": [],
   "source": [
    "from src import grafo as grafo\n",
    "from src import experimento as exp\n",
    "from src import modelo as modelo\n",
    "import pandas as pd\n",
    "import numpy as np\n",
    "import matplotlib.pyplot as plt "
   ],
   "metadata": {
    "collapsed": true,
    "ExecuteTime": {
     "end_time": "2024-06-27T20:05:44.875836200Z",
     "start_time": "2024-06-27T20:05:44.869660600Z"
    }
   },
   "id": "initial_id",
   "execution_count": 16
  },
  {
   "cell_type": "markdown",
   "source": [
    "# Motivación\n",
    "La idea de este modelo es estudiar, ante un shock de precios en un sector dado, cómo afectan las dinámicas propuestas entre los sectores productivos de la Argentina en la inflación global calculada a partir de las variaciones en los precios de los mismos. (Utilizando las relaciones dadas por la matriz de Insumo-Producto). \n",
    "\n",
    "## Preguntas a responder\n",
    "- ¿Cómo se propaga el aumento de precios a través de la red definida por la MIP?\n",
    "\n",
    "- ¿Cómo impacta el aumento de precio en un producto/sector sobre otros productos/sectores? ¿Se mantiene en la misma cadena productiva?\n",
    "\n",
    "- ¿Qué métricas se pueden computar sobre todo el sistema para describir el estado global del sistema? \n",
    "\n",
    "- ¿Cómo influyen las dinámicas de comportamiento de los agentes en la variación de la inflación global?\n",
    "\n",
    "- ¿Cuál es la sensibilidad del sistema respecto a variaciones de precio en nodos específicos? ¿Cuáles son los nodos que propagan de mayor forma la variación de precios?\n",
    "\n",
    "## Suposiciones (y limitaciones) del modelo\n",
    "- Cada agente es un sector productivo de la Argentina. Éste representaría a todos los productos (y productores) del sector.\n",
    "\n",
    "- Un cambio de precios >0 en los insumos provoca un cambio de precios saliente del agente (producción). Sólo vamos a estudiar variaciones positivas en los precios para atenernos a las preguntas a investigar con el modelo.\n",
    "\n",
    "- La economía es cerrada. Esto es, no se traen productos de otros países (importaciones) ni se vende nada a ellos (exportaciones) durante la evolución del sistema.\n",
    "\n",
    "- Rige la Ley de Say: la oferta es igual a la demanda.\n"
   ],
   "metadata": {
    "collapsed": false
   },
   "id": "9e8964aaaa11a94c"
  },
  {
   "cell_type": "markdown",
   "source": [
    "# Matriz Insumo Producto y Análisis\n",
    "\n",
    "Acá mostramos un poco el análisis del grafo y lo visualizamos"
   ],
   "metadata": {
    "collapsed": false
   },
   "id": "5dfab94560e8b149"
  },
  {
   "cell_type": "code",
   "outputs": [],
   "source": [
    "mip = pd.read_csv('../resources/MIP_normalizada.csv', index_col=0)"
   ],
   "metadata": {
    "collapsed": false
   },
   "id": "ef76db406af9398f",
   "execution_count": null
  },
  {
   "cell_type": "code",
   "outputs": [
    {
     "data": {
      "text/plain": "                                                    Cultivo de cereales, oleaginosas y forrajeras  \\\nCultivo de cereales, oleaginosas y forrajeras                                            0.010319   \nCultivo de hortalizas, legumbres, flores y plan...                                       0.000000   \nCultivo de frutas y nueces                                                               0.000000   \nCultivos industriales                                                                    0.000000   \nProducción de semillas                                                                   0.783146   \n...                                                                                           ...   \nServicios sociales                                                                       0.000000   \nServicios de saneamiento                                                                 0.000870   \nActividad de asociaciones                                                                0.003092   \nServicios de cine, radio y televisión                                                    0.000536   \nServicios personales, de reparación, actividade...                                       0.006876   \n\n                                                    Cultivo de hortalizas, legumbres, flores y plantas ornamentales  \\\nCultivo de cereales, oleaginosas y forrajeras                                                0.000000                 \nCultivo de hortalizas, legumbres, flores y plan...                                           0.167226                 \nCultivo de frutas y nueces                                                                   0.000000                 \nCultivos industriales                                                                        0.000000                 \nProducción de semillas                                                                       0.016374                 \n...                                                                                               ...                 \nServicios sociales                                                                           0.000000                 \nServicios de saneamiento                                                                     0.000193                 \nActividad de asociaciones                                                                    0.000686                 \nServicios de cine, radio y televisión                                                        0.000106                 \nServicios personales, de reparación, actividade...                                           0.000019                 \n\n                                                    Cultivo de frutas y nueces  \\\nCultivo de cereales, oleaginosas y forrajeras                         0.001542   \nCultivo de hortalizas, legumbres, flores y plan...                    0.009565   \nCultivo de frutas y nueces                                            0.000000   \nCultivos industriales                                                 0.000000   \nProducción de semillas                                                0.029820   \n...                                                                        ...   \nServicios sociales                                                    0.000000   \nServicios de saneamiento                                              0.000127   \nActividad de asociaciones                                             0.000453   \nServicios de cine, radio y televisión                                 0.000069   \nServicios personales, de reparación, actividade...                    0.000158   \n\n                                                    Cultivos industriales  \\\nCultivo de cereales, oleaginosas y forrajeras                    0.001601   \nCultivo de hortalizas, legumbres, flores y plan...               0.000000   \nCultivo de frutas y nueces                                       0.000000   \nCultivos industriales                                            0.020212   \nProducción de semillas                                           0.017254   \n...                                                                   ...   \nServicios sociales                                               0.000000   \nServicios de saneamiento                                         0.000219   \nActividad de asociaciones                                        0.000777   \nServicios de cine, radio y televisión                            0.000121   \nServicios personales, de reparación, actividade...               0.001907   \n\n                                                    Producción de semillas  \\\nCultivo de cereales, oleaginosas y forrajeras                     0.000000   \nCultivo de hortalizas, legumbres, flores y plan...                0.000000   \nCultivo de frutas y nueces                                        0.000000   \nCultivos industriales                                             0.000000   \nProducción de semillas                                            0.021740   \n...                                                                    ...   \nServicios sociales                                                0.000000   \nServicios de saneamiento                                          0.000107   \nActividad de asociaciones                                         0.000379   \nServicios de cine, radio y televisión                             0.000055   \nServicios personales, de reparación, actividade...                0.000225   \n\n                                                    Cría de ganado y producción de leche, lana y pelos  \\\nCultivo de cereales, oleaginosas y forrajeras                                                0.181660    \nCultivo de hortalizas, legumbres, flores y plan...                                           0.000000    \nCultivo de frutas y nueces                                                                   0.000000    \nCultivos industriales                                                                        0.000000    \nProducción de semillas                                                                       0.127875    \n...                                                                                               ...    \nServicios sociales                                                                           0.000000    \nServicios de saneamiento                                                                     0.000952    \nActividad de asociaciones                                                                    0.003384    \nServicios de cine, radio y televisión                                                        0.000569    \nServicios personales, de reparación, actividade...                                           0.006695    \n\n                                                    Producción de granja  \\\nCultivo de cereales, oleaginosas y forrajeras                   0.012263   \nCultivo de hortalizas, legumbres, flores y plan...              0.000000   \nCultivo de frutas y nueces                                      0.000000   \nCultivos industriales                                           0.000000   \nProducción de semillas                                          0.002291   \n...                                                                  ...   \nServicios sociales                                              0.000000   \nServicios de saneamiento                                        0.000202   \nActividad de asociaciones                                       0.000985   \nServicios de cine, radio y televisión                           0.000564   \nServicios personales, de reparación, actividade...              0.000461   \n\n                                                    Servicios agropecuarios  \\\nCultivo de cereales, oleaginosas y forrajeras                      0.000000   \nCultivo de hortalizas, legumbres, flores y plan...                 0.000000   \nCultivo de frutas y nueces                                         0.000000   \nCultivos industriales                                              0.000000   \nProducción de semillas                                             0.000000   \n...                                                                     ...   \nServicios sociales                                                 0.000000   \nServicios de saneamiento                                           0.000148   \nActividad de asociaciones                                          0.000526   \nServicios de cine, radio y televisión                              0.000076   \nServicios personales, de reparación, actividade...                 0.006604   \n\n                                                            Caza  \\\nCultivo de cereales, oleaginosas y forrajeras       0.000000e+00   \nCultivo de hortalizas, legumbres, flores y plan...  0.000000e+00   \nCultivo de frutas y nueces                          0.000000e+00   \nCultivos industriales                               0.000000e+00   \nProducción de semillas                              0.000000e+00   \n...                                                          ...   \nServicios sociales                                  0.000000e+00   \nServicios de saneamiento                            1.460399e-06   \nActividad de asociaciones                           4.849340e-06   \nServicios de cine, radio y televisión               7.971898e-07   \nServicios personales, de reparación, actividade...  1.738727e-04   \n\n                                                    Silvicultura y extracción de madera  \\\nCultivo de cereales, oleaginosas y forrajeras                                  0.000000   \nCultivo de hortalizas, legumbres, flores y plan...                             0.000000   \nCultivo de frutas y nueces                                                     0.000000   \nCultivos industriales                                                          0.000000   \nProducción de semillas                                                         0.000000   \n...                                                                                 ...   \nServicios sociales                                                             0.000000   \nServicios de saneamiento                                                       0.000078   \nActividad de asociaciones                                                      0.000276   \nServicios de cine, radio y televisión                                          0.000423   \nServicios personales, de reparación, actividade...                             0.000856   \n\n                                                    ...  Enseñanza pública  \\\nCultivo de cereales, oleaginosas y forrajeras       ...           0.000038   \nCultivo de hortalizas, legumbres, flores y plan...  ...           0.005679   \nCultivo de frutas y nueces                          ...           0.003827   \nCultivos industriales                               ...           0.000000   \nProducción de semillas                              ...           0.000000   \n...                                                 ...                ...   \nServicios sociales                                  ...           0.000000   \nServicios de saneamiento                            ...           0.000000   \nActividad de asociaciones                           ...           0.000000   \nServicios de cine, radio y televisión               ...           0.001680   \nServicios personales, de reparación, actividade...  ...           0.003071   \n\n                                                    Enseñanza privada  \\\nCultivo de cereales, oleaginosas y forrajeras                0.000080   \nCultivo de hortalizas, legumbres, flores y plan...           0.012030   \nCultivo de frutas y nueces                                   0.008099   \nCultivos industriales                                        0.000000   \nProducción de semillas                                       0.000000   \n...                                                               ...   \nServicios sociales                                           0.000000   \nServicios de saneamiento                                     0.000000   \nActividad de asociaciones                                    0.000000   \nServicios de cine, radio y televisión                        0.004810   \nServicios personales, de reparación, actividade...           0.006645   \n\n                                                    Salud humana pública  \\\nCultivo de cereales, oleaginosas y forrajeras                   0.000007   \nCultivo de hortalizas, legumbres, flores y plan...              0.002192   \nCultivo de frutas y nueces                                      0.011067   \nCultivos industriales                                           0.000000   \nProducción de semillas                                          0.000000   \n...                                                                  ...   \nServicios sociales                                              0.000000   \nServicios de saneamiento                                        0.000000   \nActividad de asociaciones                                       0.000000   \nServicios de cine, radio y televisión                           0.000517   \nServicios personales, de reparación, actividade...              0.005508   \n\n                                                    Salud humana privada  \\\nCultivo de cereales, oleaginosas y forrajeras                   0.000042   \nCultivo de hortalizas, legumbres, flores y plan...              0.008913   \nCultivo de frutas y nueces                                      0.005904   \nCultivos industriales                                           0.000000   \nProducción de semillas                                          0.000000   \n...                                                                  ...   \nServicios sociales                                              0.000000   \nServicios de saneamiento                                        0.000000   \nActividad de asociaciones                                       0.482561   \nServicios de cine, radio y televisión                           0.007592   \nServicios personales, de reparación, actividade...              0.014058   \n\n                                                    Servicios veterinarios  \\\nCultivo de cereales, oleaginosas y forrajeras                     0.000012   \nCultivo de hortalizas, legumbres, flores y plan...                0.000000   \nCultivo de frutas y nueces                                        0.000000   \nCultivos industriales                                             0.000000   \nProducción de semillas                                            0.000000   \n...                                                                    ...   \nServicios sociales                                                0.000000   \nServicios de saneamiento                                          0.000000   \nActividad de asociaciones                                         0.005531   \nServicios de cine, radio y televisión                             0.000178   \nServicios personales, de reparación, actividade...                0.000005   \n\n                                                    Servicios sociales  \\\nCultivo de cereales, oleaginosas y forrajeras                 0.000000   \nCultivo de hortalizas, legumbres, flores y plan...            0.001238   \nCultivo de frutas y nueces                                    0.001638   \nCultivos industriales                                         0.000000   \nProducción de semillas                                        0.000000   \n...                                                                ...   \nServicios sociales                                            0.000000   \nServicios de saneamiento                                      0.000000   \nActividad de asociaciones                                     0.000000   \nServicios de cine, radio y televisión                         0.000856   \nServicios personales, de reparación, actividade...            0.002243   \n\n                                                    Servicios de saneamiento  \\\nCultivo de cereales, oleaginosas y forrajeras                       0.000000   \nCultivo de hortalizas, legumbres, flores y plan...                  0.000000   \nCultivo de frutas y nueces                                          0.000000   \nCultivos industriales                                               0.000000   \nProducción de semillas                                              0.000000   \n...                                                                      ...   \nServicios sociales                                                  0.000000   \nServicios de saneamiento                                            0.000000   \nActividad de asociaciones                                           0.000000   \nServicios de cine, radio y televisión                               0.001262   \nServicios personales, de reparación, actividade...                  0.002969   \n\n                                                    Actividad de asociaciones  \\\nCultivo de cereales, oleaginosas y forrajeras                        0.000000   \nCultivo de hortalizas, legumbres, flores y plan...                   0.007999   \nCultivo de frutas y nueces                                           0.000000   \nCultivos industriales                                                0.000000   \nProducción de semillas                                               0.000000   \n...                                                                       ...   \nServicios sociales                                                   0.000000   \nServicios de saneamiento                                             0.000000   \nActividad de asociaciones                                            0.000000   \nServicios de cine, radio y televisión                                0.019357   \nServicios personales, de reparación, actividade...                   0.042212   \n\n                                                    Servicios de cine, radio y televisión  \\\nCultivo de cereales, oleaginosas y forrajeras                                1.735054e-09   \nCultivo de hortalizas, legumbres, flores y plan...                           1.237709e-06   \nCultivo de frutas y nueces                                                   1.472092e-07   \nCultivos industriales                                                        0.000000e+00   \nProducción de semillas                                                       0.000000e+00   \n...                                                                                   ...   \nServicios sociales                                                           0.000000e+00   \nServicios de saneamiento                                                     0.000000e+00   \nActividad de asociaciones                                                    3.831347e-03   \nServicios de cine, radio y televisión                                        8.850829e-02   \nServicios personales, de reparación, actividade...                           5.858829e-02   \n\n                                                    Servicios personales, de reparación, actividades deportivas y de esparcimiento  \nCultivo de cereales, oleaginosas y forrajeras                                                0.003256                               \nCultivo de hortalizas, legumbres, flores y plan...                                           0.079292                               \nCultivo de frutas y nueces                                                                   0.000006                               \nCultivos industriales                                                                        0.000000                               \nProducción de semillas                                                                       0.000000                               \n...                                                                                               ...                               \nServicios sociales                                                                           0.000000                               \nServicios de saneamiento                                                                     0.000000                               \nActividad de asociaciones                                                                    0.000000                               \nServicios de cine, radio y televisión                                                        0.017336                               \nServicios personales, de reparación, actividade...                                           0.054336                               \n\n[123 rows x 123 columns]",
      "text/html": "<div>\n<style scoped>\n    .dataframe tbody tr th:only-of-type {\n        vertical-align: middle;\n    }\n\n    .dataframe tbody tr th {\n        vertical-align: top;\n    }\n\n    .dataframe thead th {\n        text-align: right;\n    }\n</style>\n<table border=\"1\" class=\"dataframe\">\n  <thead>\n    <tr style=\"text-align: right;\">\n      <th></th>\n      <th>Cultivo de cereales, oleaginosas y forrajeras</th>\n      <th>Cultivo de hortalizas, legumbres, flores y plantas ornamentales</th>\n      <th>Cultivo de frutas y nueces</th>\n      <th>Cultivos industriales</th>\n      <th>Producción de semillas</th>\n      <th>Cría de ganado y producción de leche, lana y pelos</th>\n      <th>Producción de granja</th>\n      <th>Servicios agropecuarios</th>\n      <th>Caza</th>\n      <th>Silvicultura y extracción de madera</th>\n      <th>...</th>\n      <th>Enseñanza pública</th>\n      <th>Enseñanza privada</th>\n      <th>Salud humana pública</th>\n      <th>Salud humana privada</th>\n      <th>Servicios veterinarios</th>\n      <th>Servicios sociales</th>\n      <th>Servicios de saneamiento</th>\n      <th>Actividad de asociaciones</th>\n      <th>Servicios de cine, radio y televisión</th>\n      <th>Servicios personales, de reparación, actividades deportivas y de esparcimiento</th>\n    </tr>\n  </thead>\n  <tbody>\n    <tr>\n      <th>Cultivo de cereales, oleaginosas y forrajeras</th>\n      <td>0.010319</td>\n      <td>0.000000</td>\n      <td>0.001542</td>\n      <td>0.001601</td>\n      <td>0.000000</td>\n      <td>0.181660</td>\n      <td>0.012263</td>\n      <td>0.000000</td>\n      <td>0.000000e+00</td>\n      <td>0.000000</td>\n      <td>...</td>\n      <td>0.000038</td>\n      <td>0.000080</td>\n      <td>0.000007</td>\n      <td>0.000042</td>\n      <td>0.000012</td>\n      <td>0.000000</td>\n      <td>0.000000</td>\n      <td>0.000000</td>\n      <td>1.735054e-09</td>\n      <td>0.003256</td>\n    </tr>\n    <tr>\n      <th>Cultivo de hortalizas, legumbres, flores y plantas ornamentales</th>\n      <td>0.000000</td>\n      <td>0.167226</td>\n      <td>0.009565</td>\n      <td>0.000000</td>\n      <td>0.000000</td>\n      <td>0.000000</td>\n      <td>0.000000</td>\n      <td>0.000000</td>\n      <td>0.000000e+00</td>\n      <td>0.000000</td>\n      <td>...</td>\n      <td>0.005679</td>\n      <td>0.012030</td>\n      <td>0.002192</td>\n      <td>0.008913</td>\n      <td>0.000000</td>\n      <td>0.001238</td>\n      <td>0.000000</td>\n      <td>0.007999</td>\n      <td>1.237709e-06</td>\n      <td>0.079292</td>\n    </tr>\n    <tr>\n      <th>Cultivo de frutas y nueces</th>\n      <td>0.000000</td>\n      <td>0.000000</td>\n      <td>0.000000</td>\n      <td>0.000000</td>\n      <td>0.000000</td>\n      <td>0.000000</td>\n      <td>0.000000</td>\n      <td>0.000000</td>\n      <td>0.000000e+00</td>\n      <td>0.000000</td>\n      <td>...</td>\n      <td>0.003827</td>\n      <td>0.008099</td>\n      <td>0.011067</td>\n      <td>0.005904</td>\n      <td>0.000000</td>\n      <td>0.001638</td>\n      <td>0.000000</td>\n      <td>0.000000</td>\n      <td>1.472092e-07</td>\n      <td>0.000006</td>\n    </tr>\n    <tr>\n      <th>Cultivos industriales</th>\n      <td>0.000000</td>\n      <td>0.000000</td>\n      <td>0.000000</td>\n      <td>0.020212</td>\n      <td>0.000000</td>\n      <td>0.000000</td>\n      <td>0.000000</td>\n      <td>0.000000</td>\n      <td>0.000000e+00</td>\n      <td>0.000000</td>\n      <td>...</td>\n      <td>0.000000</td>\n      <td>0.000000</td>\n      <td>0.000000</td>\n      <td>0.000000</td>\n      <td>0.000000</td>\n      <td>0.000000</td>\n      <td>0.000000</td>\n      <td>0.000000</td>\n      <td>0.000000e+00</td>\n      <td>0.000000</td>\n    </tr>\n    <tr>\n      <th>Producción de semillas</th>\n      <td>0.783146</td>\n      <td>0.016374</td>\n      <td>0.029820</td>\n      <td>0.017254</td>\n      <td>0.021740</td>\n      <td>0.127875</td>\n      <td>0.002291</td>\n      <td>0.000000</td>\n      <td>0.000000e+00</td>\n      <td>0.000000</td>\n      <td>...</td>\n      <td>0.000000</td>\n      <td>0.000000</td>\n      <td>0.000000</td>\n      <td>0.000000</td>\n      <td>0.000000</td>\n      <td>0.000000</td>\n      <td>0.000000</td>\n      <td>0.000000</td>\n      <td>0.000000e+00</td>\n      <td>0.000000</td>\n    </tr>\n    <tr>\n      <th>...</th>\n      <td>...</td>\n      <td>...</td>\n      <td>...</td>\n      <td>...</td>\n      <td>...</td>\n      <td>...</td>\n      <td>...</td>\n      <td>...</td>\n      <td>...</td>\n      <td>...</td>\n      <td>...</td>\n      <td>...</td>\n      <td>...</td>\n      <td>...</td>\n      <td>...</td>\n      <td>...</td>\n      <td>...</td>\n      <td>...</td>\n      <td>...</td>\n      <td>...</td>\n      <td>...</td>\n    </tr>\n    <tr>\n      <th>Servicios sociales</th>\n      <td>0.000000</td>\n      <td>0.000000</td>\n      <td>0.000000</td>\n      <td>0.000000</td>\n      <td>0.000000</td>\n      <td>0.000000</td>\n      <td>0.000000</td>\n      <td>0.000000</td>\n      <td>0.000000e+00</td>\n      <td>0.000000</td>\n      <td>...</td>\n      <td>0.000000</td>\n      <td>0.000000</td>\n      <td>0.000000</td>\n      <td>0.000000</td>\n      <td>0.000000</td>\n      <td>0.000000</td>\n      <td>0.000000</td>\n      <td>0.000000</td>\n      <td>0.000000e+00</td>\n      <td>0.000000</td>\n    </tr>\n    <tr>\n      <th>Servicios de saneamiento</th>\n      <td>0.000870</td>\n      <td>0.000193</td>\n      <td>0.000127</td>\n      <td>0.000219</td>\n      <td>0.000107</td>\n      <td>0.000952</td>\n      <td>0.000202</td>\n      <td>0.000148</td>\n      <td>1.460399e-06</td>\n      <td>0.000078</td>\n      <td>...</td>\n      <td>0.000000</td>\n      <td>0.000000</td>\n      <td>0.000000</td>\n      <td>0.000000</td>\n      <td>0.000000</td>\n      <td>0.000000</td>\n      <td>0.000000</td>\n      <td>0.000000</td>\n      <td>0.000000e+00</td>\n      <td>0.000000</td>\n    </tr>\n    <tr>\n      <th>Actividad de asociaciones</th>\n      <td>0.003092</td>\n      <td>0.000686</td>\n      <td>0.000453</td>\n      <td>0.000777</td>\n      <td>0.000379</td>\n      <td>0.003384</td>\n      <td>0.000985</td>\n      <td>0.000526</td>\n      <td>4.849340e-06</td>\n      <td>0.000276</td>\n      <td>...</td>\n      <td>0.000000</td>\n      <td>0.000000</td>\n      <td>0.000000</td>\n      <td>0.482561</td>\n      <td>0.005531</td>\n      <td>0.000000</td>\n      <td>0.000000</td>\n      <td>0.000000</td>\n      <td>3.831347e-03</td>\n      <td>0.000000</td>\n    </tr>\n    <tr>\n      <th>Servicios de cine, radio y televisión</th>\n      <td>0.000536</td>\n      <td>0.000106</td>\n      <td>0.000069</td>\n      <td>0.000121</td>\n      <td>0.000055</td>\n      <td>0.000569</td>\n      <td>0.000564</td>\n      <td>0.000076</td>\n      <td>7.971898e-07</td>\n      <td>0.000423</td>\n      <td>...</td>\n      <td>0.001680</td>\n      <td>0.004810</td>\n      <td>0.000517</td>\n      <td>0.007592</td>\n      <td>0.000178</td>\n      <td>0.000856</td>\n      <td>0.001262</td>\n      <td>0.019357</td>\n      <td>8.850829e-02</td>\n      <td>0.017336</td>\n    </tr>\n    <tr>\n      <th>Servicios personales, de reparación, actividades deportivas y de esparcimiento</th>\n      <td>0.006876</td>\n      <td>0.000019</td>\n      <td>0.000158</td>\n      <td>0.001907</td>\n      <td>0.000225</td>\n      <td>0.006695</td>\n      <td>0.000461</td>\n      <td>0.006604</td>\n      <td>1.738727e-04</td>\n      <td>0.000856</td>\n      <td>...</td>\n      <td>0.003071</td>\n      <td>0.006645</td>\n      <td>0.005508</td>\n      <td>0.014058</td>\n      <td>0.000005</td>\n      <td>0.002243</td>\n      <td>0.002969</td>\n      <td>0.042212</td>\n      <td>5.858829e-02</td>\n      <td>0.054336</td>\n    </tr>\n  </tbody>\n</table>\n<p>123 rows × 123 columns</p>\n</div>"
     },
     "execution_count": 21,
     "metadata": {},
     "output_type": "execute_result"
    }
   ],
   "source": [
    "mip"
   ],
   "metadata": {
    "collapsed": false,
    "ExecuteTime": {
     "end_time": "2024-06-27T20:24:32.441718Z",
     "start_time": "2024-06-27T20:24:32.376894800Z"
    }
   },
   "id": "197c3e43c2a798f4",
   "execution_count": 21
  },
  {
   "cell_type": "code",
   "outputs": [],
   "source": [
    "# Visualización del grafo en spring layout con centrality."
   ],
   "metadata": {
    "collapsed": false
   },
   "id": "97d53dfcdbb9d7af"
  },
  {
   "cell_type": "code",
   "outputs": [],
   "source": [
    "# Visualización del grafo con todos los nodos distribuidos y legibles."
   ],
   "metadata": {
    "collapsed": false
   },
   "id": "f52e289c2d45d0ba"
  },
  {
   "cell_type": "code",
   "outputs": [],
   "source": [
    "# Métricas del grafo. Distribución de grado de salida y de entrada. Coeficiente de clustering, etc. El output de esto deberían ser los nodos sobre los cuales vamos a hacer los experimentos y por qué."
   ],
   "metadata": {
    "collapsed": false
   },
   "id": "7b95969ef523d6a8"
  },
  {
   "cell_type": "markdown",
   "source": [
    "# Los experimentos"
   ],
   "metadata": {
    "collapsed": false
   },
   "id": "6ea07999f053a860"
  },
  {
   "cell_type": "markdown",
   "source": [
    "Esqueleto de experimento:\n",
    "- visualizacion del nodo desde donde se lanza el shock con su vecindario (dos niveles de separación como mucho?) ó de su clúster.\n",
    "- codigo de shock de inflación \n",
    "- visualizacion de la inflacion en funcion de t \n",
    "- visualizacion de la variacion de la inflacion en funcion de t\n",
    "- grafo total pintado por la inflacion."
   ],
   "metadata": {
    "collapsed": false
   },
   "id": "a1e5011db75d676f"
  },
  {
   "cell_type": "markdown",
   "source": [
    "# Conclusiones\n",
    "\n",
    "## Sobre los experimentos y las preguntas respondidas\n",
    "\n",
    "\n",
    "## Próximos pasos y preguntas no respondidas\n",
    "- ### Mejoras para hacer al modelo\n",
    "  - Se podría implementar algo que permita una suerte de oferta-demanda (nodo consumidor final?) AMPLIAR\n",
    "    - Romper ley de Say \n",
    "  - Se podría taggear a los sectores productivos por \"rubro\" (por ej, electricidad, gas y agua serían rubro \"servicios esenciales\") y estudiar qué sucede dentro de cada rubro. También qué interacciones inflacionarias tienen ese rubro con otros rubros.\n",
    " "
   ],
   "metadata": {
    "collapsed": false
   },
   "id": "eaddd2fde66758c8"
  },
  {
   "cell_type": "markdown",
   "source": [
    "## Julio Olivera\n",
    "\n",
    "> **Inflación estructural**: La inflación estructural se refiere a un tipo de inflación causada por desajustes sectoriales que afectan a productos específicos, lo que resulta en aumentos de precios individuales que luego se generalizan. Estos desajustes pueden ser el resultado de la rigidez de la estructura productiva y la imperfección de los mercados, y son ajenos a las decisiones de las autoridades monetarias. La inflación estructural se origina en desequilibrios sectoriales que afectan a productos específicos y no en un desajuste global entre la oferta y la demanda monetaria.\n",
    " \n",
    "*Olivera, J. H. G. (1965), \"Inflación estructural y política financiera”.*\n"
   ],
   "metadata": {
    "collapsed": false
   },
   "id": "c3bc6137c444985e"
  }
 ],
 "metadata": {
  "kernelspec": {
   "display_name": "Python 3",
   "language": "python",
   "name": "python3"
  },
  "language_info": {
   "codemirror_mode": {
    "name": "ipython",
    "version": 2
   },
   "file_extension": ".py",
   "mimetype": "text/x-python",
   "name": "python",
   "nbconvert_exporter": "python",
   "pygments_lexer": "ipython2",
   "version": "2.7.6"
  }
 },
 "nbformat": 4,
 "nbformat_minor": 5
}
