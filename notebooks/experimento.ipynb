{
 "cells": [
  {
   "cell_type": "markdown",
   "metadata": {},
   "source": [
    "## 05.29\n",
    "\n",
    "- definir API para realizar un experimento\n",
    "    # En un experimento se puede configurar\n",
    "    # - el grafo del sistema\n",
    "    # - la funcion de como actualizan los agentes su precio\n",
    "    # - el numero de pasos de la simulacion\n",
    "    # - las metricas para evaluar sobre el grafo en cada paso\n",
    "\n",
    "#### To Do\n",
    "\n",
    "- [ ] Integrar la funcion de update\n",
    "- [ ] Definir como integrar sobre que nodos iterar en cada step\n",
    "- [ ] Definir metodo para guardar los resultados del experimento "
   ]
  },
  {
   "cell_type": "code",
   "execution_count": 6,
   "metadata": {},
   "outputs": [],
   "source": [
    "# mantener los imports siempre arriba\n",
    "from networkx import DiGraph\n",
    "from networkx.drawing import draw"
   ]
  },
  {
   "cell_type": "code",
   "execution_count": 11,
   "metadata": {},
   "outputs": [],
   "source": [
    "grafo = DiGraph({\"a\":[\"b\",\"c\"], \"b\":[\"e\"],\"c\":[\"d\"],\"d\":[\"b\"]})"
   ]
  },
  {
   "cell_type": "code",
   "execution_count": 12,
   "metadata": {},
   "outputs": [
    {
     "data": {
      "image/png": "[encoded data removed]",
      "text/plain": [
       "<Figure size 640x480 with 1 Axes>"
      ]
     },
     "metadata": {},
     "output_type": "display_data"
    }
   ],
   "source": [
    "draw(grafo, with_labels=True)"
   ]
  },
  {
   "cell_type": "code",
   "execution_count": 37,
   "metadata": {},
   "outputs": [],
   "source": [
    "\n",
    "class Experimento:\n",
    "\n",
    "    def __init__(self, grafo, funcion_de_update, metricas=None):\n",
    "        self.grafo = grafo\n",
    "        self.update = funcion_de_update\n",
    "        self.metricas = metricas or {}\n",
    "        self._curr_step = 0\n",
    "        self._metricas_evaluadas = {nombre:[] for nombre in self.metricas}\n",
    "\n",
    "    def step(self, n=1):\n",
    "        for _ in range(n):\n",
    "            self._single_step()\n",
    "            self._calcular_metricas()\n",
    "            self._curr_step += 1\n",
    "\n",
    "    def _single_step(self):\n",
    "        # evaluar la funcion de update sobre los nodos\n",
    "        pass\n",
    "\n",
    "    def _calcular_metricas(self):\n",
    "        for nombre, metrica in self.metricas.items():\n",
    "            self._metricas_evaluadas[nombre].append(metrica(self.grafo))\n",
    "\n",
    "    def __str__(self):\n",
    "        return str(self.to_dict())\n",
    "    \n",
    "    def __repr__(self):\n",
    "        return str(self)\n",
    "    \n",
    "    def to_dict(self):\n",
    "        return {\"id_grafo\": hash(self.grafo), \"step\": self._curr_step, \"metricas\": self._metricas_evaluadas}"
   ]
  },
  {
   "cell_type": "code",
   "execution_count": 38,
   "metadata": {},
   "outputs": [],
   "source": [
    "def ejemplo_de_update(nodo, inflacion=0.0):\n",
    "    nodo.precio *= 1.1 # aumenta el 10%\n",
    "    return nodo.precio"
   ]
  },
  {
   "cell_type": "code",
   "execution_count": 39,
   "metadata": {},
   "outputs": [],
   "source": [
    "def update_de_debugging(nodo, inflacion=0.0):\n",
    "    print(nodo)"
   ]
  },
  {
   "cell_type": "code",
   "execution_count": 40,
   "metadata": {},
   "outputs": [
    {
     "data": {
      "text/plain": [
       "{'id_grafo': 126960031652, 'step': 0, 'metricas': {}}"
      ]
     },
     "execution_count": 40,
     "metadata": {},
     "output_type": "execute_result"
    }
   ],
   "source": [
    "experimento = Experimento(grafo,update_de_debugging)\n",
    "experimento"
   ]
  },
  {
   "cell_type": "code",
   "execution_count": 41,
   "metadata": {},
   "outputs": [],
   "source": [
    "experimento.step()"
   ]
  },
  {
   "cell_type": "code",
   "execution_count": 42,
   "metadata": {},
   "outputs": [
    {
     "data": {
      "text/plain": [
       "{'id_grafo': 126960031652, 'step': 1, 'metricas': {}}"
      ]
     },
     "execution_count": 42,
     "metadata": {},
     "output_type": "execute_result"
    }
   ],
   "source": [
    "experimento"
   ]
  },
  {
   "cell_type": "code",
   "execution_count": 43,
   "metadata": {},
   "outputs": [
    {
     "data": {
      "text/plain": [
       "{'id_grafo': 126960031652, 'step': 3, 'metricas': {'cuenta': [5, 5, 5]}}"
      ]
     },
     "execution_count": 43,
     "metadata": {},
     "output_type": "execute_result"
    }
   ],
   "source": [
    "def contar_nodos(grafo):\n",
    "    return len(grafo)\n",
    "\n",
    "metricas = {\"cuenta\":contar_nodos}\n",
    "experimento_con_metricas = Experimento(grafo,update_de_debugging, metricas)\n",
    "experimento_con_metricas.step(3)\n",
    "experimento_con_metricas"
   ]
  },
  {
   "cell_type": "code",
   "execution_count": null,
   "metadata": {},
   "outputs": [],
   "source": []
  }
 ],
 "metadata": {
  "kernelspec": {
   "display_name": ".venv",
   "language": "python",
   "name": "python3"
  },
  "language_info": {
   "codemirror_mode": {
    "name": "ipython",
    "version": 3
   },
   "file_extension": ".py",
   "mimetype": "text/x-python",
   "name": "python",
   "nbconvert_exporter": "python",
   "pygments_lexer": "ipython3",
   "version": "3.12.2"
  },
  "orig_nbformat": 4
 },
 "nbformat": 4,
 "nbformat_minor": 2
}
