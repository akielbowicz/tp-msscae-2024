{
 "cells": [
  {
   "cell_type": "markdown",
   "metadata": {},
   "source": [
    "## 06.14\n",
    "\n",
    ". Mover el codigo de Experimento a modulo\n",
    "\n",
    "## 05.29\n",
    "\n",
    "- definir API para realizar un experimento\n",
    "    # En un experimento se puede configurar\n",
    "    # - el grafo del sistema\n",
    "    # - la funcion de como actualizan los agentes su precio\n",
    "    # - el numero de pasos de la simulacion\n",
    "    # - las metricas para evaluar sobre el grafo en cada paso\n",
    "\n",
    "#### To Do\n",
    "\n",
    "- [ ] Integrar la funcion de update\n",
    "- [ ] Definir como integrar sobre que nodos iterar en cada step\n",
    "- [ ] Definir metodo para guardar los resultados del experimento "
   ]
  },
  {
   "cell_type": "code",
   "execution_count": 1,
   "metadata": {},
   "outputs": [],
   "source": [
    "import init # Necesario para importar agentes\n",
    "from agentes import Experimento"
   ]
  },
  {
   "cell_type": "code",
   "execution_count": 2,
   "metadata": {},
   "outputs": [],
   "source": [
    "# mantener los imports siempre arriba\n",
    "from networkx import DiGraph\n",
    "from networkx.drawing import draw"
   ]
  },
  {
   "cell_type": "code",
   "execution_count": 3,
   "metadata": {},
   "outputs": [],
   "source": [
    "grafo = DiGraph({\"a\":[\"b\",\"c\"], \"b\":[\"e\"],\"c\":[\"d\"],\"d\":[\"b\"]})"
   ]
  },
  {
   "cell_type": "code",
   "execution_count": 4,
   "metadata": {},
   "outputs": [
    {
     "data": {
      "image/png": "[encoded data removed]",
      "text/plain": [
       "<Figure size 640x480 with 1 Axes>"
      ]
     },
     "metadata": {},
     "output_type": "display_data"
    }
   ],
   "source": [
    "draw(grafo, with_labels=True)"
   ]
  },
  {
   "cell_type": "code",
   "execution_count": 5,
   "metadata": {},
   "outputs": [],
   "source": [
    "def ejemplo_de_update(nodo, inflacion=0.0):\n",
    "    nodo.precio *= 1.1 # aumenta el 10%\n",
    "    return nodo.precio"
   ]
  },
  {
   "cell_type": "code",
   "execution_count": 6,
   "metadata": {},
   "outputs": [],
   "source": [
    "def update_de_debugging(nodo, inflacion=0.0):\n",
    "    print(nodo)"
   ]
  },
  {
   "cell_type": "code",
   "execution_count": 7,
   "metadata": {},
   "outputs": [
    {
     "data": {
      "text/plain": [
       "{'id_grafo': 152843711147, 'step': 0, 'metricas': {}}"
      ]
     },
     "execution_count": 7,
     "metadata": {},
     "output_type": "execute_result"
    }
   ],
   "source": [
    "experimento = Experimento(grafo,update_de_debugging)\n",
    "experimento"
   ]
  },
  {
   "cell_type": "code",
   "execution_count": 8,
   "metadata": {},
   "outputs": [],
   "source": [
    "experimento.step()"
   ]
  },
  {
   "cell_type": "code",
   "execution_count": 9,
   "metadata": {},
   "outputs": [
    {
     "data": {
      "text/plain": [
       "{'id_grafo': 152843711147, 'step': 1, 'metricas': {}}"
      ]
     },
     "execution_count": 9,
     "metadata": {},
     "output_type": "execute_result"
    }
   ],
   "source": [
    "experimento"
   ]
  },
  {
   "cell_type": "code",
   "execution_count": 10,
   "metadata": {},
   "outputs": [
    {
     "data": {
      "text/plain": [
       "{'id_grafo': 152843711147, 'step': 3, 'metricas': {'cuenta': [5, 5, 5]}}"
      ]
     },
     "execution_count": 10,
     "metadata": {},
     "output_type": "execute_result"
    }
   ],
   "source": [
    "def contar_nodos(grafo):\n",
    "    return len(grafo)\n",
    "\n",
    "metricas = {\"cuenta\":contar_nodos}\n",
    "experimento_con_metricas = Experimento(grafo,update_de_debugging, metricas)\n",
    "experimento_con_metricas.step(3)\n",
    "experimento_con_metricas"
   ]
  },
  {
   "cell_type": "code",
   "execution_count": null,
   "metadata": {},
   "outputs": [],
   "source": []
  }
 ],
 "metadata": {
  "kernelspec": {
   "display_name": "Python 3 (ipykernel)",
   "language": "python",
   "name": "python3"
  },
  "language_info": {
   "codemirror_mode": {
    "name": "ipython",
    "version": 3
   },
   "file_extension": ".py",
   "mimetype": "text/x-python",
   "name": "python",
   "nbconvert_exporter": "python",
   "pygments_lexer": "ipython3",
   "version": "3.12.2"
  }
 },
 "nbformat": 4,
 "nbformat_minor": 4
}
