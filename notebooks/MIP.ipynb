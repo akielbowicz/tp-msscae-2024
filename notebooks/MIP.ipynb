{
 "cells": [
  {
   "cell_type": "code",
   "execution_count": 1,
   "metadata": {
    "colab": {
     "base_uri": "https://localhost:8080/"
    },
    "executionInfo": {
     "elapsed": 9529,
     "status": "ok",
     "timestamp": 1716250365441,
     "user": {
      "displayName": "Miguel Angel De Lillo",
      "userId": "12740301071040614309"
     },
     "user_tz": 180
    },
    "id": "y-RciNGzfgN6",
    "outputId": "eebe7165-96fb-4804-9e81-42223e83388e"
   },
   "outputs": [
    {
     "name": "stdout",
     "output_type": "stream",
     "text": [
      "Defaulting to user installation because normal site-packages is not writeable\n",
      "Requirement already satisfied: quantecon_book_networks in /home/Estudiante/.local/lib/python3.10/site-packages (1.1)\n",
      "Requirement already satisfied: pandas in /usr/lib/python3/dist-packages (from quantecon_book_networks) (1.3.5)\n",
      "Requirement already satisfied: pandas-datareader in /home/Estudiante/.local/lib/python3.10/site-packages (from quantecon_book_networks) (0.10.0)\n",
      "Requirement already satisfied: scipy in /usr/lib/python3/dist-packages (from quantecon_book_networks) (1.8.0)\n",
      "Requirement already satisfied: POT in /home/Estudiante/.local/lib/python3.10/site-packages (from quantecon_book_networks) (0.9.3)\n",
      "Requirement already satisfied: matplotlib in /usr/lib/python3/dist-packages (from quantecon_book_networks) (3.5.1)\n",
      "Requirement already satisfied: networkx in /usr/local/lib/python3.10/dist-packages (from quantecon_book_networks) (3.2.1)\n",
      "Requirement already satisfied: quantecon in /home/Estudiante/.local/lib/python3.10/site-packages (from quantecon_book_networks) (0.7.2)\n",
      "Requirement already satisfied: numpy in /usr/lib/python3/dist-packages (from quantecon_book_networks) (1.21.5)\n",
      "Requirement already satisfied: requests>=2.19.0 in /usr/local/lib/python3.10/dist-packages (from pandas-datareader->quantecon_book_networks) (2.31.0)\n",
      "Requirement already satisfied: lxml in /usr/lib/python3/dist-packages (from pandas-datareader->quantecon_book_networks) (4.8.0)\n",
      "Requirement already satisfied: sympy in /usr/lib/python3/dist-packages (from quantecon->quantecon_book_networks) (1.9)\n",
      "Requirement already satisfied: numba>=0.49.0 in /usr/lib/python3/dist-packages (from quantecon->quantecon_book_networks) (0.55.1)\n",
      "Requirement already satisfied: urllib3<3,>=1.21.1 in /usr/lib/python3/dist-packages (from requests>=2.19.0->pandas-datareader->quantecon_book_networks) (1.26.5)\n",
      "Requirement already satisfied: idna<4,>=2.5 in /usr/lib/python3/dist-packages (from requests>=2.19.0->pandas-datareader->quantecon_book_networks) (3.3)\n",
      "Requirement already satisfied: charset-normalizer<4,>=2 in /usr/local/lib/python3.10/dist-packages (from requests>=2.19.0->pandas-datareader->quantecon_book_networks) (3.3.2)\n",
      "Requirement already satisfied: certifi>=2017.4.17 in /usr/lib/python3/dist-packages (from requests>=2.19.0->pandas-datareader->quantecon_book_networks) (2020.6.20)\n"
     ]
    }
   ],
   "source": [
    "!pip install quantecon_book_networks"
   ]
  },
  {
   "cell_type": "code",
   "execution_count": 2,
   "metadata": {
    "ExecuteTime": {
     "end_time": "2024-06-02T02:48:19.494156600Z",
     "start_time": "2024-06-02T02:48:16.422646800Z"
    },
    "executionInfo": {
     "elapsed": 6,
     "status": "ok",
     "timestamp": 1716249194291,
     "user": {
      "displayName": "Miguel Angel De Lillo",
      "userId": "12740301071040614309"
     },
     "user_tz": 180
    },
    "id": "di3B8d-aZzst"
   },
   "outputs": [],
   "source": [
    "import pandas as pd"
   ]
  },
  {
   "cell_type": "code",
   "execution_count": 3,
   "metadata": {
    "ExecuteTime": {
     "end_time": "2024-06-02T02:48:37.984249900Z",
     "start_time": "2024-06-02T02:48:27.978164500Z"
    },
    "executionInfo": {
     "elapsed": 1410,
     "status": "ok",
     "timestamp": 1716250371441,
     "user": {
      "displayName": "Miguel Angel De Lillo",
      "userId": "12740301071040614309"
     },
     "user_tz": 180
    },
    "id": "VSfaO-96fdMx"
   },
   "outputs": [],
   "source": [
    "import networkx as nx\n",
    "import matplotlib.pyplot as plt\n",
    "import quantecon_book_networks\n",
    "import quantecon_book_networks.input_output as qbn_io\n",
    "import quantecon_book_networks.plotting as qbn_plt\n",
    "import quantecon_book_networks.data as qbn_data\n",
    "import matplotlib as mpl\n",
    "from matplotlib.patches import Polygon"
   ]
  },
  {
   "cell_type": "code",
   "execution_count": 4,
   "metadata": {
    "ExecuteTime": {
     "end_time": "2024-06-02T02:48:38.015977700Z",
     "start_time": "2024-06-02T02:48:37.985248200Z"
    },
    "executionInfo": {
     "elapsed": 3,
     "status": "ok",
     "timestamp": 1716255735953,
     "user": {
      "displayName": "Miguel Angel De Lillo",
      "userId": "12740301071040614309"
     },
     "user_tz": 180
    },
    "id": "wP_k0Gn-0DKU"
   },
   "outputs": [],
   "source": [
    "import numpy as np"
   ]
  },
  {
   "cell_type": "code",
   "execution_count": 53,
   "metadata": {
    "ExecuteTime": {
     "end_time": "2024-06-02T14:12:22.507893Z",
     "start_time": "2024-06-02T14:12:22.416054900Z"
    },
    "executionInfo": {
     "elapsed": 2,
     "status": "ok",
     "timestamp": 1716254442070,
     "user": {
      "displayName": "Miguel Angel De Lillo",
      "userId": "12740301071040614309"
     },
     "user_tz": 180
    },
    "id": "8tnY8BgsbGuA"
   },
   "outputs": [],
   "source": [
    "mip = pd.read_csv('../resources/MIP  - Hoja 1 (2).csv', index_col=0)"
   ]
  },
  {
   "cell_type": "code",
   "execution_count": 54,
   "metadata": {
    "ExecuteTime": {
     "end_time": "2024-06-02T14:12:30.522120900Z",
     "start_time": "2024-06-02T14:12:30.487539700Z"
    },
    "executionInfo": {
     "elapsed": 3,
     "status": "ok",
     "timestamp": 1716254442451,
     "user": {
      "displayName": "Miguel Angel De Lillo",
      "userId": "12740301071040614309"
     },
     "user_tz": 180
    },
    "id": "cThvKoisbJKW"
   },
   "outputs": [],
   "source": [
    "columnas = mip.columns"
   ]
  },
  {
   "cell_type": "code",
   "execution_count": 55,
   "metadata": {
    "ExecuteTime": {
     "end_time": "2024-06-02T14:12:31.753193900Z",
     "start_time": "2024-06-02T14:12:31.679887100Z"
    },
    "executionInfo": {
     "elapsed": 3,
     "status": "ok",
     "timestamp": 1716254442452,
     "user": {
      "displayName": "Miguel Angel De Lillo",
      "userId": "12740301071040614309"
     },
     "user_tz": 180
    },
    "id": "Ppgaix0abY4M"
   },
   "outputs": [],
   "source": [
    "for col in columnas:\n",
    "  mip[col] = mip[col].astype(float)"
   ]
  },
  {
   "cell_type": "code",
   "execution_count": 57,
   "metadata": {},
   "outputs": [
    {
     "data": {
      "text/plain": [
       "(['Enseñanza pública', 'Salud humana pública', 'Servicios sociales'], [])"
      ]
     },
     "execution_count": 57,
     "metadata": {},
     "output_type": "execute_result"
    }
   ],
   "source": [
    "# no los vamos a droppear porque participan en el grafo aunque solo como sumideros\n",
    "to_drop_by_row = [ col for col in columnas\n",
    "   if (mip.loc[col,:].sum() == 0.0)]\n",
    "\n",
    "to_drop_by_col = [ col for col in columnas\n",
    "   if (mip.loc[:, col].sum() == 0.0)]\n",
    "\n",
    "to_drop_by_row, to_drop_by_col"
   ]
  },
  {
   "cell_type": "code",
   "execution_count": null,
   "metadata": {},
   "outputs": [],
   "source": []
  },
  {
   "cell_type": "code",
   "execution_count": 48,
   "metadata": {
    "colab": {
     "base_uri": "https://localhost:8080/"
    },
    "executionInfo": {
     "elapsed": 7,
     "status": "ok",
     "timestamp": 1716254442777,
     "user": {
      "displayName": "Miguel Angel De Lillo",
      "userId": "12740301071040614309"
     },
     "user_tz": 180
    },
    "id": "GMMObkLRct-f",
    "outputId": "64b2afa6-ae2f-49c1-a13f-c0578415c458"
   },
   "outputs": [
    {
     "data": {
      "text/plain": [
       "Cultivo de cereales, oleaginosas y forrajeras                                     5763508.02\n",
       "Cultivo de hortalizas, legumbres, flores y plantas ornamentales                    557481.67\n",
       "Cultivo de frutas y nueces                                                         407583.33\n",
       "Cultivos industriales                                                             1582424.83\n",
       "Producción de semillas                                                             715253.18\n",
       "                                                                                     ...    \n",
       "Servicios sociales                                                                      0.00\n",
       "Servicios de saneamiento                                                            27389.77\n",
       "Actividad de asociaciones                                                          515534.08\n",
       "Servicios de cine, radio y televisión                                             1304582.63\n",
       "Servicios personales, de reparación, actividades deportivas y de esparcimiento    5117307.93\n",
       "Length: 123, dtype: float64"
      ]
     },
     "execution_count": 48,
     "metadata": {},
     "output_type": "execute_result"
    }
   ],
   "source": [
    "mip.sum(axis=1)"
   ]
  },
  {
   "cell_type": "code",
   "execution_count": 19,
   "metadata": {
    "executionInfo": {
     "elapsed": 3105,
     "status": "ok",
     "timestamp": 1716254447264,
     "user": {
      "displayName": "Miguel Angel De Lillo",
      "userId": "12740301071040614309"
     },
     "user_tz": 180
    },
    "id": "Cdy0lEZvfTpV"
   },
   "outputs": [],
   "source": [
    "# Armo la matriz de coeficientes técnicos.\n",
    "#El secotr en la fila i le vende al sector en la columna j. En el grafo se representa como i --> j.\n",
    "\n",
    "for i in range(mip.shape[0]):\n",
    "  mip.iloc[i,:] /= mip.iloc[i,:].sum()"
   ]
  },
  {
   "cell_type": "code",
   "execution_count": 24,
   "metadata": {},
   "outputs": [
    {
     "data": {
      "text/plain": [
       "Cultivo de cereales, oleaginosas y forrajeras                                     1.0\n",
       "Cultivo de hortalizas, legumbres, flores y plantas ornamentales                   1.0\n",
       "Cultivo de frutas y nueces                                                        1.0\n",
       "Cultivos industriales                                                             1.0\n",
       "Producción de semillas                                                            1.0\n",
       "                                                                                 ... \n",
       "Servicios sociales                                                                0.0\n",
       "Servicios de saneamiento                                                          1.0\n",
       "Actividad de asociaciones                                                         1.0\n",
       "Servicios de cine, radio y televisión                                             1.0\n",
       "Servicios personales, de reparación, actividades deportivas y de esparcimiento    1.0\n",
       "Length: 123, dtype: float64"
      ]
     },
     "execution_count": 24,
     "metadata": {},
     "output_type": "execute_result"
    }
   ],
   "source": [
    "mip.sum(axis=1)"
   ]
  },
  {
   "cell_type": "code",
   "execution_count": 20,
   "metadata": {
    "colab": {
     "base_uri": "https://localhost:8080/",
     "height": 982
    },
    "executionInfo": {
     "elapsed": 8,
     "status": "ok",
     "timestamp": 1716254447265,
     "user": {
      "displayName": "Miguel Angel De Lillo",
      "userId": "12740301071040614309"
     },
     "user_tz": 180
    },
    "id": "1QlB1w2xirkd",
    "outputId": "2fdbf7c1-844a-40ba-8f59-f1c8aebb9209"
   },
   "outputs": [
    {
     "data": {
      "text/html": [
       "<div>\n",
       "<style scoped>\n",
       "    .dataframe tbody tr th:only-of-type {\n",
       "        vertical-align: middle;\n",
       "    }\n",
       "\n",
       "    .dataframe tbody tr th {\n",
       "        vertical-align: top;\n",
       "    }\n",
       "\n",
       "    .dataframe thead th {\n",
       "        text-align: right;\n",
       "    }\n",
       "</style>\n",
       "<table border=\"1\" class=\"dataframe\">\n",
       "  <thead>\n",
       "    <tr style=\"text-align: right;\">\n",
       "      <th></th>\n",
       "      <th>Cultivo de cereales, oleaginosas y forrajeras</th>\n",
       "      <th>Cultivo de hortalizas, legumbres, flores y plantas ornamentales</th>\n",
       "      <th>Cultivo de frutas y nueces</th>\n",
       "      <th>Cultivos industriales</th>\n",
       "      <th>Producción de semillas</th>\n",
       "      <th>Cría de ganado y producción de leche, lana y pelos</th>\n",
       "      <th>Producción de granja</th>\n",
       "      <th>Servicios agropecuarios</th>\n",
       "      <th>Caza</th>\n",
       "      <th>Silvicultura y extracción de madera</th>\n",
       "      <th>...</th>\n",
       "      <th>Enseñanza pública</th>\n",
       "      <th>Enseñanza privada</th>\n",
       "      <th>Salud humana pública</th>\n",
       "      <th>Salud humana privada</th>\n",
       "      <th>Servicios veterinarios</th>\n",
       "      <th>Servicios sociales</th>\n",
       "      <th>Servicios de saneamiento</th>\n",
       "      <th>Actividad de asociaciones</th>\n",
       "      <th>Servicios de cine, radio y televisión</th>\n",
       "      <th>Servicios personales, de reparación, actividades deportivas y de esparcimiento</th>\n",
       "    </tr>\n",
       "  </thead>\n",
       "  <tbody>\n",
       "    <tr>\n",
       "      <th>Servicios a las empresas y profesionales</th>\n",
       "      <td>0.000718</td>\n",
       "      <td>0.000166</td>\n",
       "      <td>0.000114</td>\n",
       "      <td>0.000190</td>\n",
       "      <td>0.000093</td>\n",
       "      <td>0.000793</td>\n",
       "      <td>0.000473</td>\n",
       "      <td>0.000121</td>\n",
       "      <td>0.000001</td>\n",
       "      <td>0.000347</td>\n",
       "      <td>...</td>\n",
       "      <td>0.003929</td>\n",
       "      <td>0.010216</td>\n",
       "      <td>0.007436</td>\n",
       "      <td>0.029850</td>\n",
       "      <td>0.000095</td>\n",
       "      <td>0.001394</td>\n",
       "      <td>0.026819</td>\n",
       "      <td>0.016192</td>\n",
       "      <td>0.018584</td>\n",
       "      <td>0.027990</td>\n",
       "    </tr>\n",
       "    <tr>\n",
       "      <th>Salud humana privada</th>\n",
       "      <td>0.001309</td>\n",
       "      <td>0.000479</td>\n",
       "      <td>0.000722</td>\n",
       "      <td>0.001434</td>\n",
       "      <td>0.000125</td>\n",
       "      <td>0.001237</td>\n",
       "      <td>0.000422</td>\n",
       "      <td>0.000105</td>\n",
       "      <td>0.000002</td>\n",
       "      <td>0.000187</td>\n",
       "      <td>...</td>\n",
       "      <td>0.014183</td>\n",
       "      <td>0.010809</td>\n",
       "      <td>0.149871</td>\n",
       "      <td>0.752836</td>\n",
       "      <td>0.003269</td>\n",
       "      <td>0.005645</td>\n",
       "      <td>0.000000</td>\n",
       "      <td>0.000708</td>\n",
       "      <td>0.000055</td>\n",
       "      <td>0.017979</td>\n",
       "    </tr>\n",
       "  </tbody>\n",
       "</table>\n",
       "<p>2 rows × 123 columns</p>\n",
       "</div>"
      ],
      "text/plain": [
       "                                          Cultivo de cereales, oleaginosas y forrajeras  \\\n",
       "Servicios a las empresas y profesionales                                       0.000718   \n",
       "Salud humana privada                                                           0.001309   \n",
       "\n",
       "                                          Cultivo de hortalizas, legumbres, flores y plantas ornamentales  \\\n",
       "Servicios a las empresas y profesionales                                           0.000166                 \n",
       "Salud humana privada                                                               0.000479                 \n",
       "\n",
       "                                          Cultivo de frutas y nueces  \\\n",
       "Servicios a las empresas y profesionales                    0.000114   \n",
       "Salud humana privada                                        0.000722   \n",
       "\n",
       "                                          Cultivos industriales  \\\n",
       "Servicios a las empresas y profesionales               0.000190   \n",
       "Salud humana privada                                   0.001434   \n",
       "\n",
       "                                          Producción de semillas  \\\n",
       "Servicios a las empresas y profesionales                0.000093   \n",
       "Salud humana privada                                    0.000125   \n",
       "\n",
       "                                          Cría de ganado y producción de leche, lana y pelos  \\\n",
       "Servicios a las empresas y profesionales                                           0.000793    \n",
       "Salud humana privada                                                               0.001237    \n",
       "\n",
       "                                          Producción de granja  \\\n",
       "Servicios a las empresas y profesionales              0.000473   \n",
       "Salud humana privada                                  0.000422   \n",
       "\n",
       "                                          Servicios agropecuarios      Caza  \\\n",
       "Servicios a las empresas y profesionales                 0.000121  0.000001   \n",
       "Salud humana privada                                     0.000105  0.000002   \n",
       "\n",
       "                                          Silvicultura y extracción de madera  \\\n",
       "Servicios a las empresas y profesionales                             0.000347   \n",
       "Salud humana privada                                                 0.000187   \n",
       "\n",
       "                                          ...  Enseñanza pública  \\\n",
       "Servicios a las empresas y profesionales  ...           0.003929   \n",
       "Salud humana privada                      ...           0.014183   \n",
       "\n",
       "                                          Enseñanza privada  \\\n",
       "Servicios a las empresas y profesionales           0.010216   \n",
       "Salud humana privada                               0.010809   \n",
       "\n",
       "                                          Salud humana pública  \\\n",
       "Servicios a las empresas y profesionales              0.007436   \n",
       "Salud humana privada                                  0.149871   \n",
       "\n",
       "                                          Salud humana privada  \\\n",
       "Servicios a las empresas y profesionales              0.029850   \n",
       "Salud humana privada                                  0.752836   \n",
       "\n",
       "                                          Servicios veterinarios  \\\n",
       "Servicios a las empresas y profesionales                0.000095   \n",
       "Salud humana privada                                    0.003269   \n",
       "\n",
       "                                          Servicios sociales  \\\n",
       "Servicios a las empresas y profesionales            0.001394   \n",
       "Salud humana privada                                0.005645   \n",
       "\n",
       "                                          Servicios de saneamiento  \\\n",
       "Servicios a las empresas y profesionales                  0.026819   \n",
       "Salud humana privada                                      0.000000   \n",
       "\n",
       "                                          Actividad de asociaciones  \\\n",
       "Servicios a las empresas y profesionales                   0.016192   \n",
       "Salud humana privada                                       0.000708   \n",
       "\n",
       "                                          Servicios de cine, radio y televisión  \\\n",
       "Servicios a las empresas y profesionales                               0.018584   \n",
       "Salud humana privada                                                   0.000055   \n",
       "\n",
       "                                          Servicios personales, de reparación, actividades deportivas y de esparcimiento  \n",
       "Servicios a las empresas y profesionales                                           0.027990                               \n",
       "Salud humana privada                                                               0.017979                               \n",
       "\n",
       "[2 rows x 123 columns]"
      ]
     },
     "execution_count": 20,
     "metadata": {},
     "output_type": "execute_result"
    }
   ],
   "source": [
    "mip.iloc[[110,116],:]"
   ]
  },
  {
   "cell_type": "code",
   "execution_count": null,
   "metadata": {
    "colab": {
     "base_uri": "https://localhost:8080/"
    },
    "executionInfo": {
     "elapsed": 6,
     "status": "ok",
     "timestamp": 1716254447265,
     "user": {
      "displayName": "Miguel Angel De Lillo",
      "userId": "12740301071040614309"
     },
     "user_tz": 180
    },
    "id": "8jiLYwuhqUB1",
    "outputId": "ef81146f-40de-4a92-8201-6e6b77cf5589"
   },
   "outputs": [
    {
     "data": {
      "text/plain": [
       "Index(['Cultivo de cereales, oleaginosas y forrajeras',\n",
       "       'Cultivo de hortalizas, legumbres, flores y plantas ornamentales',\n",
       "       'Cultivo de frutas y nueces', 'Cultivos industriales',\n",
       "       'Producción de semillas',\n",
       "       'Cría de ganado y producción de leche, lana y pelos',\n",
       "       'Producción de granja', 'Servicios agropecuarios', 'Caza',\n",
       "       'Silvicultura y extracción de madera',\n",
       "       ...\n",
       "       'Enseñanza pública', 'Enseñanza privada', 'Salud humana pública',\n",
       "       'Salud humana privada', 'Servicios veterinarios', 'Servicios sociales',\n",
       "       'Servicios de saneamiento', 'Actividad de asociaciones',\n",
       "       'Servicios de cine, radio y televisión',\n",
       "       'Servicios personales, de reparación, actividades deportivas y de esparcimiento'],\n",
       "      dtype='object', length=123)"
      ]
     },
     "execution_count": 211,
     "metadata": {},
     "output_type": "execute_result"
    }
   ],
   "source": [
    "mip.index"
   ]
  },
  {
   "cell_type": "code",
   "execution_count": 58,
   "metadata": {},
   "outputs": [],
   "source": [
    "mip.to_csv(\"../resources/MIP_normalizada.csv\")"
   ]
  },
  {
   "cell_type": "code",
   "execution_count": 26,
   "metadata": {
    "executionInfo": {
     "elapsed": 3,
     "status": "ok",
     "timestamp": 1716254468795,
     "user": {
      "displayName": "Miguel Angel De Lillo",
      "userId": "12740301071040614309"
     },
     "user_tz": 180
    },
    "id": "cn3KJcrVknnD"
   },
   "outputs": [],
   "source": [
    "graph = mip.copy()\n",
    "graph = graph.values"
   ]
  },
  {
   "cell_type": "code",
   "execution_count": 27,
   "metadata": {
    "executionInfo": {
     "elapsed": 4,
     "status": "ok",
     "timestamp": 1716254468796,
     "user": {
      "displayName": "Miguel Angel De Lillo",
      "userId": "12740301071040614309"
     },
     "user_tz": 180
    },
    "id": "hY2DMVdpkA2Y"
   },
   "outputs": [],
   "source": [
    "# Removemos aristas a si mismas, solo para graficar\n",
    "for i in range(mip.shape[0]):\n",
    "    graph[i,i] = 0"
   ]
  },
  {
   "cell_type": "code",
   "execution_count": 28,
   "metadata": {
    "colab": {
     "base_uri": "https://localhost:8080/"
    },
    "executionInfo": {
     "elapsed": 4,
     "status": "ok",
     "timestamp": 1716254474804,
     "user": {
      "displayName": "Miguel Angel De Lillo",
      "userId": "12740301071040614309"
     },
     "user_tz": 180
    },
    "id": "JKMhfW4sq_w_",
    "outputId": "8201ffe7-6ae6-4579-9a58-c4664e6ee77e"
   },
   "outputs": [
    {
     "data": {
      "text/plain": [
       "(123, 123)"
      ]
     },
     "execution_count": 28,
     "metadata": {},
     "output_type": "execute_result"
    }
   ],
   "source": [
    "graph.shape"
   ]
  },
  {
   "cell_type": "code",
   "execution_count": 29,
   "metadata": {
    "executionInfo": {
     "elapsed": 2,
     "status": "ok",
     "timestamp": 1716253516679,
     "user": {
      "displayName": "Miguel Angel De Lillo",
      "userId": "12740301071040614309"
     },
     "user_tz": 180
    },
    "id": "uqMEHGahmr5m"
   },
   "outputs": [],
   "source": [
    "g = nx.Graph(graph)"
   ]
  },
  {
   "cell_type": "code",
   "execution_count": 30,
   "metadata": {
    "colab": {
     "base_uri": "https://localhost:8080/",
     "height": 516
    },
    "executionInfo": {
     "elapsed": 979,
     "status": "ok",
     "timestamp": 1716253521097,
     "user": {
      "displayName": "Miguel Angel De Lillo",
      "userId": "12740301071040614309"
     },
     "user_tz": 180
    },
    "id": "KxeeGrg8nJKB",
    "outputId": "0b48bfea-86a6-44df-887b-7f5de8ad77c3"
   },
   "outputs": [
    {
     "data": {
      "image/png": "[encoded data removed]",
      "text/plain": [
       "<Figure size 432x288 with 1 Axes>"
      ]
     },
     "metadata": {},
     "output_type": "display_data"
    }
   ],
   "source": [
    "#Primer test\n",
    "nx.draw(g, pos=nx.spring_layout(g))"
   ]
  },
  {
   "cell_type": "code",
   "execution_count": null,
   "metadata": {
    "executionInfo": {
     "elapsed": 291,
     "status": "ok",
     "timestamp": 1716253830864,
     "user": {
      "displayName": "Miguel Angel De Lillo",
      "userId": "12740301071040614309"
     },
     "user_tz": 180
    },
    "id": "IDt6JvmOme8l"
   },
   "outputs": [],
   "source": [
    "?? qbn_plt.plot_graph # Uso esta implementación."
   ]
  },
  {
   "cell_type": "code",
   "execution_count": null,
   "metadata": {
    "executionInfo": {
     "elapsed": 2,
     "status": "ok",
     "timestamp": 1716255986512,
     "user": {
      "displayName": "Miguel Angel De Lillo",
      "userId": "12740301071040614309"
     },
     "user_tz": 180
    },
    "id": "qPMRMPY-vvB0"
   },
   "outputs": [],
   "source": [
    "grado_nodo = np.zeros(len(graph)) # Me fijo el grado de cada nodo segun un umbral. (No cuento aristas con poco peso)\n",
    "for i in range(len(graph)):\n",
    "  aristas = 0;\n",
    "  for j in range(len(graph)):\n",
    "    if graph[i][j] > 0.2:\n",
    "      aristas = aristas + 1\n",
    "  grado_nodo[i] = aristas\n"
   ]
  },
  {
   "cell_type": "code",
   "execution_count": null,
   "metadata": {
    "colab": {
     "base_uri": "https://localhost:8080/",
     "height": 921,
     "output_embedded_package_id": "1ZXksQMy9W19X_F_RVdtHjdSh3BjG1cJA"
    },
    "executionInfo": {
     "elapsed": 88238,
     "status": "ok",
     "timestamp": 1716257648044,
     "user": {
      "displayName": "Miguel Angel De Lillo",
      "userId": "12740301071040614309"
     },
     "user_tz": 180
    },
    "id": "b-dAuWHisyr2",
    "outputId": "a8307448-dd34-464c-86fd-56cfcc4078fa"
   },
   "outputs": [
    {
     "data": {
      "text/plain": [
       "Output hidden; open in https://colab.research.google.com to view."
      ]
     },
     "metadata": {},
     "output_type": "display_data"
    }
   ],
   "source": [
    "fig, ax = plt.subplots(figsize=(25, 25))\n",
    "plt.axis(\"off\")\n",
    "\n",
    "G = nx.DiGraph()\n",
    "N = len(graph)\n",
    "centrality = qbn_io.eigenvector_centrality(mip) #Funcion para sacar colores lindos para el grafo.\n",
    "colores_nodo = qbn_io.colorise_weights(centrality,beta=False)\n",
    "\n",
    "#Agrego nodos.\n",
    "for i, w in enumerate(valores_intermedios.iloc[:,0]):\n",
    "  G.add_node(mip.columns[i], weight = w, name=mip.columns[i])\n",
    "\n",
    "\n",
    "\n",
    "tamaños_nodo = 400 + (grado_nodo * 200)\n",
    "edge_colors = []\n",
    "edge_widths = []\n",
    "for i in range(N):\n",
    "  for j in range(N):\n",
    "    a = graph[i,j]\n",
    "    G.add_edge(mip.columns[i], mip.columns[j])\n",
    "    edge_colors.append(colores_nodo[i])\n",
    "    width = a\n",
    "    edge_widths.append(width)\n",
    "\n",
    "pos_nodos = nx.spring_layout(G)\n",
    "\n",
    "nx.draw_networkx_nodes(G,\n",
    "                       pos_nodos,\n",
    "                       node_color=colores_nodo,\n",
    "                       node_size=tamaños_nodo,\n",
    "                       edgecolors='grey',\n",
    "                       linewidths=10,\n",
    "                       alpha=0.6,\n",
    "                       ax=ax\n",
    "                       )\n",
    "\n",
    "nx.draw_networkx_edges(G,\n",
    "                      pos_nodos,\n",
    "                      edge_color=edge_colors,\n",
    "                      width=edge_widths,\n",
    "                      arrows=True,\n",
    "                      arrowsize=5,\n",
    "                      alpha=0.6,\n",
    "                      ax=ax,\n",
    "                      arrowstyle='->',\n",
    "                      node_size= 10,\n",
    "                      connectionstyle='arc3,rad=0.15')\n",
    "\n",
    "nx.draw_networkx_labels(G,\n",
    "                       pos_nodos,\n",
    "                       font_size=7,\n",
    "                       ax=ax\n",
    ")\n",
    "\n",
    "\n",
    "plt.show()"
   ]
  },
  {
   "cell_type": "code",
   "execution_count": null,
   "metadata": {
    "id": "7twySkOr5iYK"
   },
   "outputs": [],
   "source": []
  }
 ],
 "metadata": {
  "colab": {
   "authorship_tag": "ABX9TyN7FjIljPznoHp5H4I76F6S",
   "provenance": []
  },
  "kernelspec": {
   "display_name": "Python 3 (ipykernel)",
   "language": "python",
   "name": "python3"
  },
  "language_info": {
   "codemirror_mode": {
    "name": "ipython",
    "version": 3
   },
   "file_extension": ".py",
   "mimetype": "text/x-python",
   "name": "python",
   "nbconvert_exporter": "python",
   "pygments_lexer": "ipython3",
   "version": "3.10.12"
  }
 },
 "nbformat": 4,
 "nbformat_minor": 0
}
