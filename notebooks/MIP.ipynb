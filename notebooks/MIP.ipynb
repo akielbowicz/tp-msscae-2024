{
 "cells": [
  {
   "cell_type": "code",
   "execution_count": 23,
   "metadata": {
    "colab": {
     "base_uri": "https://localhost:8080/"
    },
    "executionInfo": {
     "elapsed": 9529,
     "status": "ok",
     "timestamp": 1716250365441,
     "user": {
      "displayName": "Miguel Angel De Lillo",
      "userId": "12740301071040614309"
     },
     "user_tz": 180
    },
    "id": "y-RciNGzfgN6",
    "outputId": "eebe7165-96fb-4804-9e81-42223e83388e"
   },
   "outputs": [
    {
     "name": "stdout",
     "output_type": "stream",
     "text": [
      "Defaulting to user installation because normal site-packages is not writeable\n",
      "Requirement already satisfied: quantecon_book_networks in /home/Estudiante/.local/lib/python3.10/site-packages (1.1)\n",
      "Requirement already satisfied: numpy in /usr/lib/python3/dist-packages (from quantecon_book_networks) (1.21.5)\n",
      "Requirement already satisfied: scipy in /usr/lib/python3/dist-packages (from quantecon_book_networks) (1.8.0)\n",
      "Requirement already satisfied: matplotlib in /usr/lib/python3/dist-packages (from quantecon_book_networks) (3.5.1)\n",
      "Requirement already satisfied: pandas-datareader in /home/Estudiante/.local/lib/python3.10/site-packages (from quantecon_book_networks) (0.10.0)\n",
      "Requirement already satisfied: quantecon in /home/Estudiante/.local/lib/python3.10/site-packages (from quantecon_book_networks) (0.7.2)\n",
      "Requirement already satisfied: POT in /home/Estudiante/.local/lib/python3.10/site-packages (from quantecon_book_networks) (0.9.3)\n",
      "Requirement already satisfied: networkx in /usr/local/lib/python3.10/dist-packages (from quantecon_book_networks) (3.2.1)\n",
      "Requirement already satisfied: pandas in /usr/lib/python3/dist-packages (from quantecon_book_networks) (1.3.5)\n",
      "Requirement already satisfied: requests>=2.19.0 in /usr/local/lib/python3.10/dist-packages (from pandas-datareader->quantecon_book_networks) (2.31.0)\n",
      "Requirement already satisfied: lxml in /usr/lib/python3/dist-packages (from pandas-datareader->quantecon_book_networks) (4.8.0)\n",
      "Requirement already satisfied: numba>=0.49.0 in /usr/lib/python3/dist-packages (from quantecon->quantecon_book_networks) (0.55.1)\n",
      "Requirement already satisfied: sympy in /usr/lib/python3/dist-packages (from quantecon->quantecon_book_networks) (1.9)\n",
      "Requirement already satisfied: certifi>=2017.4.17 in /usr/lib/python3/dist-packages (from requests>=2.19.0->pandas-datareader->quantecon_book_networks) (2020.6.20)\n",
      "Requirement already satisfied: idna<4,>=2.5 in /usr/lib/python3/dist-packages (from requests>=2.19.0->pandas-datareader->quantecon_book_networks) (3.3)\n",
      "Requirement already satisfied: charset-normalizer<4,>=2 in /usr/local/lib/python3.10/dist-packages (from requests>=2.19.0->pandas-datareader->quantecon_book_networks) (3.3.2)\n",
      "Requirement already satisfied: urllib3<3,>=1.21.1 in /usr/lib/python3/dist-packages (from requests>=2.19.0->pandas-datareader->quantecon_book_networks) (1.26.5)\n"
     ]
    }
   ],
   "source": [
    "!pip install quantecon_book_networks"
   ]
  },
  {
   "cell_type": "code",
   "execution_count": 24,
   "metadata": {
    "ExecuteTime": {
     "end_time": "2024-06-02T02:48:19.494156600Z",
     "start_time": "2024-06-02T02:48:16.422646800Z"
    },
    "executionInfo": {
     "elapsed": 6,
     "status": "ok",
     "timestamp": 1716249194291,
     "user": {
      "displayName": "Miguel Angel De Lillo",
      "userId": "12740301071040614309"
     },
     "user_tz": 180
    },
    "id": "di3B8d-aZzst"
   },
   "outputs": [],
   "source": [
    "import pandas as pd"
   ]
  },
  {
   "cell_type": "code",
   "execution_count": 25,
   "metadata": {
    "ExecuteTime": {
     "end_time": "2024-06-02T02:48:37.984249900Z",
     "start_time": "2024-06-02T02:48:27.978164500Z"
    },
    "executionInfo": {
     "elapsed": 1410,
     "status": "ok",
     "timestamp": 1716250371441,
     "user": {
      "displayName": "Miguel Angel De Lillo",
      "userId": "12740301071040614309"
     },
     "user_tz": 180
    },
    "id": "VSfaO-96fdMx"
   },
   "outputs": [],
   "source": [
    "import networkx as nx\n",
    "import matplotlib.pyplot as plt\n",
    "import quantecon_book_networks\n",
    "import quantecon_book_networks.input_output as qbn_io\n",
    "import quantecon_book_networks.plotting as qbn_plt\n",
    "import quantecon_book_networks.data as qbn_data\n",
    "import matplotlib as mpl\n",
    "from matplotlib.patches import Polygon"
   ]
  },
  {
   "cell_type": "code",
   "execution_count": 26,
   "metadata": {
    "ExecuteTime": {
     "end_time": "2024-06-02T02:48:38.015977700Z",
     "start_time": "2024-06-02T02:48:37.985248200Z"
    },
    "executionInfo": {
     "elapsed": 3,
     "status": "ok",
     "timestamp": 1716255735953,
     "user": {
      "displayName": "Miguel Angel De Lillo",
      "userId": "12740301071040614309"
     },
     "user_tz": 180
    },
    "id": "wP_k0Gn-0DKU"
   },
   "outputs": [],
   "source": [
    "import numpy as np"
   ]
  },
  {
   "cell_type": "code",
   "execution_count": 27,
   "metadata": {
    "ExecuteTime": {
     "end_time": "2024-06-02T14:12:22.507893Z",
     "start_time": "2024-06-02T14:12:22.416054900Z"
    },
    "executionInfo": {
     "elapsed": 2,
     "status": "ok",
     "timestamp": 1716254442070,
     "user": {
      "displayName": "Miguel Angel De Lillo",
      "userId": "12740301071040614309"
     },
     "user_tz": 180
    },
    "id": "8tnY8BgsbGuA"
   },
   "outputs": [],
   "source": [
    "mip = pd.read_csv('../resources/MIP  - Hoja 1 (2).csv', index_col=0)"
   ]
  },
  {
   "cell_type": "code",
   "execution_count": 28,
   "metadata": {
    "ExecuteTime": {
     "end_time": "2024-06-02T14:12:30.522120900Z",
     "start_time": "2024-06-02T14:12:30.487539700Z"
    },
    "executionInfo": {
     "elapsed": 3,
     "status": "ok",
     "timestamp": 1716254442451,
     "user": {
      "displayName": "Miguel Angel De Lillo",
      "userId": "12740301071040614309"
     },
     "user_tz": 180
    },
    "id": "cThvKoisbJKW"
   },
   "outputs": [],
   "source": [
    "columnas = mip.columns"
   ]
  },
  {
   "cell_type": "code",
   "execution_count": 29,
   "metadata": {
    "ExecuteTime": {
     "end_time": "2024-06-02T14:12:31.753193900Z",
     "start_time": "2024-06-02T14:12:31.679887100Z"
    },
    "executionInfo": {
     "elapsed": 3,
     "status": "ok",
     "timestamp": 1716254442452,
     "user": {
      "displayName": "Miguel Angel De Lillo",
      "userId": "12740301071040614309"
     },
     "user_tz": 180
    },
    "id": "Ppgaix0abY4M"
   },
   "outputs": [],
   "source": [
    "for col in columnas:\n",
    "  mip[col] = mip[col].astype(float)"
   ]
  },
  {
   "cell_type": "code",
   "execution_count": 30,
   "metadata": {},
   "outputs": [
    {
     "data": {
      "text/plain": [
       "(['Enseñanza pública', 'Salud humana pública', 'Servicios sociales'], [])"
      ]
     },
     "execution_count": 30,
     "metadata": {},
     "output_type": "execute_result"
    }
   ],
   "source": [
    "# no los vamos a droppear porque participan en el grafo aunque solo como sumideros\n",
    "to_drop_by_row = [ col for col in columnas\n",
    "   if (mip.loc[col,:].sum() == 0.0)]\n",
    "\n",
    "to_drop_by_col = [ col for col in columnas\n",
    "   if (mip.loc[:, col].sum() == 0.0)]\n",
    "\n",
    "to_drop_by_row, to_drop_by_col"
   ]
  },
  {
   "cell_type": "code",
   "execution_count": null,
   "metadata": {},
   "outputs": [],
   "source": []
  },
  {
   "cell_type": "code",
   "execution_count": 31,
   "metadata": {
    "colab": {
     "base_uri": "https://localhost:8080/"
    },
    "executionInfo": {
     "elapsed": 7,
     "status": "ok",
     "timestamp": 1716254442777,
     "user": {
      "displayName": "Miguel Angel De Lillo",
      "userId": "12740301071040614309"
     },
     "user_tz": 180
    },
    "id": "GMMObkLRct-f",
    "outputId": "64b2afa6-ae2f-49c1-a13f-c0578415c458"
   },
   "outputs": [
    {
     "data": {
      "text/plain": [
       "Cultivo de cereales, oleaginosas y forrajeras                                     5763508.02\n",
       "Cultivo de hortalizas, legumbres, flores y plantas ornamentales                    557481.67\n",
       "Cultivo de frutas y nueces                                                         407583.33\n",
       "Cultivos industriales                                                             1582424.83\n",
       "Producción de semillas                                                             715253.18\n",
       "                                                                                     ...    \n",
       "Servicios sociales                                                                      0.00\n",
       "Servicios de saneamiento                                                            27389.77\n",
       "Actividad de asociaciones                                                          515534.08\n",
       "Servicios de cine, radio y televisión                                             1304582.63\n",
       "Servicios personales, de reparación, actividades deportivas y de esparcimiento    5117307.93\n",
       "Length: 123, dtype: float64"
      ]
     },
     "execution_count": 31,
     "metadata": {},
     "output_type": "execute_result"
    }
   ],
   "source": [
    "mip.sum(axis=1)"
   ]
  },
  {
   "cell_type": "code",
   "execution_count": 32,
   "metadata": {
    "executionInfo": {
     "elapsed": 3105,
     "status": "ok",
     "timestamp": 1716254447264,
     "user": {
      "displayName": "Miguel Angel De Lillo",
      "userId": "12740301071040614309"
     },
     "user_tz": 180
    },
    "id": "Cdy0lEZvfTpV"
   },
   "outputs": [],
   "source": [
    "# Armo la matriz de coeficientes técnicos.\n",
    "#El secotr en la fila i le vende al sector en la columna j. En el grafo se representa como i --> j.\n",
    "\n",
    "for i in range(mip.shape[0]):\n",
    "  suma = mip.iloc[i,:].sum()\n",
    "  if suma > 0.0:\n",
    "    mip.iloc[i,:] /= suma"
   ]
  },
  {
   "cell_type": "code",
   "execution_count": 33,
   "metadata": {},
   "outputs": [
    {
     "data": {
      "text/plain": [
       "Cultivo de cereales, oleaginosas y forrajeras                                     1.0\n",
       "Cultivo de hortalizas, legumbres, flores y plantas ornamentales                   1.0\n",
       "Cultivo de frutas y nueces                                                        1.0\n",
       "Cultivos industriales                                                             1.0\n",
       "Producción de semillas                                                            1.0\n",
       "                                                                                 ... \n",
       "Servicios sociales                                                                0.0\n",
       "Servicios de saneamiento                                                          1.0\n",
       "Actividad de asociaciones                                                         1.0\n",
       "Servicios de cine, radio y televisión                                             1.0\n",
       "Servicios personales, de reparación, actividades deportivas y de esparcimiento    1.0\n",
       "Length: 123, dtype: float64"
      ]
     },
     "execution_count": 33,
     "metadata": {},
     "output_type": "execute_result"
    }
   ],
   "source": [
    "mip.sum(axis=1)"
   ]
  },
  {
   "cell_type": "code",
   "execution_count": 34,
   "metadata": {
    "colab": {
     "base_uri": "https://localhost:8080/",
     "height": 982
    },
    "executionInfo": {
     "elapsed": 8,
     "status": "ok",
     "timestamp": 1716254447265,
     "user": {
      "displayName": "Miguel Angel De Lillo",
      "userId": "12740301071040614309"
     },
     "user_tz": 180
    },
    "id": "1QlB1w2xirkd",
    "outputId": "2fdbf7c1-844a-40ba-8f59-f1c8aebb9209"
   },
   "outputs": [
    {
     "data": {
      "text/html": [
       "<div>\n",
       "<style scoped>\n",
       "    .dataframe tbody tr th:only-of-type {\n",
       "        vertical-align: middle;\n",
       "    }\n",
       "\n",
       "    .dataframe tbody tr th {\n",
       "        vertical-align: top;\n",
       "    }\n",
       "\n",
       "    .dataframe thead th {\n",
       "        text-align: right;\n",
       "    }\n",
       "</style>\n",
       "<table border=\"1\" class=\"dataframe\">\n",
       "  <thead>\n",
       "    <tr style=\"text-align: right;\">\n",
       "      <th></th>\n",
       "      <th>Cultivo de cereales, oleaginosas y forrajeras</th>\n",
       "      <th>Cultivo de hortalizas, legumbres, flores y plantas ornamentales</th>\n",
       "      <th>Cultivo de frutas y nueces</th>\n",
       "      <th>Cultivos industriales</th>\n",
       "      <th>Producción de semillas</th>\n",
       "      <th>Cría de ganado y producción de leche, lana y pelos</th>\n",
       "      <th>Producción de granja</th>\n",
       "      <th>Servicios agropecuarios</th>\n",
       "      <th>Caza</th>\n",
       "      <th>Silvicultura y extracción de madera</th>\n",
       "      <th>...</th>\n",
       "      <th>Enseñanza pública</th>\n",
       "      <th>Enseñanza privada</th>\n",
       "      <th>Salud humana pública</th>\n",
       "      <th>Salud humana privada</th>\n",
       "      <th>Servicios veterinarios</th>\n",
       "      <th>Servicios sociales</th>\n",
       "      <th>Servicios de saneamiento</th>\n",
       "      <th>Actividad de asociaciones</th>\n",
       "      <th>Servicios de cine, radio y televisión</th>\n",
       "      <th>Servicios personales, de reparación, actividades deportivas y de esparcimiento</th>\n",
       "    </tr>\n",
       "  </thead>\n",
       "  <tbody>\n",
       "    <tr>\n",
       "      <th>Servicios a las empresas y profesionales</th>\n",
       "      <td>0.000718</td>\n",
       "      <td>0.000166</td>\n",
       "      <td>0.000114</td>\n",
       "      <td>0.000190</td>\n",
       "      <td>0.000093</td>\n",
       "      <td>0.000793</td>\n",
       "      <td>0.000473</td>\n",
       "      <td>0.000121</td>\n",
       "      <td>0.000001</td>\n",
       "      <td>0.000347</td>\n",
       "      <td>...</td>\n",
       "      <td>0.003929</td>\n",
       "      <td>0.010216</td>\n",
       "      <td>0.007436</td>\n",
       "      <td>0.029850</td>\n",
       "      <td>0.000095</td>\n",
       "      <td>0.001394</td>\n",
       "      <td>0.026819</td>\n",
       "      <td>0.016192</td>\n",
       "      <td>0.018584</td>\n",
       "      <td>0.027990</td>\n",
       "    </tr>\n",
       "    <tr>\n",
       "      <th>Salud humana privada</th>\n",
       "      <td>0.001309</td>\n",
       "      <td>0.000479</td>\n",
       "      <td>0.000722</td>\n",
       "      <td>0.001434</td>\n",
       "      <td>0.000125</td>\n",
       "      <td>0.001237</td>\n",
       "      <td>0.000422</td>\n",
       "      <td>0.000105</td>\n",
       "      <td>0.000002</td>\n",
       "      <td>0.000187</td>\n",
       "      <td>...</td>\n",
       "      <td>0.014183</td>\n",
       "      <td>0.010809</td>\n",
       "      <td>0.149871</td>\n",
       "      <td>0.752836</td>\n",
       "      <td>0.003269</td>\n",
       "      <td>0.005645</td>\n",
       "      <td>0.000000</td>\n",
       "      <td>0.000708</td>\n",
       "      <td>0.000055</td>\n",
       "      <td>0.017979</td>\n",
       "    </tr>\n",
       "  </tbody>\n",
       "</table>\n",
       "<p>2 rows × 123 columns</p>\n",
       "</div>"
      ],
      "text/plain": [
       "                                          Cultivo de cereales, oleaginosas y forrajeras  \\\n",
       "Servicios a las empresas y profesionales                                       0.000718   \n",
       "Salud humana privada                                                           0.001309   \n",
       "\n",
       "                                          Cultivo de hortalizas, legumbres, flores y plantas ornamentales  \\\n",
       "Servicios a las empresas y profesionales                                           0.000166                 \n",
       "Salud humana privada                                                               0.000479                 \n",
       "\n",
       "                                          Cultivo de frutas y nueces  \\\n",
       "Servicios a las empresas y profesionales                    0.000114   \n",
       "Salud humana privada                                        0.000722   \n",
       "\n",
       "                                          Cultivos industriales  \\\n",
       "Servicios a las empresas y profesionales               0.000190   \n",
       "Salud humana privada                                   0.001434   \n",
       "\n",
       "                                          Producción de semillas  \\\n",
       "Servicios a las empresas y profesionales                0.000093   \n",
       "Salud humana privada                                    0.000125   \n",
       "\n",
       "                                          Cría de ganado y producción de leche, lana y pelos  \\\n",
       "Servicios a las empresas y profesionales                                           0.000793    \n",
       "Salud humana privada                                                               0.001237    \n",
       "\n",
       "                                          Producción de granja  \\\n",
       "Servicios a las empresas y profesionales              0.000473   \n",
       "Salud humana privada                                  0.000422   \n",
       "\n",
       "                                          Servicios agropecuarios      Caza  \\\n",
       "Servicios a las empresas y profesionales                 0.000121  0.000001   \n",
       "Salud humana privada                                     0.000105  0.000002   \n",
       "\n",
       "                                          Silvicultura y extracción de madera  \\\n",
       "Servicios a las empresas y profesionales                             0.000347   \n",
       "Salud humana privada                                                 0.000187   \n",
       "\n",
       "                                          ...  Enseñanza pública  \\\n",
       "Servicios a las empresas y profesionales  ...           0.003929   \n",
       "Salud humana privada                      ...           0.014183   \n",
       "\n",
       "                                          Enseñanza privada  \\\n",
       "Servicios a las empresas y profesionales           0.010216   \n",
       "Salud humana privada                               0.010809   \n",
       "\n",
       "                                          Salud humana pública  \\\n",
       "Servicios a las empresas y profesionales              0.007436   \n",
       "Salud humana privada                                  0.149871   \n",
       "\n",
       "                                          Salud humana privada  \\\n",
       "Servicios a las empresas y profesionales              0.029850   \n",
       "Salud humana privada                                  0.752836   \n",
       "\n",
       "                                          Servicios veterinarios  \\\n",
       "Servicios a las empresas y profesionales                0.000095   \n",
       "Salud humana privada                                    0.003269   \n",
       "\n",
       "                                          Servicios sociales  \\\n",
       "Servicios a las empresas y profesionales            0.001394   \n",
       "Salud humana privada                                0.005645   \n",
       "\n",
       "                                          Servicios de saneamiento  \\\n",
       "Servicios a las empresas y profesionales                  0.026819   \n",
       "Salud humana privada                                      0.000000   \n",
       "\n",
       "                                          Actividad de asociaciones  \\\n",
       "Servicios a las empresas y profesionales                   0.016192   \n",
       "Salud humana privada                                       0.000708   \n",
       "\n",
       "                                          Servicios de cine, radio y televisión  \\\n",
       "Servicios a las empresas y profesionales                               0.018584   \n",
       "Salud humana privada                                                   0.000055   \n",
       "\n",
       "                                          Servicios personales, de reparación, actividades deportivas y de esparcimiento  \n",
       "Servicios a las empresas y profesionales                                           0.027990                               \n",
       "Salud humana privada                                                               0.017979                               \n",
       "\n",
       "[2 rows x 123 columns]"
      ]
     },
     "execution_count": 34,
     "metadata": {},
     "output_type": "execute_result"
    }
   ],
   "source": [
    "mip.iloc[[110,116],:]"
   ]
  },
  {
   "cell_type": "code",
   "execution_count": 35,
   "metadata": {
    "colab": {
     "base_uri": "https://localhost:8080/"
    },
    "executionInfo": {
     "elapsed": 6,
     "status": "ok",
     "timestamp": 1716254447265,
     "user": {
      "displayName": "Miguel Angel De Lillo",
      "userId": "12740301071040614309"
     },
     "user_tz": 180
    },
    "id": "8jiLYwuhqUB1",
    "outputId": "ef81146f-40de-4a92-8201-6e6b77cf5589"
   },
   "outputs": [
    {
     "data": {
      "text/plain": [
       "Index(['Cultivo de cereales, oleaginosas y forrajeras',\n",
       "       'Cultivo de hortalizas, legumbres, flores y plantas ornamentales',\n",
       "       'Cultivo de frutas y nueces', 'Cultivos industriales',\n",
       "       'Producción de semillas',\n",
       "       'Cría de ganado y producción de leche, lana y pelos',\n",
       "       'Producción de granja', 'Servicios agropecuarios', 'Caza',\n",
       "       'Silvicultura y extracción de madera',\n",
       "       ...\n",
       "       'Enseñanza pública', 'Enseñanza privada', 'Salud humana pública',\n",
       "       'Salud humana privada', 'Servicios veterinarios', 'Servicios sociales',\n",
       "       'Servicios de saneamiento', 'Actividad de asociaciones',\n",
       "       'Servicios de cine, radio y televisión',\n",
       "       'Servicios personales, de reparación, actividades deportivas y de esparcimiento'],\n",
       "      dtype='object', length=123)"
      ]
     },
     "execution_count": 35,
     "metadata": {},
     "output_type": "execute_result"
    }
   ],
   "source": [
    "mip.index"
   ]
  },
  {
   "cell_type": "code",
   "execution_count": 36,
   "metadata": {},
   "outputs": [],
   "source": [
    "mip.to_csv(\"../resources/MIP_normalizada.csv\")"
   ]
  },
  {
   "cell_type": "code",
   "execution_count": 37,
   "metadata": {
    "executionInfo": {
     "elapsed": 3,
     "status": "ok",
     "timestamp": 1716254468795,
     "user": {
      "displayName": "Miguel Angel De Lillo",
      "userId": "12740301071040614309"
     },
     "user_tz": 180
    },
    "id": "cn3KJcrVknnD"
   },
   "outputs": [],
   "source": [
    "graph = mip.copy()\n",
    "graph = graph.values"
   ]
  },
  {
   "cell_type": "code",
   "execution_count": 38,
   "metadata": {
    "executionInfo": {
     "elapsed": 4,
     "status": "ok",
     "timestamp": 1716254468796,
     "user": {
      "displayName": "Miguel Angel De Lillo",
      "userId": "12740301071040614309"
     },
     "user_tz": 180
    },
    "id": "hY2DMVdpkA2Y"
   },
   "outputs": [],
   "source": [
    "# Removemos aristas a si mismas, solo para graficar\n",
    "for i in range(mip.shape[0]):\n",
    "    graph[i,i] = 0"
   ]
  },
  {
   "cell_type": "code",
   "execution_count": 39,
   "metadata": {
    "colab": {
     "base_uri": "https://localhost:8080/"
    },
    "executionInfo": {
     "elapsed": 4,
     "status": "ok",
     "timestamp": 1716254474804,
     "user": {
      "displayName": "Miguel Angel De Lillo",
      "userId": "12740301071040614309"
     },
     "user_tz": 180
    },
    "id": "JKMhfW4sq_w_",
    "outputId": "8201ffe7-6ae6-4579-9a58-c4664e6ee77e"
   },
   "outputs": [
    {
     "data": {
      "text/plain": [
       "(123, 123)"
      ]
     },
     "execution_count": 39,
     "metadata": {},
     "output_type": "execute_result"
    }
   ],
   "source": [
    "graph.shape"
   ]
  },
  {
   "cell_type": "code",
   "execution_count": 40,
   "metadata": {
    "executionInfo": {
     "elapsed": 2,
     "status": "ok",
     "timestamp": 1716253516679,
     "user": {
      "displayName": "Miguel Angel De Lillo",
      "userId": "12740301071040614309"
     },
     "user_tz": 180
    },
    "id": "uqMEHGahmr5m"
   },
   "outputs": [],
   "source": [
    "g = nx.Graph(graph)"
   ]
  },
  {
   "cell_type": "code",
   "execution_count": 41,
   "metadata": {
    "colab": {
     "base_uri": "https://localhost:8080/",
     "height": 516
    },
    "executionInfo": {
     "elapsed": 979,
     "status": "ok",
     "timestamp": 1716253521097,
     "user": {
      "displayName": "Miguel Angel De Lillo",
      "userId": "12740301071040614309"
     },
     "user_tz": 180
    },
    "id": "KxeeGrg8nJKB",
    "outputId": "0b48bfea-86a6-44df-887b-7f5de8ad77c3"
   },
   "outputs": [
    {
     "data": {
      "image/png": "[encoded data removed]",
      "text/plain": [
       "<Figure size 432x288 with 1 Axes>"
      ]
     },
     "metadata": {},
     "output_type": "display_data"
    }
   ],
   "source": [
    "#Primer test\n",
    "nx.draw(g, pos=nx.spring_layout(g))"
   ]
  },
  {
   "cell_type": "code",
   "execution_count": 42,
   "metadata": {
    "executionInfo": {
     "elapsed": 291,
     "status": "ok",
     "timestamp": 1716253830864,
     "user": {
      "displayName": "Miguel Angel De Lillo",
      "userId": "12740301071040614309"
     },
     "user_tz": 180
    },
    "id": "IDt6JvmOme8l"
   },
   "outputs": [
    {
     "name": "stdout",
     "output_type": "stream",
     "text": [
      "Object ` qbn_plt.plot_graph # Uso esta implementación.` not found.\n"
     ]
    }
   ],
   "source": [
    "?? qbn_plt.plot_graph # Uso esta implementación."
   ]
  },
  {
   "cell_type": "code",
   "execution_count": 43,
   "metadata": {
    "executionInfo": {
     "elapsed": 2,
     "status": "ok",
     "timestamp": 1716255986512,
     "user": {
      "displayName": "Miguel Angel De Lillo",
      "userId": "12740301071040614309"
     },
     "user_tz": 180
    },
    "id": "qPMRMPY-vvB0"
   },
   "outputs": [],
   "source": [
    "grado_nodo = np.zeros(len(graph)) # Me fijo el grado de cada nodo segun un umbral. (No cuento aristas con poco peso)\n",
    "for i in range(len(graph)):\n",
    "  aristas = 0;\n",
    "  for j in range(len(graph)):\n",
    "    if graph[i][j] > 0.2:\n",
    "      aristas = aristas + 1\n",
    "  grado_nodo[i] = aristas\n"
   ]
  },
  {
   "cell_type": "code",
   "execution_count": 45,
   "metadata": {},
   "outputs": [
    {
     "data": {
      "text/plain": [
       "Cultivo de cereales, oleaginosas y forrajeras                                     1.031882e-02\n",
       "Cultivo de hortalizas, legumbres, flores y plantas ornamentales                   0.000000e+00\n",
       "Cultivo de frutas y nueces                                                        1.541931e-03\n",
       "Cultivos industriales                                                             1.600824e-03\n",
       "Producción de semillas                                                            0.000000e+00\n",
       "                                                                                      ...     \n",
       "Servicios sociales                                                                0.000000e+00\n",
       "Servicios de saneamiento                                                          0.000000e+00\n",
       "Actividad de asociaciones                                                         0.000000e+00\n",
       "Servicios de cine, radio y televisión                                             1.735054e-09\n",
       "Servicios personales, de reparación, actividades deportivas y de esparcimiento    3.256319e-03\n",
       "Name: Cultivo de cereales, oleaginosas y forrajeras, Length: 123, dtype: float64"
      ]
     },
     "execution_count": 45,
     "metadata": {},
     "output_type": "execute_result"
    }
   ],
   "source": [
    "mip.loc[mip.columns[0]]"
   ]
  },
  {
   "cell_type": "code",
   "execution_count": 46,
   "metadata": {},
   "outputs": [
    {
     "name": "stdout",
     "output_type": "stream",
     "text": [
      "\u001b[0;31mSignature:\u001b[0m \u001b[0mG\u001b[0m\u001b[0;34m.\u001b[0m\u001b[0madd_node\u001b[0m\u001b[0;34m(\u001b[0m\u001b[0mnode_for_adding\u001b[0m\u001b[0;34m,\u001b[0m \u001b[0;34m**\u001b[0m\u001b[0mattr\u001b[0m\u001b[0;34m)\u001b[0m\u001b[0;34m\u001b[0m\u001b[0;34m\u001b[0m\u001b[0m\n",
      "\u001b[0;31mDocstring:\u001b[0m\n",
      "Add a single node `node_for_adding` and update node attributes.\n",
      "\n",
      "Parameters\n",
      "----------\n",
      "node_for_adding : node\n",
      "    A node can be any hashable Python object except None.\n",
      "attr : keyword arguments, optional\n",
      "    Set or change node attributes using key=value.\n",
      "\n",
      "See Also\n",
      "--------\n",
      "add_nodes_from\n",
      "\n",
      "Examples\n",
      "--------\n",
      ">>> G = nx.Graph()  # or DiGraph, MultiGraph, MultiDiGraph, etc\n",
      ">>> G.add_node(1)\n",
      ">>> G.add_node(\"Hello\")\n",
      ">>> K3 = nx.Graph([(0, 1), (1, 2), (2, 0)])\n",
      ">>> G.add_node(K3)\n",
      ">>> G.number_of_nodes()\n",
      "3\n",
      "\n",
      "Use keywords set/change node attributes:\n",
      "\n",
      ">>> G.add_node(1, size=10)\n",
      ">>> G.add_node(3, weight=0.4, UTM=(\"13S\", 382871, 3972649))\n",
      "\n",
      "Notes\n",
      "-----\n",
      "A hashable object is one that can be used as a key in a Python\n",
      "dictionary. This includes strings, numbers, tuples of strings\n",
      "and numbers, etc.\n",
      "\n",
      "On many platforms hashable items also include mutables such as\n",
      "NetworkX Graphs, though one should be careful that the hash\n",
      "doesn't change on mutables.\n",
      "\u001b[0;31mFile:\u001b[0m      /usr/local/lib/python3.10/dist-packages/networkx/classes/digraph.py\n",
      "\u001b[0;31mType:\u001b[0m      method\n"
     ]
    }
   ],
   "source": [
    "G.add_node?"
   ]
  },
  {
   "cell_type": "code",
   "execution_count": 48,
   "metadata": {},
   "outputs": [
    {
     "data": {
      "text/plain": [
       "{0: array([-0.48892052,  0.7794883 ]),\n",
       " 1: array([-0.24189017, -0.91512273]),\n",
       " 2: array([0.69121175, 0.39643984]),\n",
       " 3: array([ 0.64587456, -0.62517416]),\n",
       " 4: array([-0.89373714, -0.02792231]),\n",
       " 5: array([0.86515254, 0.4235311 ]),\n",
       " 6: array([0.86632077, 0.05212657]),\n",
       " 7: array([-0.3973322, -0.9151535]),\n",
       " 8: array([-0.59341234,  0.70631867]),\n",
       " 9: array([0.88495207, 0.14246828]),\n",
       " 10: array([-0.00268871,  0.90935768]),\n",
       " 11: array([0.10363231, 0.90929398]),\n",
       " 12: array([-0.19829339,  0.85526033]),\n",
       " 13: array([-0.86715464, -0.2185836 ]),\n",
       " 14: array([0.01920413, 0.93626606]),\n",
       " 15: array([0.72769427, 0.66220031]),\n",
       " 16: array([ 0.29840335, -0.9624879 ]),\n",
       " 17: array([0.76275732, 0.50384242]),\n",
       " 18: array([0.83261959, 0.24754501]),\n",
       " 19: array([-0.31061907, -0.96163444]),\n",
       " 20: array([ 0.53481799, -0.67634137]),\n",
       " 21: array([-0.44952706, -0.86812592]),\n",
       " 22: array([-0.69744595,  0.6464472 ]),\n",
       " 23: array([ 0.89085948, -0.07596101]),\n",
       " 24: array([-0.74972531,  0.55663501]),\n",
       " 25: array([-0.80038676, -0.31244537]),\n",
       " 26: array([0.83649724, 0.37353552]),\n",
       " 27: array([ 0.70385097, -0.68970293]),\n",
       " 28: array([0.65151609, 0.6231963 ]),\n",
       " 29: array([ 0.92975598, -0.20574436]),\n",
       " 30: array([0.90384407, 0.30643728]),\n",
       " 31: array([-0.62749091, -0.7576039 ]),\n",
       " 32: array([ 0.6932049 , -0.53954982]),\n",
       " 33: array([-0.20292802, -0.98921157]),\n",
       " 34: array([0.94505661, 0.16256305]),\n",
       " 35: array([0.45853305, 0.80802929]),\n",
       " 36: array([-0.92940649, -0.29291951]),\n",
       " 37: array([0.21603592, 0.82511014]),\n",
       " 38: array([ 0.79168439, -0.33308753]),\n",
       " 39: array([ 0.14234432, -0.9199744 ]),\n",
       " 40: array([-0.79707195, -0.7266433 ]),\n",
       " 41: array([-0.95263534, -0.38969585]),\n",
       " 42: array([0.82867407, 0.00453486]),\n",
       " 43: array([-0.1197898 ,  0.81671192]),\n",
       " 44: array([-0.86208879,  0.257431  ]),\n",
       " 45: array([0.75443881, 0.21239152]),\n",
       " 46: array([ 0.8443442 , -0.15258508]),\n",
       " 47: array([0.71737371, 0.49248735]),\n",
       " 48: array([0.23398277, 0.90602615]),\n",
       " 49: array([0.55781597, 0.55976244]),\n",
       " 50: array([-0.85348265,  0.54673279]),\n",
       " 51: array([0.64503253, 0.69064026]),\n",
       " 52: array([-0.69692183,  0.54036164]),\n",
       " 53: array([-0.07766255, -0.93325832]),\n",
       " 54: array([0.81025361, 0.5143927 ]),\n",
       " 55: array([-0.70046805, -0.82361229]),\n",
       " 56: array([-0.97814669,  0.01325442]),\n",
       " 57: array([-0.86176131, -0.53023144]),\n",
       " 58: array([-0.24576755,  0.88199187]),\n",
       " 59: array([0.41779938, 0.7892428 ]),\n",
       " 60: array([-0.57193063,  0.66206995]),\n",
       " 61: array([-0.35251149,  0.79701504]),\n",
       " 62: array([ 0.23512102, -0.90422601]),\n",
       " 63: array([ 0.84456936, -0.24309588]),\n",
       " 64: array([ 0.18356638, -0.98674828]),\n",
       " 65: array([ 0.51513585, -0.76979159]),\n",
       " 66: array([ 0.85270744, -0.39794858]),\n",
       " 67: array([-0.88634199, -0.44792663]),\n",
       " 68: array([0.73302624, 0.58675573]),\n",
       " 69: array([-0.41104402,  0.79970649]),\n",
       " 70: array([ 0.77344933, -0.41725599]),\n",
       " 71: array([-0.68552559, -0.55493067]),\n",
       " 72: array([-0.70898522, -0.6467589 ]),\n",
       " 73: array([ 0.53146246, -0.86470526]),\n",
       " 74: array([ 0.41292946, -0.92868467]),\n",
       " 75: array([ 0.02660016, -0.95121645]),\n",
       " 76: array([-0.91531881,  0.25682299]),\n",
       " 77: array([-0.65595059,  0.73205209]),\n",
       " 78: array([0.3659673 , 0.81940712]),\n",
       " 79: array([-1.       ,  0.1093926]),\n",
       " 80: array([-0.83436619, -0.62683301]),\n",
       " 81: array([0.30256345, 0.82554515]),\n",
       " 82: array([0.77258826, 0.36190199]),\n",
       " 83: array([0.92837381, 0.06087825]),\n",
       " 84: array([ 0.04491111, -0.88439722]),\n",
       " 85: array([ 0.85008115, -0.32119308]),\n",
       " 86: array([-0.92320957,  0.36266938]),\n",
       " 87: array([ 0.74269486, -0.58495842]),\n",
       " 88: array([-0.11996126, -0.98870938]),\n",
       " 89: array([-0.86963269,  0.10324636]),\n",
       " 90: array([-0.86151815,  0.37724978]),\n",
       " 91: array([-0.2777428 ,  0.81417465]),\n",
       " 92: array([0.55936104, 0.62920172]),\n",
       " 93: array([ 0.746855  , -0.48050381]),\n",
       " 94: array([-0.14338395,  0.89387021]),\n",
       " 95: array([-0.07578203,  0.89846062]),\n",
       " 96: array([-0.54710404, -0.74849813]),\n",
       " 97: array([-0.55827502, -0.84745003]),\n",
       " 98: array([0.49430774, 0.75122941]),\n",
       " 99: array([ 0.69738866, -0.80093171]),\n",
       " 100: array([0.58723608, 0.75714261]),\n",
       " 101: array([ 0.05541862, -0.99793015]),\n",
       " 102: array([-0.95252576, -0.09456893]),\n",
       " 103: array([-0.46342842,  0.72380388]),\n",
       " 104: array([ 0.94869781, -0.02413716]),\n",
       " 105: array([0.00191011, 0.8314778 ]),\n",
       " 106: array([ 0.32697995, -0.89031636]),\n",
       " 107: array([ 0.40386425, -0.79978476]),\n",
       " 108: array([ 0.61467226, -0.74845235]),\n",
       " 109: array([ 0.9167466 , -0.12770861]),\n",
       " 110: array([-0.77468834, -0.53213391]),\n",
       " 111: array([-0.8544896,  0.4525625]),\n",
       " 112: array([-0.76433878,  0.67265086]),\n",
       " 113: array([0.10166625, 0.84661491]),\n",
       " 114: array([-0.80405768,  0.54346834]),\n",
       " 115: array([-0.5515043 ,  0.81726579]),\n",
       " 116: array([0.16662929, 0.91219085]),\n",
       " 117: array([0.30927024, 0.87889217]),\n",
       " 118: array([-0.95824519, -0.18910108]),\n",
       " 119: array([ 0.40811559, -0.83433535]),\n",
       " 120: array([0.55401174, 0.73746609]),\n",
       " 121: array([0.88027467, 0.23346529]),\n",
       " 122: array([-0.32837764,  0.87798872]),\n",
       " 'Cultivo de cereales, oleaginosas y forrajeras': array([-0.05112833, -0.03617717]),\n",
       " 'Cultivo de hortalizas, legumbres, flores y plantas ornamentales': array([-0.03322887, -0.02555647]),\n",
       " 'Cultivo de frutas y nueces': array([-0.0285443 , -0.03670197]),\n",
       " 'Cultivos industriales': array([-0.04827553, -0.05488018]),\n",
       " 'Producción de semillas': array([-0.04842512, -0.02636053]),\n",
       " 'Cría de ganado y producción de leche, lana y pelos': array([-0.03786327, -0.05118146]),\n",
       " 'Producción de granja': array([-0.05645608, -0.02422548]),\n",
       " 'Servicios agropecuarios': array([-0.04675837, -0.03699926]),\n",
       " 'Caza': array([-0.05593938, -0.03712741]),\n",
       " 'Silvicultura y extracción de madera': array([-0.04161817, -0.0312306 ]),\n",
       " 'Pesca': array([-0.04943727, -0.04123569]),\n",
       " 'Extracción de petróleo, gas, carbón y uranio': array([-0.03831726, -0.0506958 ]),\n",
       " 'Extracción de minerales metalíferos': array([-0.053072  , -0.03477994]),\n",
       " 'Extracción de otros minerales': array([-0.03047114, -0.0459098 ]),\n",
       " 'Matanza de animales, conservación y procesamiento de carnes': array([-0.06276419, -0.04289683]),\n",
       " 'Elaboración y conservación de pescado y productos de pescado': array([-0.04358161, -0.02124066]),\n",
       " 'Elaboración y conservación de frutas, legumbres y hortalizas': array([-0.04386797, -0.03167587]),\n",
       " 'Aceites y subproductos oleaginosos': array([-0.04237836, -0.02101426]),\n",
       " 'Productos lácteos': array([-0.0474229 , -0.05556809]),\n",
       " 'Molienda de trigo y de otros cereales': array([-0.03664089, -0.02806032]),\n",
       " 'Alimentos balanceados': array([-0.04082727, -0.04554232]),\n",
       " 'Productos de panadería': array([-0.05423277, -0.04373778]),\n",
       " 'Azúcar': array([-0.06219264, -0.03542521]),\n",
       " 'Cacao, chocolate y productos de confitería': array([-0.04063429, -0.02700148]),\n",
       " 'Pastas alimenticias': array([-0.05526832, -0.04891402]),\n",
       " 'Otros productos alimenticios': array([-0.05343066, -0.02253687]),\n",
       " 'Bebidas alcohólicas': array([-0.03501592, -0.0343752 ]),\n",
       " 'Producción vitivinícola': array([-0.06163781, -0.0317804 ]),\n",
       " 'Cerveza y malta': array([-0.0384936 , -0.03822945]),\n",
       " 'Gaseosas, agua mineral y otras bebidas no alcohólicas': array([-0.05565975, -0.02813145]),\n",
       " 'Productos de tabaco': array([-0.04305   , -0.05468316]),\n",
       " 'Fibras, hilados y tejeduría de productos textiles': array([-0.05245935, -0.03084755]),\n",
       " 'Acabado de productos textiles': array([-0.05736811, -0.04837736]),\n",
       " 'Fabricación de productos textiles': array([-0.06323515, -0.0369234 ]),\n",
       " 'Tejidos de punto': array([-0.03255959, -0.04866974]),\n",
       " 'Prendas de vestir, terminación y teñido de pieles': array([-0.05402847, -0.02866739]),\n",
       " 'Curtido y terminación de cueros': array([-0.05782234, -0.03345657]),\n",
       " 'Marroquinería y talabartería': array([-0.05093931, -0.02577993]),\n",
       " 'Calzado y sus partes': array([-0.04971353, -0.02477809]),\n",
       " 'Aserraderos': array([-0.03019452, -0.03965413]),\n",
       " 'Madera y sus productos': array([-0.03086207, -0.03083333]),\n",
       " 'Celulosa y papel': array([-0.06064244, -0.04154967]),\n",
       " 'Papel y cartón ondulado y envases de papel y cartón': array([-0.04945942, -0.04124507]),\n",
       " 'Productos de papel y cartón': array([-0.0620723 , -0.04495399]),\n",
       " 'Edición de libros, folletos, grabaciones y otras ediciones': array([-0.03850617, -0.05041676]),\n",
       " 'Edición de periódicos y revistas': array([-0.03953218, -0.05465142]),\n",
       " 'Impresiones y reproducción de grabaciones': array([-0.06272245, -0.03559246]),\n",
       " 'Refinación de petróleo': array([-0.04398894, -0.04426995]),\n",
       " 'Química básica': array([-0.03292359, -0.03754906]),\n",
       " 'Fertilizantes y plaguicidas': array([-0.03382801, -0.04179959]),\n",
       " 'Materias primas plásticas y caucho sintético': array([-0.06079961, -0.04797445]),\n",
       " 'Pinturas y barnices': array([-0.0470151 , -0.03288833]),\n",
       " 'Productos medicinales': array([-0.05454262, -0.03969115]),\n",
       " 'Jabones, detergentes y cosméticos': array([-0.04598005, -0.05229308]),\n",
       " 'Otros productos químicos': array([-0.04889015, -0.02009722]),\n",
       " 'Fibras sintéticas manufacturadas': array([-0.03936057, -0.02389806]),\n",
       " 'Cubiertas, cámaras y recauchutado de cubiertas': array([-0.0357908 , -0.05317769]),\n",
       " 'Productos de caucho': array([-0.05546253, -0.04964534]),\n",
       " 'Productos de plástico': array([-0.03019001, -0.04598557]),\n",
       " 'Vidrio y productos de vidrio': array([-0.03067495, -0.03059658]),\n",
       " 'Productos de cerámica refractaria y no refractaria para uso no estructural': array([-0.05224924, -0.0527762 ]),\n",
       " 'Arcilla y cerámica no refractaria para uso estructural': array([-0.05746576, -0.03285022]),\n",
       " 'Cemento, cal y yeso': array([-0.03651202, -0.04537466]),\n",
       " 'Artículos de hormigón, cemento y yeso': array([-0.05867432, -0.04301109]),\n",
       " 'Industrias básicas de hierro y acero': array([-0.03697229, -0.0410754 ]),\n",
       " 'Metalurgia de no ferrosos': array([-0.03733947, -0.02398053]),\n",
       " 'Fundición de metales': array([-0.03915001, -0.04320422]),\n",
       " 'Estructuras metálicas, tanques, depósitos y generadores de vapor': array([-0.03901187, -0.03424591]),\n",
       " 'Forja, laminado y tratamiento de metales': array([-0.05980715, -0.02886741]),\n",
       " 'Artículos de cuchillería y ferretería y herramientas de mano': array([-0.03766427, -0.02423147]),\n",
       " 'Otros productos metálicos': array([-0.03166628, -0.04404372]),\n",
       " 'Motores, turbinas, bombas y compresores': array([-0.02953626, -0.0354004 ]),\n",
       " 'Engranajes, hornos, elevadores y otras maquinarias de uso general': array([-0.02941811, -0.04037776]),\n",
       " 'Tractores y maquinaria agrícola': array([-0.032883  , -0.03754996]),\n",
       " 'Otra maquinaria de uso especial': array([-0.03227643, -0.04348388]),\n",
       " 'Aparatos de uso doméstico': array([-0.06051329, -0.04807828]),\n",
       " 'Máquinas de oficina e informática': array([-0.04100146, -0.0259579 ]),\n",
       " 'Motores, generadores y transformadores eléctricos': array([-0.04784809, -0.03753987]),\n",
       " 'Aparatos de control y distribución de energía eléctrica': array([-0.04440187, -0.0561698 ]),\n",
       " 'Hilos y cables aislados': array([-0.05987058, -0.04168715]),\n",
       " 'Acumuladores y pilas': array([-0.05990104, -0.02895351]),\n",
       " 'Lámparas eléctricas y equipos de iluminación': array([-0.04187439, -0.0521035 ]),\n",
       " 'Tubos y transmisores de radio, TV y telefonía': array([-0.04611839, -0.03286449]),\n",
       " 'Receptores de radio y TV': array([-0.03078574, -0.03065432]),\n",
       " 'Instrumentos médicos, ópticos y de precisión y relojes': array([-0.05096031, -0.02222733]),\n",
       " 'Vehículos automotores': array([-0.03496794, -0.04806823]),\n",
       " 'Carrocerías y remolques': array([-0.05677081, -0.0521787 ]),\n",
       " 'Autopartes': array([-0.03307212, -0.03183528]),\n",
       " 'Buques, locomotoras y aeronaves': array([-0.0526067 , -0.05261161]),\n",
       " 'Motocicletas, bicicletas y otros tipos de transportes': array([-0.056509  , -0.02462607]),\n",
       " 'Muebles y colchones': array([-0.04908827, -0.0471511 ]),\n",
       " 'Otras industrias manufactureras': array([-0.05795084, -0.03650985]),\n",
       " 'Electricidad': array([-0.05203436, -0.05188367]),\n",
       " 'Gas': array([-0.04557869, -0.04993523]),\n",
       " 'Agua': array([-0.05417118, -0.03953098]),\n",
       " 'Construcción': array([-0.06187841, -0.03179778]),\n",
       " 'Comercio mayorista': array([-0.05758978, -0.04619531]),\n",
       " 'Comercio minorista': array([-0.04850808, -0.04622359]),\n",
       " 'Hoteles': array([-0.05007767, -0.05565376]),\n",
       " 'Restaurantes': array([-0.04143872, -0.03824771]),\n",
       " 'Transporte terrestre de pasajeros': array([-0.0367809 , -0.03871193]),\n",
       " 'Transporte terrestre de carga': array([-0.04419471, -0.02196829]),\n",
       " 'Transporte por tuberías': array([-0.04440584, -0.02871628]),\n",
       " 'Transporte marítimo': array([-0.05382905, -0.04336416]),\n",
       " 'Transporte aéreo': array([-0.04333919, -0.0418944 ]),\n",
       " 'Actividades de transporte complementarias': array([-0.05983841, -0.02874791]),\n",
       " 'Correos': array([-0.05140774, -0.05104615]),\n",
       " 'Telecomunicaciones': array([-0.03693254, -0.02866756]),\n",
       " 'Instituciones Financieras': array([-0.05511283, -0.03280094]),\n",
       " 'Seguros': array([-0.06169747, -0.04110585]),\n",
       " 'Servicios a las empresas y profesionales': array([-0.03769254, -0.03254817]),\n",
       " 'Actividades inmobiliarias': array([-0.02914531, -0.04038386]),\n",
       " 'Administración pública y defensa y planes de la seguridad social de afiliación obligatoria': array([-0.0337823 , -0.02562764]),\n",
       " 'Enseñanza pública': array([-0.04154205, -0.05388557]),\n",
       " 'Enseñanza privada': array([-0.02957735, -0.03528523]),\n",
       " 'Salud humana pública': array([-0.05259994, -0.04468966]),\n",
       " 'Salud humana privada': array([-0.04415831, -0.02704964]),\n",
       " 'Servicios veterinarios': array([-0.0484687 , -0.02633065]),\n",
       " 'Servicios sociales': array([-0.04280005, -0.02334737]),\n",
       " 'Servicios de saneamiento': array([-0.03505447, -0.04803815]),\n",
       " 'Actividad de asociaciones': array([-0.04187703, -0.04778767]),\n",
       " 'Servicios de cine, radio y televisión': array([-0.04835313, -0.02148835]),\n",
       " 'Servicios personales, de reparación, actividades deportivas y de esparcimiento': array([-0.04076492, -0.03790709])}"
      ]
     },
     "execution_count": 48,
     "metadata": {},
     "output_type": "execute_result"
    }
   ],
   "source": [
    "pos_nodos"
   ]
  },
  {
   "cell_type": "code",
   "execution_count": 49,
   "metadata": {
    "colab": {
     "base_uri": "https://localhost:8080/",
     "height": 921,
     "output_embedded_package_id": "1ZXksQMy9W19X_F_RVdtHjdSh3BjG1cJA"
    },
    "executionInfo": {
     "elapsed": 88238,
     "status": "ok",
     "timestamp": 1716257648044,
     "user": {
      "displayName": "Miguel Angel De Lillo",
      "userId": "12740301071040614309"
     },
     "user_tz": 180
    },
    "id": "b-dAuWHisyr2",
    "outputId": "a8307448-dd34-464c-86fd-56cfcc4078fa"
   },
   "outputs": [],
   "source": [
    "fig, ax = plt.subplots(figsize=(25, 25))\n",
    "plt.axis(\"off\")\n",
    "\n",
    "G = nx.DiGraph()\n",
    "N = len(graph)\n",
    "centrality = qbn_io.eigenvector_centrality(mip) #Funcion para sacar colores lindos para el grafo.\n",
    "colores_nodo = qbn_io.colorise_weights(centrality,beta=False)\n",
    "\n",
    "#Agrego nodos.\n",
    "for i, col in enumerate(mip.columns):\n",
    "  G.add_node(col)\n",
    "\n",
    "\n",
    "\n",
    "tamaños_nodo = 400 + (grado_nodo * 200)\n",
    "edge_colors = []\n",
    "edge_widths = []\n",
    "for i in range(N):\n",
    "  for j in range(N):\n",
    "    a = graph[i,j]\n",
    "    G.add_edge(mip.columns[i], mip.columns[j])\n",
    "    edge_colors.append(colores_nodo[i])\n",
    "    width = a\n",
    "    edge_widths.append(width)\n",
    "\n",
    "pos_nodos = nx.spring_layout(G)\n",
    "\n",
    "nx.draw_networkx_nodes(G,\n",
    "                       pos_nodos,\n",
    "                       node_color=colores_nodo,\n",
    "                       node_size=tamaños_nodo,\n",
    "                       edgecolors='grey',\n",
    "                       linewidths=10,\n",
    "                       alpha=0.6,\n",
    "                       ax=ax\n",
    "                       )\n",
    "\n",
    "nx.draw_networkx_edges(G,\n",
    "                      pos_nodos,\n",
    "                      edge_color=edge_colors,\n",
    "                      width=edge_widths,\n",
    "                      arrows=True,\n",
    "                      arrowsize=5,\n",
    "                      alpha=0.6,\n",
    "                      ax=ax,\n",
    "                      arrowstyle='->',\n",
    "                      node_size= 10,\n",
    "                      connectionstyle='arc3,rad=0.15')\n",
    "\n",
    "nx.draw_networkx_labels(G,\n",
    "                       pos_nodos,\n",
    "                       font_size=7,\n",
    "                       ax=ax\n",
    ")\n",
    "\n",
    "\n",
    "plt.show()"
   ]
  },
  {
   "cell_type": "code",
   "execution_count": null,
   "metadata": {
    "id": "7twySkOr5iYK"
   },
   "outputs": [],
   "source": []
  }
 ],
 "metadata": {
  "colab": {
   "authorship_tag": "ABX9TyN7FjIljPznoHp5H4I76F6S",
   "provenance": []
  },
  "kernelspec": {
   "display_name": "Python 3 (ipykernel)",
   "language": "python",
   "name": "python3"
  },
  "language_info": {
   "codemirror_mode": {
    "name": "ipython",
    "version": 3
   },
   "file_extension": ".py",
   "mimetype": "text/x-python",
   "name": "python",
   "nbconvert_exporter": "python",
   "pygments_lexer": "ipython3",
   "version": "3.10.12"
  }
 },
 "nbformat": 4,
 "nbformat_minor": 0
}
